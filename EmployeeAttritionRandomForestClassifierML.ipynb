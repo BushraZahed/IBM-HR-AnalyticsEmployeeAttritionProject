{
 "cells": [
  {
   "cell_type": "markdown",
   "id": "6e022d29",
   "metadata": {},
   "source": [
    "<h2>What is Employee Attrition?</h2>\n",
    "According to Jobzology, “Staff attrition refers to the loss of employees through a natural process, such as retirement, resignation, elimination of a position, personal health, or other similar reasons. With attrition, an employer will not fill the vacancy left by the former employee.”\n",
    "\n",
    "<h2>Reasons to Predict Employee Attrition</h2>\n",
    "With machine learning, HR managers will be able to foresee vacant positions, team budget needs, what employee benefits they can improve to keep employees happy, what departments are the most and least likely to stay at a position for a length of time, and more. As a business, you can predict questions like,\n",
    "\n",
    "What causes employee churn?\n",
    "Why do we lose valuable employees?\n",
    "When will an employee most likely leave the company?\n",
    "> Predicting these things would save a lot of money in the long run. According to the Center of American Progress, “For positions that earn between $30,000 and $50,000 per year, the cost of replacement was found to be 20% of annual salary. For executives earning high salaries, the cost of replacement was found to be 213% of annual salary. (Boushey & Glynn, 2012). For example, an executive who earns $100,000 would cost $213,000 to replace.”\n",
    "With the increasing economic burden on companies due to the chaos created by the COVID-19 Pandemic, it is necessary for the companies to take strategic steps in order to push back the financial distress they could go through. This means reducing the expenditure and one of the ways to do this is by cutting down on the workforce. Cutting down employees or reducing an employee's salary is a tough decision to take. These decisions have a powerful impact on the lives of the people it affects and therefore needs to be taken with utmost care and consideration. Therefore it is necessary to identify the employees whose performance is attriting may lead to sabotaging of both employees' career and the company's reputation in the market.\n",
    "\n",
    "<h2>About Human Resource Analytics</h2>\n",
    "The Human Resources department is in charge of taking care of employee’s well being and ensuring they are happy with their position. With machine learning you can actually predict employee attrition to see what causes a valuable employee to leave or stay with a company. This is perfect for HR managers planning their hiring and auditing employee experience. \n",
    "\n",
    "<h2>About the Dataset</h2>\n",
    "This is a fictional data set created by IBM data scientists to uncover the factors that lead to employee attrition.\n",
    "<h2>Skills covered</h2>\n",
    "Pandas,Matplotlib, Seaborn, Data Visualization, machine learning, RandomForestClassifier, Confusion Matrix, Threshold Tuning"
   ]
  },
  {
   "cell_type": "markdown",
   "id": "0cc23873",
   "metadata": {},
   "source": [
    "<h2> Goal: Building a machine learning model to predict employee attrition using Python and the scikit-learn library </h2>"
   ]
  },
  {
   "cell_type": "code",
   "execution_count": 1,
   "id": "032ffeb0",
   "metadata": {},
   "outputs": [],
   "source": [
    "import pandas as pd\n",
    "from sklearn.model_selection import train_test_split\n",
    "from sklearn.ensemble import RandomForestClassifier\n",
    "from sklearn.metrics import classification_report"
   ]
  },
  {
   "cell_type": "code",
   "execution_count": 2,
   "id": "de9c4c52",
   "metadata": {},
   "outputs": [
    {
     "data": {
      "text/html": [
       "<div>\n",
       "<style scoped>\n",
       "    .dataframe tbody tr th:only-of-type {\n",
       "        vertical-align: middle;\n",
       "    }\n",
       "\n",
       "    .dataframe tbody tr th {\n",
       "        vertical-align: top;\n",
       "    }\n",
       "\n",
       "    .dataframe thead th {\n",
       "        text-align: right;\n",
       "    }\n",
       "</style>\n",
       "<table border=\"1\" class=\"dataframe\">\n",
       "  <thead>\n",
       "    <tr style=\"text-align: right;\">\n",
       "      <th></th>\n",
       "      <th>Age</th>\n",
       "      <th>Attrition</th>\n",
       "      <th>BusinessTravel</th>\n",
       "      <th>DailyRate</th>\n",
       "      <th>Department</th>\n",
       "      <th>DistanceFromHome</th>\n",
       "      <th>Education</th>\n",
       "      <th>EducationField</th>\n",
       "      <th>EmployeeNumber</th>\n",
       "      <th>EnvironmentSatisfaction</th>\n",
       "      <th>...</th>\n",
       "      <th>PerformanceRating</th>\n",
       "      <th>RelationshipSatisfaction</th>\n",
       "      <th>StockOptionLevel</th>\n",
       "      <th>TotalWorkingYears</th>\n",
       "      <th>TrainingTimesLastYear</th>\n",
       "      <th>WorkLifeBalance</th>\n",
       "      <th>YearsAtCompany</th>\n",
       "      <th>YearsInCurrentRole</th>\n",
       "      <th>YearsSinceLastPromotion</th>\n",
       "      <th>YearsWithCurrManager</th>\n",
       "    </tr>\n",
       "  </thead>\n",
       "  <tbody>\n",
       "    <tr>\n",
       "      <th>0</th>\n",
       "      <td>41</td>\n",
       "      <td>Yes</td>\n",
       "      <td>Travel_Rarely</td>\n",
       "      <td>1102</td>\n",
       "      <td>Sales</td>\n",
       "      <td>1</td>\n",
       "      <td>2</td>\n",
       "      <td>Life Sciences</td>\n",
       "      <td>1</td>\n",
       "      <td>2</td>\n",
       "      <td>...</td>\n",
       "      <td>3</td>\n",
       "      <td>1</td>\n",
       "      <td>0</td>\n",
       "      <td>8</td>\n",
       "      <td>0</td>\n",
       "      <td>1</td>\n",
       "      <td>6</td>\n",
       "      <td>4</td>\n",
       "      <td>0</td>\n",
       "      <td>5</td>\n",
       "    </tr>\n",
       "    <tr>\n",
       "      <th>1</th>\n",
       "      <td>49</td>\n",
       "      <td>No</td>\n",
       "      <td>Travel_Frequently</td>\n",
       "      <td>279</td>\n",
       "      <td>Research &amp; Development</td>\n",
       "      <td>8</td>\n",
       "      <td>1</td>\n",
       "      <td>Life Sciences</td>\n",
       "      <td>2</td>\n",
       "      <td>3</td>\n",
       "      <td>...</td>\n",
       "      <td>4</td>\n",
       "      <td>4</td>\n",
       "      <td>1</td>\n",
       "      <td>10</td>\n",
       "      <td>3</td>\n",
       "      <td>3</td>\n",
       "      <td>10</td>\n",
       "      <td>7</td>\n",
       "      <td>1</td>\n",
       "      <td>7</td>\n",
       "    </tr>\n",
       "    <tr>\n",
       "      <th>2</th>\n",
       "      <td>37</td>\n",
       "      <td>Yes</td>\n",
       "      <td>Travel_Rarely</td>\n",
       "      <td>1373</td>\n",
       "      <td>Research &amp; Development</td>\n",
       "      <td>2</td>\n",
       "      <td>2</td>\n",
       "      <td>Other</td>\n",
       "      <td>4</td>\n",
       "      <td>4</td>\n",
       "      <td>...</td>\n",
       "      <td>3</td>\n",
       "      <td>2</td>\n",
       "      <td>0</td>\n",
       "      <td>7</td>\n",
       "      <td>3</td>\n",
       "      <td>3</td>\n",
       "      <td>0</td>\n",
       "      <td>0</td>\n",
       "      <td>0</td>\n",
       "      <td>0</td>\n",
       "    </tr>\n",
       "    <tr>\n",
       "      <th>3</th>\n",
       "      <td>33</td>\n",
       "      <td>No</td>\n",
       "      <td>Travel_Frequently</td>\n",
       "      <td>1392</td>\n",
       "      <td>Research &amp; Development</td>\n",
       "      <td>3</td>\n",
       "      <td>4</td>\n",
       "      <td>Life Sciences</td>\n",
       "      <td>5</td>\n",
       "      <td>4</td>\n",
       "      <td>...</td>\n",
       "      <td>3</td>\n",
       "      <td>3</td>\n",
       "      <td>0</td>\n",
       "      <td>8</td>\n",
       "      <td>3</td>\n",
       "      <td>3</td>\n",
       "      <td>8</td>\n",
       "      <td>7</td>\n",
       "      <td>3</td>\n",
       "      <td>0</td>\n",
       "    </tr>\n",
       "    <tr>\n",
       "      <th>4</th>\n",
       "      <td>27</td>\n",
       "      <td>No</td>\n",
       "      <td>Travel_Rarely</td>\n",
       "      <td>591</td>\n",
       "      <td>Research &amp; Development</td>\n",
       "      <td>2</td>\n",
       "      <td>1</td>\n",
       "      <td>Medical</td>\n",
       "      <td>7</td>\n",
       "      <td>1</td>\n",
       "      <td>...</td>\n",
       "      <td>3</td>\n",
       "      <td>4</td>\n",
       "      <td>1</td>\n",
       "      <td>6</td>\n",
       "      <td>3</td>\n",
       "      <td>3</td>\n",
       "      <td>2</td>\n",
       "      <td>2</td>\n",
       "      <td>2</td>\n",
       "      <td>2</td>\n",
       "    </tr>\n",
       "  </tbody>\n",
       "</table>\n",
       "<p>5 rows × 32 columns</p>\n",
       "</div>"
      ],
      "text/plain": [
       "   Age Attrition     BusinessTravel  DailyRate              Department  \\\n",
       "0   41       Yes      Travel_Rarely       1102                   Sales   \n",
       "1   49        No  Travel_Frequently        279  Research & Development   \n",
       "2   37       Yes      Travel_Rarely       1373  Research & Development   \n",
       "3   33        No  Travel_Frequently       1392  Research & Development   \n",
       "4   27        No      Travel_Rarely        591  Research & Development   \n",
       "\n",
       "   DistanceFromHome  Education EducationField  EmployeeNumber  \\\n",
       "0                 1          2  Life Sciences               1   \n",
       "1                 8          1  Life Sciences               2   \n",
       "2                 2          2          Other               4   \n",
       "3                 3          4  Life Sciences               5   \n",
       "4                 2          1        Medical               7   \n",
       "\n",
       "   EnvironmentSatisfaction  ... PerformanceRating  RelationshipSatisfaction  \\\n",
       "0                        2  ...                 3                         1   \n",
       "1                        3  ...                 4                         4   \n",
       "2                        4  ...                 3                         2   \n",
       "3                        4  ...                 3                         3   \n",
       "4                        1  ...                 3                         4   \n",
       "\n",
       "   StockOptionLevel  TotalWorkingYears TrainingTimesLastYear  WorkLifeBalance  \\\n",
       "0                 0                  8                     0                1   \n",
       "1                 1                 10                     3                3   \n",
       "2                 0                  7                     3                3   \n",
       "3                 0                  8                     3                3   \n",
       "4                 1                  6                     3                3   \n",
       "\n",
       "  YearsAtCompany  YearsInCurrentRole  YearsSinceLastPromotion  \\\n",
       "0              6                   4                        0   \n",
       "1             10                   7                        1   \n",
       "2              0                   0                        0   \n",
       "3              8                   7                        3   \n",
       "4              2                   2                        2   \n",
       "\n",
       "   YearsWithCurrManager  \n",
       "0                     5  \n",
       "1                     7  \n",
       "2                     0  \n",
       "3                     0  \n",
       "4                     2  \n",
       "\n",
       "[5 rows x 32 columns]"
      ]
     },
     "execution_count": 2,
     "metadata": {},
     "output_type": "execute_result"
    }
   ],
   "source": [
    "df = pd.read_csv(\"WA_Fn-UseC_-HR-Employee-Attrition-clean.csv\")\n",
    "df.head()"
   ]
  },
  {
   "cell_type": "code",
   "execution_count": 6,
   "id": "2fa0334b",
   "metadata": {},
   "outputs": [
    {
     "name": "stdout",
     "output_type": "stream",
     "text": [
      "Age                         int64\n",
      "Attrition                   int64\n",
      "BusinessTravel              int64\n",
      "DailyRate                   int64\n",
      "Department                  int64\n",
      "DistanceFromHome            int64\n",
      "Education                   int64\n",
      "EducationField              int64\n",
      "EmployeeNumber              int64\n",
      "EnvironmentSatisfaction     int64\n",
      "Gender                      int64\n",
      "HourlyRate                  int64\n",
      "JobInvolvement              int64\n",
      "JobLevel                    int64\n",
      "JobRole                     int64\n",
      "JobSatisfaction             int64\n",
      "MaritalStatus               int64\n",
      "MonthlyIncome               int64\n",
      "MonthlyRate                 int64\n",
      "NumCompaniesWorked          int64\n",
      "OverTime                    int64\n",
      "PercentSalaryHike           int64\n",
      "PerformanceRating           int64\n",
      "RelationshipSatisfaction    int64\n",
      "StockOptionLevel            int64\n",
      "TotalWorkingYears           int64\n",
      "TrainingTimesLastYear       int64\n",
      "WorkLifeBalance             int64\n",
      "YearsAtCompany              int64\n",
      "YearsInCurrentRole          int64\n",
      "YearsSinceLastPromotion     int64\n",
      "YearsWithCurrManager        int64\n",
      "dtype: object\n"
     ]
    }
   ],
   "source": [
    "# Converting Object columns to numeric data\n",
    "# defining function to convert object columns to numeric data using pd.factorize()\n",
    "\n",
    "def convert_object_to_numeric(col):\n",
    "    if col.dtype == 'object':\n",
    "        col, _ = pd.factorize(col)\n",
    "    return col\n",
    "\n",
    "# loop over columns in data frame and apply function\n",
    "for col in df.columns:\n",
    "    df[col] = convert_object_to_numeric(df[col])\n",
    "\n",
    "# print updated data frame\n",
    "print(df.dtypes)"
   ]
  },
  {
   "cell_type": "code",
   "execution_count": 27,
   "id": "bf4b5deb",
   "metadata": {},
   "outputs": [
    {
     "name": "stdout",
     "output_type": "stream",
     "text": [
      "              precision    recall  f1-score   support\n",
      "\n",
      "           0       0.80      0.12      0.20        69\n",
      "           1       0.86      0.99      0.92       372\n",
      "\n",
      "    accuracy                           0.86       441\n",
      "   macro avg       0.83      0.56      0.56       441\n",
      "weighted avg       0.85      0.86      0.81       441\n",
      "\n"
     ]
    }
   ],
   "source": [
    "# select the features and target variable\n",
    "X = df.drop(['Attrition'], axis=1)\n",
    "y = df['Attrition']\n",
    "\n",
    "# split the data into training and testing sets\n",
    "X_train, X_test, y_train, y_test = train_test_split(X, y, test_size=0.3, random_state=30)\n",
    "\n",
    "# create a random forest classifier with 100 trees\n",
    "rfc = RandomForestClassifier(n_estimators=100, random_state=42)\n",
    "\n",
    "# fit the classifier to the training data\n",
    "rfc.fit(X_train, y_train)\n",
    "# make predictions on the test set\n",
    "y_pred = rfc.predict(X_test)\n",
    "\n",
    "# generate a classification report to evaluate the model's performance\n",
    "print(classification_report(y_test, y_pred))"
   ]
  },
  {
   "cell_type": "code",
   "execution_count": 28,
   "id": "fb753c21",
   "metadata": {},
   "outputs": [
    {
     "data": {
      "text/plain": [
       "['employee_attrition_model.joblib']"
      ]
     },
     "execution_count": 28,
     "metadata": {},
     "output_type": "execute_result"
    }
   ],
   "source": [
    "#saving the trained model for future use\n",
    "import joblib\n",
    "\n",
    "# save the model to a file\n",
    "joblib.dump(rfc, 'employee_attrition_model.joblib')\n"
   ]
  },
  {
   "cell_type": "markdown",
   "id": "f027038f",
   "metadata": {},
   "source": [
    "This output is a classification report that evaluates the performance of a model for binary classification problem (Attrition vs. No Attrition) on a test dataset. The report shows the precision, recall, and F1-score for each class (0 and 1) as well as the overall accuracy, macro-average, and weighted-average of these measures.\n",
    "\n",
    "Precision: The precision is the ratio of true positive predictions (TP) to the total number of positive predictions (TP + FP). In other words, it measures how many of the predicted positive cases are actually positive.In this case, for class 0 (attrition), the precision is 0.8, meaning that 80% of the employees predicted to have attrition actually left the company. For class 1 (no attrition), the precision is 0.86, meaning that 86% of the employees predicted to stay actually did stay.\n",
    "\n",
    "Recall: The recall is the ratio of true positive predictions (TP) to the total number of actual positive cases (TP + FN). In other words, it measures how many of the actual positive cases are correctly identified by the model. It is a measure of how many of the actual positive values were correctly identified. In this case, for class 0 (attrition), the recall is 0.12, meaning that only 12% of employees who actually left the company were correctly identified as leaving. For class 1 (no attrition), the recall is 0.99, meaning that 99% of employees who actually stayed were correctly identified as staying.\n",
    "\n",
    "F1-score: The F1-score is the harmonic mean of precision and recall, and is a way of combining both measures into a single value. It ranges from 0 to 1, where a score of 1 indicates perfect precision and recall, and a score of 0 indicates that either precision or recall is 0. For class 0 (attrition), the F1-score is 0.2, indicating that the model's performance on this class is poor. For class 1 (no attrition), the F1-score is 0.92, indicating that the model's performance on this class is good.\n",
    "\n",
    "Support: The support column shows the number of instances/ actual cases in each class. For class 0, the support is 69, and for class 1, the support is 372.\n",
    "\n",
    "Accuracy: The accuracy is the ratio of the total number of correct predictions (TP + TN) to the total number of predictions (TP + TN + FP + FN). In other words, it measures how many of the predictions are correct. The overall accuracy of the model is 0.86, meaning that it correctly classified 86% of the instances in the test data. It is a high value, indicating that the model is performing well in making correct predictions.\n",
    "\n",
    "Macro-average: The macro-average is the unweighted mean of precision, recall, and F1-score for both classes. The macro-average precision, recall, and F1-score are 0.83, 0.56, and 0.56, respectively.\n",
    "\n",
    "Weighted-average: The weighted-average is the weighted mean of precision, recall, and F1-score for both classes, weighted by the number of samples in each class. The weighted-average precision, recall, and F1-score are 0.85, 0.86, and 0.81, respectively.\n"
   ]
  },
  {
   "cell_type": "markdown",
   "id": "4d9e3019",
   "metadata": {},
   "source": [
    "### Visualizing the Model"
   ]
  },
  {
   "cell_type": "code",
   "execution_count": 43,
   "id": "a676f7f0",
   "metadata": {},
   "outputs": [
    {
     "data": {
      "image/png": "[encoded data removed]",
      "text/plain": [
       "<Figure size 432x288 with 2 Axes>"
      ]
     },
     "metadata": {
      "needs_background": "light"
     },
     "output_type": "display_data"
    },
    {
     "name": "stdout",
     "output_type": "stream",
     "text": [
      "Confusion Matrix:\n",
      " [[  8  61]\n",
      " [  2 370]]\n"
     ]
    }
   ],
   "source": [
    "from sklearn.metrics import confusion_matrix\n",
    "import matplotlib.pyplot as plt\n",
    "import seaborn as sns\n",
    "\n",
    "# Predict on the test data\n",
    "y_pred = rfc.predict(X_test)\n",
    "\n",
    "# Generate the confusion matrix\n",
    "cm = confusion_matrix(y_test, y_pred)\n",
    "\n",
    "# Plot the confusion matrix\n",
    "sns.heatmap(cm, annot=True, cmap=\"Blues\", fmt=\"d\", xticklabels=['No Attrition', 'Attrition'], yticklabels=['No Attrition', 'Attrition'])\n",
    "plt.title(\"Confusion Matrix\")\n",
    "plt.xlabel(\"Predicted Label\")\n",
    "plt.ylabel(\"True Label\")\n",
    "plt.show()\n",
    "\n",
    "print(\"Confusion Matrix:\\n\", cm)\n"
   ]
  },
  {
   "cell_type": "markdown",
   "id": "a4b08ce8",
   "metadata": {},
   "source": [
    "Given Attrition means Left, No Attrition means Stayed, \n",
    "Confusion matrix presents following results \n",
    "The number of Actual Left employees incorrectly predicted as Stayed = 2\n",
    "The number of Actual Left employees correctly predicted as Left = 370\n",
    "The number of Actual Stayed employees incorrectly predicted as Left = 61\n",
    "The number of Actual Stayed employees correctly predicted as Stayed = 8\n"
   ]
  },
  {
   "cell_type": "code",
   "execution_count": 26,
   "id": "ddc62e0e",
   "metadata": {},
   "outputs": [],
   "source": [
    "#from sklearn.metrics import classification_report\n",
    "\n",
    "# Generate the classification report\n",
    "#report = classification_report(y_test, y_pred)\n",
    "\n",
    "# Print the classification report\n",
    "#print(report)"
   ]
  },
  {
   "cell_type": "markdown",
   "id": "6bd8d8e6",
   "metadata": {},
   "source": [
    "## Threshold tuning to improve the Model \n",
    "The random forest classifier produces probability scores for each prediction, which can be used to set a threshold for predicting attrition. By adjusting the threshold, the trade-off between false positives and false negatives can be controlled."
   ]
  },
  {
   "cell_type": "code",
   "execution_count": 30,
   "id": "b9665b40",
   "metadata": {},
   "outputs": [
    {
     "name": "stdout",
     "output_type": "stream",
     "text": [
      "Confusion matrix with optimal threshold:\n",
      " [[ 10  59]\n",
      " [  2 370]]\n"
     ]
    },
    {
     "data": {
      "image/png": "[encoded data removed]",
      "text/plain": [
       "<Figure size 432x288 with 2 Axes>"
      ]
     },
     "metadata": {
      "needs_background": "light"
     },
     "output_type": "display_data"
    }
   ],
   "source": [
    "from sklearn.metrics import confusion_matrix\n",
    "from sklearn.metrics import precision_recall_curve\n",
    "import numpy as np\n",
    "\n",
    "# Make predictions on test data\n",
    "y_pred_proba = rfc.predict_proba(X_test)[:, 1]\n",
    "\n",
    "# Determine the optimal threshold\n",
    "precision, recall, thresholds = precision_recall_curve(y_test, y_pred_proba)\n",
    "\n",
    "# Find the threshold that maximizes the F1 score\n",
    "f1 = (2 * precision * recall) / (precision + recall)\n",
    "optimal_idx = np.argmax(f1)\n",
    "optimal_threshold = thresholds[optimal_idx]\n",
    "\n",
    "# Make predictions on test data using the optimal threshold\n",
    "y_pred_optimal = (y_pred_proba >= optimal_threshold).astype(int)\n",
    "\n",
    "# Evaluate the model using the confusion matrix\n",
    "confusion_matrix_optimal = confusion_matrix(y_test, y_pred_optimal)\n",
    "print('Confusion matrix with optimal threshold:\\n', confusion_matrix_optimal)\n",
    "\n",
    "\n",
    "# Plot the confusion matrix\n",
    "sns.heatmap(confusion_matrix_optimal, annot=True, cmap=\"Blues\", fmt=\"d\", xticklabels=['No Attrition', 'Attrition'], yticklabels=['No Attrition', 'Attrition'])\n",
    "plt.title(\"Confusion Matrix\")\n",
    "plt.xlabel(\"Predicted Label\")\n",
    "plt.ylabel(\"True Label\")\n",
    "plt.show()"
   ]
  },
  {
   "cell_type": "markdown",
   "id": "4d0bb8e2",
   "metadata": {},
   "source": [
    "## Adjusting the Threshold"
   ]
  },
  {
   "cell_type": "code",
   "execution_count": 41,
   "id": "ae6cb47a",
   "metadata": {},
   "outputs": [
    {
     "data": {
      "image/png": "[encoded data removed]",
      "text/plain": [
       "<Figure size 432x288 with 2 Axes>"
      ]
     },
     "metadata": {
      "needs_background": "light"
     },
     "output_type": "display_data"
    },
    {
     "name": "stdout",
     "output_type": "stream",
     "text": [
      "Confusion Matrix:\n",
      " [[ 11  58]\n",
      " [  3 369]]\n",
      "\n",
      "Classification Report:\n",
      "               precision    recall  f1-score   support\n",
      "\n",
      "           0       0.79      0.16      0.27        69\n",
      "           1       0.86      0.99      0.92       372\n",
      "\n",
      "    accuracy                           0.86       441\n",
      "   macro avg       0.82      0.58      0.59       441\n",
      "weighted avg       0.85      0.86      0.82       441\n",
      "\n"
     ]
    }
   ],
   "source": [
    "from sklearn.metrics import confusion_matrix\n",
    "from sklearn.metrics import precision_recall_curve\n",
    "import numpy as np\n",
    "\n",
    "# Predict probabilities for test data\n",
    "y_proba = rfc.predict_proba(X_test)[:, 1]\n",
    "\n",
    "# Set a new threshold\n",
    "new_threshold = 0.55\n",
    "\n",
    "# Convert probabilities to predictions using new threshold\n",
    "y_pred = (y_proba >= new_threshold).astype(int)\n",
    "\n",
    "# Generate confusion matrix and classification report\n",
    "cm = confusion_matrix(y_test, y_pred)\n",
    "cr = classification_report(y_test, y_pred)\n",
    "\n",
    "# Plot the confusion matrix\n",
    "sns.heatmap(cm, annot=True, cmap=\"Blues\", fmt=\"d\", xticklabels=['No Attrition', 'Attrition'], yticklabels=['No Attrition', 'Attrition'])\n",
    "plt.title(\"Confusion Matrix\")\n",
    "plt.xlabel(\"Predicted Label\")\n",
    "plt.ylabel(\"True Label\")\n",
    "plt.show()\n",
    "\n",
    "# Print results\n",
    "print(\"Confusion Matrix:\\n\", cm)\n",
    "print(\"\\nClassification Report:\\n\", cr)\n"
   ]
  },
  {
   "cell_type": "markdown",
   "id": "20a52590",
   "metadata": {},
   "source": [
    "Overall, the best approach to improving the model's performance will depend on the specific data, problem, and resources available. A combination of these strategies may be necessary to achieve the best possible performance.\n"
   ]
  },
  {
   "cell_type": "code",
   "execution_count": null,
   "id": "d73a2a56",
   "metadata": {},
   "outputs": [],
   "source": []
  }
 ],
 "metadata": {
  "kernelspec": {
   "display_name": "Python 3 (ipykernel)",
   "language": "python",
   "name": "python3"
  },
  "language_info": {
   "codemirror_mode": {
    "name": "ipython",
    "version": 3
   },
   "file_extension": ".py",
   "mimetype": "text/x-python",
   "name": "python",
   "nbconvert_exporter": "python",
   "pygments_lexer": "ipython3",
   "version": "3.8.8"
  }
 },
 "nbformat": 4,
 "nbformat_minor": 5
}
