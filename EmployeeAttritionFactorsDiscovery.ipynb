{
 "cells": [
  {
   "cell_type": "markdown",
   "id": "1346ed39",
   "metadata": {},
   "source": [
    "<h2>What is Employee Attrition?</h2>\n",
    "According to Jobzology, “Staff attrition refers to the loss of employees through a natural process, such as retirement, resignation, elimination of a position, personal health, or other similar reasons. With attrition, an employer will not fill the vacancy left by the former employee.”\n",
    "\n",
    "<h2>Reasons to Predict Employee Attrition</h2>\n",
    "With machine learning, HR managers will be able to foresee vacant positions, team budget needs, what employee benefits they can improve to keep employees happy, what departments are the most and least likely to stay at a position for a length of time, and more. As a business, you can predict questions like,\n",
    "\n",
    "What causes employee churn?\n",
    "Why do we lose valuable employees?\n",
    "When will an employee most likely leave the company?\n",
    "> Predicting these things would save a lot of money in the long run. According to the Center of American Progress, “For positions that earn between $30,000 and $50,000 per year, the cost of replacement was found to be 20% of annual salary. For executives earning high salaries, the cost of replacement was found to be 213% of annual salary. (Boushey & Glynn, 2012). For example, an executive who earns $100,000 would cost $213,000 to replace.”\n",
    "With the increasing economic burden on companies due to the chaos created by the COVID-19 Pandemic, it is necessary for the companies to take strategic steps in order to push back the financial distress they could go through. This means reducing the expenditure and one of the ways to do this is by cutting down on the workforce. Cutting down employees or reducing an employee's salary is a tough decision to take. These decisions have a powerful impact on the lives of the people it affects and therefore needs to be taken with utmost care and consideration. Therefore it is necessary to identify the employees whose performance is attriting may lead to sabotaging of both employees' career and the company's reputation in the market.\n",
    "\n",
    "<h2>About Human Resource Analytics</h2>\n",
    "The Human Resources department is in charge of taking care of employee’s well being and ensuring they are happy with their position. With machine learning you can actually predict employee attrition to see what causes a valuable employee to leave or stay with a company. This is perfect for HR managers planning their hiring and auditing employee experience. \n",
    "\n",
    "<h2>About the Dataset</h2>\n",
    "This is a fictional data set created by IBM data scientists to uncover the factors that lead to employee attrition.\n",
    "\n",
    "<h2>Goal of the Project</h2>\n",
    "<p> What factors are contributing more to employee attrition? </p>\n",
    "\n",
    "<h2>Skills covered</h2>\n",
    "Pandas, Numpy, Matplotlib, Seaborn, Data Visualization, Mann-Whitney U test"
   ]
  },
  {
   "cell_type": "markdown",
   "id": "564eee27",
   "metadata": {},
   "source": [
    "### <b>Let's Get Started</b>\n",
    "We use Pandas and Numpy Libraries for data manipulation & calculation and Matplotlib and Seaborn libraries for data visualization. \n",
    "## 1. Importing Libraies"
   ]
  },
  {
   "cell_type": "code",
   "execution_count": 42,
   "id": "2b0287fd",
   "metadata": {},
   "outputs": [],
   "source": [
    "import pandas as pd\n",
    "import numpy as np\n",
    "import matplotlib.pyplot as plt\n",
    "%matplotlib inline \n",
    "import seaborn as sns"
   ]
  },
  {
   "cell_type": "markdown",
   "id": "27d11d35",
   "metadata": {},
   "source": [
    "## 2. Loading Data into Pandas Dataframe"
   ]
  },
  {
   "cell_type": "code",
   "execution_count": 43,
   "id": "d572cb1c",
   "metadata": {},
   "outputs": [
    {
     "data": {
      "text/html": [
       "<div>\n",
       "<style scoped>\n",
       "    .dataframe tbody tr th:only-of-type {\n",
       "        vertical-align: middle;\n",
       "    }\n",
       "\n",
       "    .dataframe tbody tr th {\n",
       "        vertical-align: top;\n",
       "    }\n",
       "\n",
       "    .dataframe thead th {\n",
       "        text-align: right;\n",
       "    }\n",
       "</style>\n",
       "<table border=\"1\" class=\"dataframe\">\n",
       "  <thead>\n",
       "    <tr style=\"text-align: right;\">\n",
       "      <th></th>\n",
       "      <th>Age</th>\n",
       "      <th>Attrition</th>\n",
       "      <th>BusinessTravel</th>\n",
       "      <th>DailyRate</th>\n",
       "      <th>Department</th>\n",
       "      <th>DistanceFromHome</th>\n",
       "      <th>Education</th>\n",
       "      <th>EducationField</th>\n",
       "      <th>EmployeeNumber</th>\n",
       "      <th>EnvironmentSatisfaction</th>\n",
       "      <th>...</th>\n",
       "      <th>PerformanceRating</th>\n",
       "      <th>RelationshipSatisfaction</th>\n",
       "      <th>StockOptionLevel</th>\n",
       "      <th>TotalWorkingYears</th>\n",
       "      <th>TrainingTimesLastYear</th>\n",
       "      <th>WorkLifeBalance</th>\n",
       "      <th>YearsAtCompany</th>\n",
       "      <th>YearsInCurrentRole</th>\n",
       "      <th>YearsSinceLastPromotion</th>\n",
       "      <th>YearsWithCurrManager</th>\n",
       "    </tr>\n",
       "  </thead>\n",
       "  <tbody>\n",
       "    <tr>\n",
       "      <th>0</th>\n",
       "      <td>41</td>\n",
       "      <td>Yes</td>\n",
       "      <td>Travel_Rarely</td>\n",
       "      <td>1102</td>\n",
       "      <td>Sales</td>\n",
       "      <td>1</td>\n",
       "      <td>2</td>\n",
       "      <td>Life Sciences</td>\n",
       "      <td>1</td>\n",
       "      <td>2</td>\n",
       "      <td>...</td>\n",
       "      <td>3</td>\n",
       "      <td>1</td>\n",
       "      <td>0</td>\n",
       "      <td>8</td>\n",
       "      <td>0</td>\n",
       "      <td>1</td>\n",
       "      <td>6</td>\n",
       "      <td>4</td>\n",
       "      <td>0</td>\n",
       "      <td>5</td>\n",
       "    </tr>\n",
       "    <tr>\n",
       "      <th>1</th>\n",
       "      <td>49</td>\n",
       "      <td>No</td>\n",
       "      <td>Travel_Frequently</td>\n",
       "      <td>279</td>\n",
       "      <td>Research &amp; Development</td>\n",
       "      <td>8</td>\n",
       "      <td>1</td>\n",
       "      <td>Life Sciences</td>\n",
       "      <td>2</td>\n",
       "      <td>3</td>\n",
       "      <td>...</td>\n",
       "      <td>4</td>\n",
       "      <td>4</td>\n",
       "      <td>1</td>\n",
       "      <td>10</td>\n",
       "      <td>3</td>\n",
       "      <td>3</td>\n",
       "      <td>10</td>\n",
       "      <td>7</td>\n",
       "      <td>1</td>\n",
       "      <td>7</td>\n",
       "    </tr>\n",
       "    <tr>\n",
       "      <th>2</th>\n",
       "      <td>37</td>\n",
       "      <td>Yes</td>\n",
       "      <td>Travel_Rarely</td>\n",
       "      <td>1373</td>\n",
       "      <td>Research &amp; Development</td>\n",
       "      <td>2</td>\n",
       "      <td>2</td>\n",
       "      <td>Other</td>\n",
       "      <td>4</td>\n",
       "      <td>4</td>\n",
       "      <td>...</td>\n",
       "      <td>3</td>\n",
       "      <td>2</td>\n",
       "      <td>0</td>\n",
       "      <td>7</td>\n",
       "      <td>3</td>\n",
       "      <td>3</td>\n",
       "      <td>0</td>\n",
       "      <td>0</td>\n",
       "      <td>0</td>\n",
       "      <td>0</td>\n",
       "    </tr>\n",
       "    <tr>\n",
       "      <th>3</th>\n",
       "      <td>33</td>\n",
       "      <td>No</td>\n",
       "      <td>Travel_Frequently</td>\n",
       "      <td>1392</td>\n",
       "      <td>Research &amp; Development</td>\n",
       "      <td>3</td>\n",
       "      <td>4</td>\n",
       "      <td>Life Sciences</td>\n",
       "      <td>5</td>\n",
       "      <td>4</td>\n",
       "      <td>...</td>\n",
       "      <td>3</td>\n",
       "      <td>3</td>\n",
       "      <td>0</td>\n",
       "      <td>8</td>\n",
       "      <td>3</td>\n",
       "      <td>3</td>\n",
       "      <td>8</td>\n",
       "      <td>7</td>\n",
       "      <td>3</td>\n",
       "      <td>0</td>\n",
       "    </tr>\n",
       "    <tr>\n",
       "      <th>4</th>\n",
       "      <td>27</td>\n",
       "      <td>No</td>\n",
       "      <td>Travel_Rarely</td>\n",
       "      <td>591</td>\n",
       "      <td>Research &amp; Development</td>\n",
       "      <td>2</td>\n",
       "      <td>1</td>\n",
       "      <td>Medical</td>\n",
       "      <td>7</td>\n",
       "      <td>1</td>\n",
       "      <td>...</td>\n",
       "      <td>3</td>\n",
       "      <td>4</td>\n",
       "      <td>1</td>\n",
       "      <td>6</td>\n",
       "      <td>3</td>\n",
       "      <td>3</td>\n",
       "      <td>2</td>\n",
       "      <td>2</td>\n",
       "      <td>2</td>\n",
       "      <td>2</td>\n",
       "    </tr>\n",
       "  </tbody>\n",
       "</table>\n",
       "<p>5 rows × 32 columns</p>\n",
       "</div>"
      ],
      "text/plain": [
       "   Age Attrition     BusinessTravel  DailyRate              Department  \\\n",
       "0   41       Yes      Travel_Rarely       1102                   Sales   \n",
       "1   49        No  Travel_Frequently        279  Research & Development   \n",
       "2   37       Yes      Travel_Rarely       1373  Research & Development   \n",
       "3   33        No  Travel_Frequently       1392  Research & Development   \n",
       "4   27        No      Travel_Rarely        591  Research & Development   \n",
       "\n",
       "   DistanceFromHome  Education EducationField  EmployeeNumber  \\\n",
       "0                 1          2  Life Sciences               1   \n",
       "1                 8          1  Life Sciences               2   \n",
       "2                 2          2          Other               4   \n",
       "3                 3          4  Life Sciences               5   \n",
       "4                 2          1        Medical               7   \n",
       "\n",
       "   EnvironmentSatisfaction  ... PerformanceRating  RelationshipSatisfaction  \\\n",
       "0                        2  ...                 3                         1   \n",
       "1                        3  ...                 4                         4   \n",
       "2                        4  ...                 3                         2   \n",
       "3                        4  ...                 3                         3   \n",
       "4                        1  ...                 3                         4   \n",
       "\n",
       "   StockOptionLevel  TotalWorkingYears TrainingTimesLastYear  WorkLifeBalance  \\\n",
       "0                 0                  8                     0                1   \n",
       "1                 1                 10                     3                3   \n",
       "2                 0                  7                     3                3   \n",
       "3                 0                  8                     3                3   \n",
       "4                 1                  6                     3                3   \n",
       "\n",
       "  YearsAtCompany  YearsInCurrentRole  YearsSinceLastPromotion  \\\n",
       "0              6                   4                        0   \n",
       "1             10                   7                        1   \n",
       "2              0                   0                        0   \n",
       "3              8                   7                        3   \n",
       "4              2                   2                        2   \n",
       "\n",
       "   YearsWithCurrManager  \n",
       "0                     5  \n",
       "1                     7  \n",
       "2                     0  \n",
       "3                     0  \n",
       "4                     2  \n",
       "\n",
       "[5 rows x 32 columns]"
      ]
     },
     "execution_count": 43,
     "metadata": {},
     "output_type": "execute_result"
    }
   ],
   "source": [
    "df = pd.read_csv(\"WA_Fn-UseC_-HR-Employee-Attrition-clean.csv\")\n",
    "df.head()"
   ]
  },
  {
   "cell_type": "code",
   "execution_count": 3,
   "id": "91560aed",
   "metadata": {},
   "outputs": [
    {
     "data": {
      "text/plain": [
       "Age                          int64\n",
       "Attrition                   object\n",
       "BusinessTravel              object\n",
       "DailyRate                    int64\n",
       "Department                  object\n",
       "DistanceFromHome             int64\n",
       "Education                    int64\n",
       "EducationField              object\n",
       "EmployeeNumber               int64\n",
       "EnvironmentSatisfaction      int64\n",
       "Gender                      object\n",
       "HourlyRate                   int64\n",
       "JobInvolvement               int64\n",
       "JobLevel                     int64\n",
       "JobRole                     object\n",
       "JobSatisfaction              int64\n",
       "MaritalStatus               object\n",
       "MonthlyIncome                int64\n",
       "MonthlyRate                  int64\n",
       "NumCompaniesWorked           int64\n",
       "OverTime                    object\n",
       "PercentSalaryHike            int64\n",
       "PerformanceRating            int64\n",
       "RelationshipSatisfaction     int64\n",
       "StockOptionLevel             int64\n",
       "TotalWorkingYears            int64\n",
       "TrainingTimesLastYear        int64\n",
       "WorkLifeBalance              int64\n",
       "YearsAtCompany               int64\n",
       "YearsInCurrentRole           int64\n",
       "YearsSinceLastPromotion      int64\n",
       "YearsWithCurrManager         int64\n",
       "dtype: object"
      ]
     },
     "execution_count": 3,
     "metadata": {},
     "output_type": "execute_result"
    }
   ],
   "source": [
    "df.dtypes"
   ]
  },
  {
   "cell_type": "code",
   "execution_count": 26,
   "id": "a7b09c53",
   "metadata": {},
   "outputs": [],
   "source": [
    "# Using the colorblind palette from the Seaborn library for visualization\n",
    "colors = sns.color_palette('colorblind')"
   ]
  },
  {
   "cell_type": "markdown",
   "id": "ec33f23f",
   "metadata": {},
   "source": [
    "## 3. What factors are contributing more to employee attrition?"
   ]
  },
  {
   "cell_type": "code",
   "execution_count": 4,
   "id": "c3967f52",
   "metadata": {},
   "outputs": [],
   "source": [
    "# Converting 'Attrition' column to numeric data\n",
    "df['Attrition'] = pd.factorize(df['Attrition'])[0]"
   ]
  },
  {
   "cell_type": "code",
   "execution_count": 5,
   "id": "ef68862e",
   "metadata": {},
   "outputs": [],
   "source": [
    "# Calculating the correlation between 'Attrition' and each column\n",
    "corr = df.corr()['Attrition']"
   ]
  },
  {
   "cell_type": "code",
   "execution_count": 6,
   "id": "e7aed47e",
   "metadata": {},
   "outputs": [],
   "source": [
    "# Sorting the correlation values in descending order\n",
    "corr = corr.sort_values(ascending=False)"
   ]
  },
  {
   "cell_type": "code",
   "execution_count": 7,
   "id": "3254fb03",
   "metadata": {},
   "outputs": [
    {
     "name": "stdout",
     "output_type": "stream",
     "text": [
      "Attrition               1.000000\n",
      "TotalWorkingYears       0.171063\n",
      "JobLevel                0.169105\n",
      "YearsInCurrentRole      0.160545\n",
      "MonthlyIncome           0.159840\n",
      "Age                     0.159205\n",
      "YearsWithCurrManager    0.156199\n",
      "StockOptionLevel        0.137145\n",
      "YearsAtCompany          0.134392\n",
      "JobInvolvement          0.130016\n",
      "JobSatisfaction         0.103481\n",
      "Name: Attrition, dtype: float64\n"
     ]
    }
   ],
   "source": [
    "# Printing the top 10 features that have the highest correlation with 'Attrition'\n",
    "print(corr.head(11))"
   ]
  },
  {
   "cell_type": "markdown",
   "id": "c078f01e",
   "metadata": {},
   "source": [
    "### 3.1 Visualizing the correlation between 'Attrition' and each column"
   ]
  },
  {
   "cell_type": "code",
   "execution_count": 8,
   "id": "9b91f4c6",
   "metadata": {},
   "outputs": [
    {
     "data": {
      "image/png": "[encoded data removed]",
      "text/plain": [
       "<Figure size 1080x720 with 1 Axes>"
      ]
     },
     "metadata": {
      "needs_background": "light"
     },
     "output_type": "display_data"
    }
   ],
   "source": [
    "plt.figure(figsize=(15,10))\n",
    "corr.plot(kind='bar',grid=False)\n",
    "plt.show()"
   ]
  },
  {
   "cell_type": "markdown",
   "id": "17cb2700",
   "metadata": {},
   "source": [
    "### 3.2 Observation\n",
    "\n",
    "Based on the correlation values, the top 10 features affecting Attrition are TotalWorkingYears, JobLevel, YearsInCurrentRole, MonthlyIncome, Age, YearsWithCurrManager, StockOptionLevel, YearsAtCompany, JobInvolvement, and JobSatisfaction. These findings suggest that factors related to career growth and financial compensation are among the most significant predictors of employee attrition. Younger employees who have been with the company for fewer years, those in entry-level positions, and those with less job involvement or satisfaction are also at higher risk of leaving the company. Understanding these factors can help organizations develop strategies to retain their employees and reduce attrition rates. Understanding these factors can help organizations develop strategies to retain their employees and reduce attrition rates. \n"
   ]
  },
  {
   "cell_type": "markdown",
   "id": "30111062",
   "metadata": {},
   "source": [
    "## 4. Attrition Vs Total Working Years"
   ]
  },
  {
   "cell_type": "code",
   "execution_count": 11,
   "id": "b5f8e122",
   "metadata": {},
   "outputs": [
    {
     "data": {
      "image/png": "[encoded data removed]",
      "text/plain": [
       "<Figure size 720x720 with 1 Axes>"
      ]
     },
     "metadata": {},
     "output_type": "display_data"
    }
   ],
   "source": [
    "plt.figure(figsize=(10, 10))\n",
    "sns.set(style=\"whitegrid\")\n",
    "\n",
    "ax = sns.boxplot(x=\"Attrition\", y=\"TotalWorkingYears\", data=df)\n",
    "\n",
    "plt.title(\"Attrition vs Total Working Years\", fontsize=20)\n",
    "plt.xlabel(\"Attrition\", fontsize=16)\n",
    "plt.ylabel(\"Total Working Years\", fontsize=16)\n",
    "\n",
    "plt.show() # 0 means Attrition yes, 1 means Atrrition no"
   ]
  },
  {
   "cell_type": "markdown",
   "id": "836000bb",
   "metadata": {},
   "source": [
    "According to the correlation analysis, TotalWorkingYears exhibits the strongest correlation with employee Attrition compared to other features, suggesting that it may be the most influential predictor of Attrition among the variables examined. From the above findings, we can say that although employees with 0-2 years of experience are most likely to quit, there is still a considerable risk of attrition among employees with 5-10 years of experience as well. This suggests that employees who have been with the company for a few years but have not yet reached a certain level of career growth or financial compensation may be more likely to leave. Therefore, organizations should not only focus on retaining new employees but also ensure that they provide growth opportunities for their experienced employees to reduce the risk of attrition.\n",
    "\n",
    "## 5. Attrition Vs MonthlyIncome"
   ]
  },
  {
   "cell_type": "code",
   "execution_count": 12,
   "id": "06fea614",
   "metadata": {},
   "outputs": [
    {
     "data": {
      "image/png": "[encoded data removed]",
      "text/plain": [
       "<Figure size 720x720 with 1 Axes>"
      ]
     },
     "metadata": {},
     "output_type": "display_data"
    }
   ],
   "source": [
    "plt.figure(figsize=(10, 10))\n",
    "sns.set(style=\"whitegrid\")\n",
    "\n",
    "ax = sns.boxplot(x=\"Attrition\", y=\"MonthlyIncome\", data=df)\n",
    "\n",
    "plt.title(\"Attrition vs Monthly Income\", fontsize=20)\n",
    "plt.xlabel(\"Attrition\", fontsize=16)\n",
    "plt.ylabel(\"Monthly Income\", fontsize=16)\n",
    "\n",
    "plt.show() # 0 means Attrition yes, 1 means Atrrition no"
   ]
  },
  {
   "cell_type": "code",
   "execution_count": 18,
   "id": "78ccf1eb",
   "metadata": {},
   "outputs": [
    {
     "name": "stdout",
     "output_type": "stream",
     "text": [
      "Median monthly income for employees who stay:  5204.0\n",
      "Median monthly income for employees who leave:  3202.0\n"
     ]
    }
   ],
   "source": [
    "# Median monthly income for employees who stay\n",
    "median_income_stay = df[df['Attrition']==1]['MonthlyIncome'].median()\n",
    "print(\"Median monthly income for employees who stay: \", median_income_stay)\n",
    "\n",
    "# Median monthly income for employees who leave\n",
    "median_income_leave = df[df['Attrition']==0]['MonthlyIncome'].median()\n",
    "print(\"Median monthly income for employees who leave: \", median_income_leave)"
   ]
  },
  {
   "cell_type": "code",
   "execution_count": 19,
   "id": "e4d62a32",
   "metadata": {},
   "outputs": [
    {
     "name": "stdout",
     "output_type": "stream",
     "text": [
      "p-value: 1.4754154586444366e-14\n"
     ]
    }
   ],
   "source": [
    "#comparing the medians of two groups is the Mann-Whitney U test (also known as the Wilcoxon rank-sum test) to determine statistical significance\n",
    "from scipy.stats import mannwhitneyu\n",
    "\n",
    "# extracting monthly incomes of employees who leave and stay\n",
    "income_leave = df[df['Attrition'] == 0]['MonthlyIncome']\n",
    "income_stay = df[df['Attrition'] == 1]['MonthlyIncome']\n",
    "\n",
    "# performing Mann-Whitney U test\n",
    "stat, p = mannwhitneyu(income_leave, income_stay, alternative='less')\n",
    "\n",
    "# printing the p-value\n",
    "print('p-value:', p)"
   ]
  },
  {
   "cell_type": "markdown",
   "id": "970ef610",
   "metadata": {},
   "source": [
    "The employees with lower salaries are more likely to leave the company. This is reflected in the boxplot and the calculation above, where we can see that the frequency of people leaving the company is higher in the lower income median 3202 over statistically significant higher income median 5204. This suggests that financial compensation is an important factor in employee attrition, and organizations may be able to reduce their attrition rates by offering more competitive salaries and benefits packages."
   ]
  },
  {
   "cell_type": "markdown",
   "id": "160ca92c",
   "metadata": {},
   "source": [
    "## 6. Attrition Vs Age"
   ]
  },
  {
   "cell_type": "code",
   "execution_count": 40,
   "id": "ddfda8ba",
   "metadata": {},
   "outputs": [
    {
     "name": "stdout",
     "output_type": "stream",
     "text": [
      "Median age for employees who stay:  36.0\n",
      "Median age for employees who leave:  32.0\n"
     ]
    }
   ],
   "source": [
    "# Median age for employees who stay\n",
    "median_age_stay = df[df['Attrition']==1]['Age'].median()\n",
    "print(\"Median age for employees who stay: \", median_age_stay)\n",
    "\n",
    "# Median age for employees who leave\n",
    "median_age_leave = df[df['Attrition']==0]['Age'].median()\n",
    "print(\"Median age for employees who leave: \", median_age_leave)"
   ]
  },
  {
   "cell_type": "code",
   "execution_count": 41,
   "id": "9000906e",
   "metadata": {},
   "outputs": [
    {
     "name": "stdout",
     "output_type": "stream",
     "text": [
      "p-value: 2.652171037670851e-11\n"
     ]
    }
   ],
   "source": [
    "#comparing the medians of two groups is the Mann-Whitney U test (also known as the Wilcoxon rank-sum test) to determine statistical significance\n",
    "from scipy.stats import mannwhitneyu\n",
    "\n",
    "# extracting age of employees who leave and stay\n",
    "age_leave = df[df['Attrition'] == 0]['Age']\n",
    "age_stay = df[df['Attrition'] == 1]['Age']\n",
    "\n",
    "# performing Mann-Whitney U test\n",
    "stat, p = mannwhitneyu(age_leave, age_stay, alternative='less')\n",
    "\n",
    "# printing the p-value\n",
    "print('p-value:', p)"
   ]
  },
  {
   "cell_type": "code",
   "execution_count": 13,
   "id": "d3c28abb",
   "metadata": {},
   "outputs": [
    {
     "data": {
      "text/plain": [
       "Text(0, 0.5, 'Age')"
      ]
     },
     "execution_count": 13,
     "metadata": {},
     "output_type": "execute_result"
    },
    {
     "data": {
      "image/png": "[encoded data removed]",
      "text/plain": [
       "<Figure size 720x720 with 1 Axes>"
      ]
     },
     "metadata": {},
     "output_type": "display_data"
    }
   ],
   "source": [
    "plt.figure(figsize=(10, 10))\n",
    "sns.set(style=\"whitegrid\")\n",
    "\n",
    "ax = sns.boxplot(x=\"Attrition\", y=\"Age\", data=df)\n",
    "\n",
    "plt.title(\"Attrition vs Age\", fontsize=20)\n",
    "plt.xlabel(\"Attrition\", fontsize=16)\n",
    "plt.ylabel(\"Age\", fontsize=16)"
   ]
  },
  {
   "cell_type": "markdown",
   "id": "3fdb2e88",
   "metadata": {},
   "source": [
    "Age is one of the factors that can influence employee retention, and younger employees may be more prone to leave a company due to various reasons such as seeking new opportunities, career growth, or higher compensation. Companies should understand these factors and take measures to address any areas of concern to improve employee retention, such as providing opportunities for career growth, offering competitive compensation and benefits, promoting work-life balance, and fostering a positive work environment."
   ]
  },
  {
   "cell_type": "markdown",
   "id": "7e827ec1",
   "metadata": {},
   "source": [
    "## 7. Attrition Vs JobInvolvement"
   ]
  },
  {
   "cell_type": "code",
   "execution_count": 21,
   "id": "a9929c9f",
   "metadata": {
    "scrolled": true
   },
   "outputs": [
    {
     "data": {
      "text/html": [
       "<div>\n",
       "<style scoped>\n",
       "    .dataframe tbody tr th:only-of-type {\n",
       "        vertical-align: middle;\n",
       "    }\n",
       "\n",
       "    .dataframe tbody tr th {\n",
       "        vertical-align: top;\n",
       "    }\n",
       "\n",
       "    .dataframe thead th {\n",
       "        text-align: right;\n",
       "    }\n",
       "</style>\n",
       "<table border=\"1\" class=\"dataframe\">\n",
       "  <thead>\n",
       "    <tr style=\"text-align: right;\">\n",
       "      <th>JobInvolvement</th>\n",
       "      <th>1</th>\n",
       "      <th>2</th>\n",
       "      <th>3</th>\n",
       "      <th>4</th>\n",
       "    </tr>\n",
       "    <tr>\n",
       "      <th>Attrition</th>\n",
       "      <th></th>\n",
       "      <th></th>\n",
       "      <th></th>\n",
       "      <th></th>\n",
       "    </tr>\n",
       "  </thead>\n",
       "  <tbody>\n",
       "    <tr>\n",
       "      <th>0</th>\n",
       "      <td>28</td>\n",
       "      <td>71</td>\n",
       "      <td>125</td>\n",
       "      <td>13</td>\n",
       "    </tr>\n",
       "    <tr>\n",
       "      <th>1</th>\n",
       "      <td>55</td>\n",
       "      <td>304</td>\n",
       "      <td>743</td>\n",
       "      <td>131</td>\n",
       "    </tr>\n",
       "  </tbody>\n",
       "</table>\n",
       "</div>"
      ],
      "text/plain": [
       "JobInvolvement   1    2    3    4\n",
       "Attrition                        \n",
       "0               28   71  125   13\n",
       "1               55  304  743  131"
      ]
     },
     "execution_count": 21,
     "metadata": {},
     "output_type": "execute_result"
    }
   ],
   "source": [
    "df.groupby(['Attrition', 'JobInvolvement']).size().unstack() #0 means attrition yes , 1 means attrition no"
   ]
  },
  {
   "cell_type": "code",
   "execution_count": 22,
   "id": "33dd0871",
   "metadata": {},
   "outputs": [
    {
     "name": "stdout",
     "output_type": "stream",
     "text": [
      "Attrition rate for JI 1:  33.73\n",
      "Attrition rate for JI 2:  18.93\n",
      "Attrition rate for JI 3:  14.4\n",
      "Attrition rate for JI 4:  9.03\n"
     ]
    }
   ],
   "source": [
    "print(\"Attrition rate for JI 1: \", round((28/83)*100,2))\n",
    "print(\"Attrition rate for JI 2: \", round((71/375)*100,2))\n",
    "print(\"Attrition rate for JI 3: \", round((125/868)*100,2))\n",
    "print(\"Attrition rate for JI 4: \", round((13/144)*100,2))"
   ]
  },
  {
   "cell_type": "code",
   "execution_count": 35,
   "id": "a0f6c724",
   "metadata": {},
   "outputs": [
    {
     "data": {
      "text/plain": [
       "<seaborn.axisgrid.FacetGrid at 0x22dc91181c0>"
      ]
     },
     "execution_count": 35,
     "metadata": {},
     "output_type": "execute_result"
    },
    {
     "data": {
      "image/png": "[encoded data removed]",
      "text/plain": [
       "<Figure size 1440x360 with 4 Axes>"
      ]
     },
     "metadata": {},
     "output_type": "display_data"
    }
   ],
   "source": [
    "# Setting the font size\n",
    "sns.set(font_scale=2)\n",
    "sns.catplot(x='Attrition', col='JobInvolvement', data=df, kind='count', palette=colors, edgecolor='gray', linewidth=0.5)"
   ]
  },
  {
   "cell_type": "markdown",
   "id": "9f50e3a5",
   "metadata": {},
   "source": [
    "We can see that employees with lower job involvement, JI 1 have the highest attrition rate at 33.73%, while those with higher job involvement, JI 4 have the lowest attrition rate at 9.03%. This suggests that employees who are more engaged in their work are less likely to leave the company. The results also show a clear trend in the attrition rates across the different levels of job involvement. As the level of job involvement increases, the attrition rate decreases. This suggests that increasing job involvement may be an effective way to reduce employee turnover and retain valuable talent in the company."
   ]
  },
  {
   "cell_type": "markdown",
   "id": "9fb26349",
   "metadata": {},
   "source": [
    "## 8. Attrition Vs JobSatisfaction"
   ]
  },
  {
   "cell_type": "code",
   "execution_count": 36,
   "id": "d030ad80",
   "metadata": {},
   "outputs": [
    {
     "data": {
      "text/html": [
       "<div>\n",
       "<style scoped>\n",
       "    .dataframe tbody tr th:only-of-type {\n",
       "        vertical-align: middle;\n",
       "    }\n",
       "\n",
       "    .dataframe tbody tr th {\n",
       "        vertical-align: top;\n",
       "    }\n",
       "\n",
       "    .dataframe thead th {\n",
       "        text-align: right;\n",
       "    }\n",
       "</style>\n",
       "<table border=\"1\" class=\"dataframe\">\n",
       "  <thead>\n",
       "    <tr style=\"text-align: right;\">\n",
       "      <th>JobSatisfaction</th>\n",
       "      <th>1</th>\n",
       "      <th>2</th>\n",
       "      <th>3</th>\n",
       "      <th>4</th>\n",
       "    </tr>\n",
       "    <tr>\n",
       "      <th>Attrition</th>\n",
       "      <th></th>\n",
       "      <th></th>\n",
       "      <th></th>\n",
       "      <th></th>\n",
       "    </tr>\n",
       "  </thead>\n",
       "  <tbody>\n",
       "    <tr>\n",
       "      <th>0</th>\n",
       "      <td>66</td>\n",
       "      <td>46</td>\n",
       "      <td>73</td>\n",
       "      <td>52</td>\n",
       "    </tr>\n",
       "    <tr>\n",
       "      <th>1</th>\n",
       "      <td>223</td>\n",
       "      <td>234</td>\n",
       "      <td>369</td>\n",
       "      <td>407</td>\n",
       "    </tr>\n",
       "  </tbody>\n",
       "</table>\n",
       "</div>"
      ],
      "text/plain": [
       "JobSatisfaction    1    2    3    4\n",
       "Attrition                          \n",
       "0                 66   46   73   52\n",
       "1                223  234  369  407"
      ]
     },
     "execution_count": 36,
     "metadata": {},
     "output_type": "execute_result"
    }
   ],
   "source": [
    "df.groupby(['Attrition', 'JobSatisfaction']).size().unstack() #0 means attrition yes , 1 means attrition no"
   ]
  },
  {
   "cell_type": "code",
   "execution_count": 38,
   "id": "d29a1387",
   "metadata": {},
   "outputs": [
    {
     "name": "stdout",
     "output_type": "stream",
     "text": [
      "Attrition rate for JS 1:  22.84\n",
      "Attrition rate for JS 2:  16.43\n",
      "Attrition rate for JS 3:  16.52\n",
      "Attrition rate for JS 4:  11.33\n"
     ]
    }
   ],
   "source": [
    "print(\"Attrition rate for JS 1: \", round((66/(66+223))*100,2))\n",
    "print(\"Attrition rate for JS 2: \", round((46/(46+234))*100,2))\n",
    "print(\"Attrition rate for JS 3: \", round((73/(73+369))*100,2))\n",
    "print(\"Attrition rate for JS 4: \", round((52/(52+407))*100,2))"
   ]
  },
  {
   "cell_type": "code",
   "execution_count": 39,
   "id": "a5c96389",
   "metadata": {},
   "outputs": [
    {
     "data": {
      "text/plain": [
       "<seaborn.axisgrid.FacetGrid at 0x22dce6f37f0>"
      ]
     },
     "execution_count": 39,
     "metadata": {},
     "output_type": "execute_result"
    },
    {
     "data": {
      "image/png": "[encoded data removed]",
      "text/plain": [
       "<Figure size 1440x360 with 4 Axes>"
      ]
     },
     "metadata": {},
     "output_type": "display_data"
    }
   ],
   "source": [
    "# Setting the font size\n",
    "sns.set(font_scale=2)\n",
    "sns.catplot(x='Attrition', col='JobSatisfaction', data=df, kind='count', palette=colors, edgecolor='gray', linewidth=0.5)"
   ]
  },
  {
   "cell_type": "markdown",
   "id": "f3e2ee5b",
   "metadata": {},
   "source": [
    "We can see that employees with lower job satisfaction are more likely to leave the company. The attrition rate is the highest for employees with job satisfaction level 1 (22.84%), followed by those with level 2 and 3 (16.43% and 16.52% respectively), and it is the lowest for employees with level 4 (11.33%). Companies can monitor and improve job satisfaction levels by providing opportunities for career growth, fair compensation, promoting work-life balance, and fostering a positive work environment. Although employees with high job satisfaction have lower attrition rates, there could be various reasons why some still leave the company, such as better job opportunities, personal reasons, or dissatisfaction with other aspects of the company. Therefore, it's important for companies to continuously assess employee satisfaction and take measures to address any areas of concern."
   ]
  },
  {
   "cell_type": "code",
   "execution_count": null,
   "id": "ea7c66ae",
   "metadata": {},
   "outputs": [],
   "source": []
  }
 ],
 "metadata": {
  "kernelspec": {
   "display_name": "Python 3 (ipykernel)",
   "language": "python",
   "name": "python3"
  },
  "language_info": {
   "codemirror_mode": {
    "name": "ipython",
    "version": 3
   },
   "file_extension": ".py",
   "mimetype": "text/x-python",
   "name": "python",
   "nbconvert_exporter": "python",
   "pygments_lexer": "ipython3",
   "version": "3.8.8"
  }
 },
 "nbformat": 4,
 "nbformat_minor": 5
}
