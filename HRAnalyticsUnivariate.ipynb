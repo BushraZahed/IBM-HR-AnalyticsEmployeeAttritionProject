{
 "cells": [
  {
   "cell_type": "markdown",
   "id": "fa955d0c",
   "metadata": {},
   "source": [
    "<h2>About Human Resource Analytics</h2>\n",
    "The Human Resources department is in charge of taking care of employee’s well being and ensuring they are happy with their position. With machine learning you can actually predict employee attrition to see what causes a valuable employee to leave or stay with a company. This is perfect for HR managers planning their hiring and auditing employee experience. \n",
    "\n",
    "<h2>About the Dataset</h2>\n",
    "This is a fictional data set created by IBM data scientists to uncover the factors that lead to employee attrition.\n",
    "\n",
    "<h2>Goal of the Project</h2>\n",
    "Univariate Analysis of different variables in the dataset, to perform preliminary observation on the Data.\n",
    "\n",
    "<h2>Skills covered</h2>\n",
    "Pandas, Numpy, Matplotlib, Seaborn, Data Cleaning and Wrangling,  Null Values and Outlier Detection,Data Visualization and Exploratory Data Analysis."
   ]
  },
  {
   "cell_type": "markdown",
   "id": "0037c92d",
   "metadata": {},
   "source": [
    "### <b>Let's Get Started</b>\n",
    "We use Pandas and Numpy Libraries for data manipulation & calculation and Matplotlib and Seaborn libraries for data visualization. \n",
    "## 1. Importing Libraies"
   ]
  },
  {
   "cell_type": "code",
   "execution_count": 1,
   "id": "a77ceb7b",
   "metadata": {},
   "outputs": [],
   "source": [
    "# Pandas and Numpy for Data Manipulation & Calculation\n",
    "# Matplotlib and Seaborn for Visualization\n",
    "\n",
    "import pandas as pd\n",
    "import numpy as np\n",
    "import matplotlib.pyplot as plt\n",
    "%matplotlib inline \n",
    "import seaborn as sns"
   ]
  },
  {
   "cell_type": "markdown",
   "id": "31663e01",
   "metadata": {},
   "source": [
    "## 2. Loading Data into Pandas Dataframe"
   ]
  },
  {
   "cell_type": "code",
   "execution_count": 2,
   "id": "0dff3a2a",
   "metadata": {},
   "outputs": [
    {
     "data": {
      "text/html": [
       "<div>\n",
       "<style scoped>\n",
       "    .dataframe tbody tr th:only-of-type {\n",
       "        vertical-align: middle;\n",
       "    }\n",
       "\n",
       "    .dataframe tbody tr th {\n",
       "        vertical-align: top;\n",
       "    }\n",
       "\n",
       "    .dataframe thead th {\n",
       "        text-align: right;\n",
       "    }\n",
       "</style>\n",
       "<table border=\"1\" class=\"dataframe\">\n",
       "  <thead>\n",
       "    <tr style=\"text-align: right;\">\n",
       "      <th></th>\n",
       "      <th>Age</th>\n",
       "      <th>Attrition</th>\n",
       "      <th>BusinessTravel</th>\n",
       "      <th>DailyRate</th>\n",
       "      <th>Department</th>\n",
       "      <th>DistanceFromHome</th>\n",
       "      <th>Education</th>\n",
       "      <th>EducationField</th>\n",
       "      <th>EmployeeCount</th>\n",
       "      <th>EmployeeNumber</th>\n",
       "      <th>...</th>\n",
       "      <th>RelationshipSatisfaction</th>\n",
       "      <th>StandardHours</th>\n",
       "      <th>StockOptionLevel</th>\n",
       "      <th>TotalWorkingYears</th>\n",
       "      <th>TrainingTimesLastYear</th>\n",
       "      <th>WorkLifeBalance</th>\n",
       "      <th>YearsAtCompany</th>\n",
       "      <th>YearsInCurrentRole</th>\n",
       "      <th>YearsSinceLastPromotion</th>\n",
       "      <th>YearsWithCurrManager</th>\n",
       "    </tr>\n",
       "  </thead>\n",
       "  <tbody>\n",
       "    <tr>\n",
       "      <th>0</th>\n",
       "      <td>41</td>\n",
       "      <td>Yes</td>\n",
       "      <td>Travel_Rarely</td>\n",
       "      <td>1102</td>\n",
       "      <td>Sales</td>\n",
       "      <td>1</td>\n",
       "      <td>2</td>\n",
       "      <td>Life Sciences</td>\n",
       "      <td>1</td>\n",
       "      <td>1</td>\n",
       "      <td>...</td>\n",
       "      <td>1</td>\n",
       "      <td>80</td>\n",
       "      <td>0</td>\n",
       "      <td>8</td>\n",
       "      <td>0</td>\n",
       "      <td>1</td>\n",
       "      <td>6</td>\n",
       "      <td>4</td>\n",
       "      <td>0</td>\n",
       "      <td>5</td>\n",
       "    </tr>\n",
       "    <tr>\n",
       "      <th>1</th>\n",
       "      <td>49</td>\n",
       "      <td>No</td>\n",
       "      <td>Travel_Frequently</td>\n",
       "      <td>279</td>\n",
       "      <td>Research &amp; Development</td>\n",
       "      <td>8</td>\n",
       "      <td>1</td>\n",
       "      <td>Life Sciences</td>\n",
       "      <td>1</td>\n",
       "      <td>2</td>\n",
       "      <td>...</td>\n",
       "      <td>4</td>\n",
       "      <td>80</td>\n",
       "      <td>1</td>\n",
       "      <td>10</td>\n",
       "      <td>3</td>\n",
       "      <td>3</td>\n",
       "      <td>10</td>\n",
       "      <td>7</td>\n",
       "      <td>1</td>\n",
       "      <td>7</td>\n",
       "    </tr>\n",
       "    <tr>\n",
       "      <th>2</th>\n",
       "      <td>37</td>\n",
       "      <td>Yes</td>\n",
       "      <td>Travel_Rarely</td>\n",
       "      <td>1373</td>\n",
       "      <td>Research &amp; Development</td>\n",
       "      <td>2</td>\n",
       "      <td>2</td>\n",
       "      <td>Other</td>\n",
       "      <td>1</td>\n",
       "      <td>4</td>\n",
       "      <td>...</td>\n",
       "      <td>2</td>\n",
       "      <td>80</td>\n",
       "      <td>0</td>\n",
       "      <td>7</td>\n",
       "      <td>3</td>\n",
       "      <td>3</td>\n",
       "      <td>0</td>\n",
       "      <td>0</td>\n",
       "      <td>0</td>\n",
       "      <td>0</td>\n",
       "    </tr>\n",
       "    <tr>\n",
       "      <th>3</th>\n",
       "      <td>33</td>\n",
       "      <td>No</td>\n",
       "      <td>Travel_Frequently</td>\n",
       "      <td>1392</td>\n",
       "      <td>Research &amp; Development</td>\n",
       "      <td>3</td>\n",
       "      <td>4</td>\n",
       "      <td>Life Sciences</td>\n",
       "      <td>1</td>\n",
       "      <td>5</td>\n",
       "      <td>...</td>\n",
       "      <td>3</td>\n",
       "      <td>80</td>\n",
       "      <td>0</td>\n",
       "      <td>8</td>\n",
       "      <td>3</td>\n",
       "      <td>3</td>\n",
       "      <td>8</td>\n",
       "      <td>7</td>\n",
       "      <td>3</td>\n",
       "      <td>0</td>\n",
       "    </tr>\n",
       "    <tr>\n",
       "      <th>4</th>\n",
       "      <td>27</td>\n",
       "      <td>No</td>\n",
       "      <td>Travel_Rarely</td>\n",
       "      <td>591</td>\n",
       "      <td>Research &amp; Development</td>\n",
       "      <td>2</td>\n",
       "      <td>1</td>\n",
       "      <td>Medical</td>\n",
       "      <td>1</td>\n",
       "      <td>7</td>\n",
       "      <td>...</td>\n",
       "      <td>4</td>\n",
       "      <td>80</td>\n",
       "      <td>1</td>\n",
       "      <td>6</td>\n",
       "      <td>3</td>\n",
       "      <td>3</td>\n",
       "      <td>2</td>\n",
       "      <td>2</td>\n",
       "      <td>2</td>\n",
       "      <td>2</td>\n",
       "    </tr>\n",
       "  </tbody>\n",
       "</table>\n",
       "<p>5 rows × 35 columns</p>\n",
       "</div>"
      ],
      "text/plain": [
       "   Age Attrition     BusinessTravel  DailyRate              Department  \\\n",
       "0   41       Yes      Travel_Rarely       1102                   Sales   \n",
       "1   49        No  Travel_Frequently        279  Research & Development   \n",
       "2   37       Yes      Travel_Rarely       1373  Research & Development   \n",
       "3   33        No  Travel_Frequently       1392  Research & Development   \n",
       "4   27        No      Travel_Rarely        591  Research & Development   \n",
       "\n",
       "   DistanceFromHome  Education EducationField  EmployeeCount  EmployeeNumber  \\\n",
       "0                 1          2  Life Sciences              1               1   \n",
       "1                 8          1  Life Sciences              1               2   \n",
       "2                 2          2          Other              1               4   \n",
       "3                 3          4  Life Sciences              1               5   \n",
       "4                 2          1        Medical              1               7   \n",
       "\n",
       "   ...  RelationshipSatisfaction StandardHours  StockOptionLevel  \\\n",
       "0  ...                         1            80                 0   \n",
       "1  ...                         4            80                 1   \n",
       "2  ...                         2            80                 0   \n",
       "3  ...                         3            80                 0   \n",
       "4  ...                         4            80                 1   \n",
       "\n",
       "   TotalWorkingYears  TrainingTimesLastYear WorkLifeBalance  YearsAtCompany  \\\n",
       "0                  8                      0               1               6   \n",
       "1                 10                      3               3              10   \n",
       "2                  7                      3               3               0   \n",
       "3                  8                      3               3               8   \n",
       "4                  6                      3               3               2   \n",
       "\n",
       "  YearsInCurrentRole  YearsSinceLastPromotion  YearsWithCurrManager  \n",
       "0                  4                        0                     5  \n",
       "1                  7                        1                     7  \n",
       "2                  0                        0                     0  \n",
       "3                  7                        3                     0  \n",
       "4                  2                        2                     2  \n",
       "\n",
       "[5 rows x 35 columns]"
      ]
     },
     "execution_count": 2,
     "metadata": {},
     "output_type": "execute_result"
    }
   ],
   "source": [
    "df = pd.read_csv(\"WA_Fn-UseC_-HR-Employee-Attrition.csv\")\n",
    "df.head()"
   ]
  },
  {
   "cell_type": "markdown",
   "id": "462b4f9e",
   "metadata": {},
   "source": [
    "## 3. Exploring the Dataset"
   ]
  },
  {
   "cell_type": "markdown",
   "id": "afc84cc8",
   "metadata": {},
   "source": [
    "### 3.1 Columns"
   ]
  },
  {
   "cell_type": "code",
   "execution_count": 3,
   "id": "1156e1e0",
   "metadata": {},
   "outputs": [
    {
     "data": {
      "text/plain": [
       "(1470, 35)"
      ]
     },
     "execution_count": 3,
     "metadata": {},
     "output_type": "execute_result"
    }
   ],
   "source": [
    "df.shape"
   ]
  },
  {
   "cell_type": "code",
   "execution_count": 4,
   "id": "db62d9de",
   "metadata": {},
   "outputs": [
    {
     "data": {
      "text/plain": [
       "Index(['Age', 'Attrition', 'BusinessTravel', 'DailyRate', 'Department',\n",
       "       'DistanceFromHome', 'Education', 'EducationField', 'EmployeeCount',\n",
       "       'EmployeeNumber', 'EnvironmentSatisfaction', 'Gender', 'HourlyRate',\n",
       "       'JobInvolvement', 'JobLevel', 'JobRole', 'JobSatisfaction',\n",
       "       'MaritalStatus', 'MonthlyIncome', 'MonthlyRate', 'NumCompaniesWorked',\n",
       "       'Over18', 'OverTime', 'PercentSalaryHike', 'PerformanceRating',\n",
       "       'RelationshipSatisfaction', 'StandardHours', 'StockOptionLevel',\n",
       "       'TotalWorkingYears', 'TrainingTimesLastYear', 'WorkLifeBalance',\n",
       "       'YearsAtCompany', 'YearsInCurrentRole', 'YearsSinceLastPromotion',\n",
       "       'YearsWithCurrManager'],\n",
       "      dtype='object')"
      ]
     },
     "execution_count": 4,
     "metadata": {},
     "output_type": "execute_result"
    }
   ],
   "source": [
    "df.columns"
   ]
  },
  {
   "cell_type": "code",
   "execution_count": 5,
   "id": "9596c695",
   "metadata": {},
   "outputs": [
    {
     "data": {
      "text/plain": [
       "Age                          int64\n",
       "Attrition                   object\n",
       "BusinessTravel              object\n",
       "DailyRate                    int64\n",
       "Department                  object\n",
       "DistanceFromHome             int64\n",
       "Education                    int64\n",
       "EducationField              object\n",
       "EmployeeCount                int64\n",
       "EmployeeNumber               int64\n",
       "EnvironmentSatisfaction      int64\n",
       "Gender                      object\n",
       "HourlyRate                   int64\n",
       "JobInvolvement               int64\n",
       "JobLevel                     int64\n",
       "JobRole                     object\n",
       "JobSatisfaction              int64\n",
       "MaritalStatus               object\n",
       "MonthlyIncome                int64\n",
       "MonthlyRate                  int64\n",
       "NumCompaniesWorked           int64\n",
       "Over18                      object\n",
       "OverTime                    object\n",
       "PercentSalaryHike            int64\n",
       "PerformanceRating            int64\n",
       "RelationshipSatisfaction     int64\n",
       "StandardHours                int64\n",
       "StockOptionLevel             int64\n",
       "TotalWorkingYears            int64\n",
       "TrainingTimesLastYear        int64\n",
       "WorkLifeBalance              int64\n",
       "YearsAtCompany               int64\n",
       "YearsInCurrentRole           int64\n",
       "YearsSinceLastPromotion      int64\n",
       "YearsWithCurrManager         int64\n",
       "dtype: object"
      ]
     },
     "execution_count": 5,
     "metadata": {},
     "output_type": "execute_result"
    }
   ],
   "source": [
    "df.dtypes"
   ]
  },
  {
   "cell_type": "code",
   "execution_count": 6,
   "id": "8735a334",
   "metadata": {},
   "outputs": [
    {
     "data": {
      "text/plain": [
       "int64     26\n",
       "object     9\n",
       "dtype: int64"
      ]
     },
     "execution_count": 6,
     "metadata": {},
     "output_type": "execute_result"
    }
   ],
   "source": [
    "df.dtypes.groupby(df.dtypes.values).count()"
   ]
  },
  {
   "cell_type": "markdown",
   "id": "e1907aa5",
   "metadata": {},
   "source": [
    "### 3.2 Statistical Summary"
   ]
  },
  {
   "cell_type": "code",
   "execution_count": 7,
   "id": "5312cb44",
   "metadata": {},
   "outputs": [
    {
     "data": {
      "text/html": [
       "<div>\n",
       "<style scoped>\n",
       "    .dataframe tbody tr th:only-of-type {\n",
       "        vertical-align: middle;\n",
       "    }\n",
       "\n",
       "    .dataframe tbody tr th {\n",
       "        vertical-align: top;\n",
       "    }\n",
       "\n",
       "    .dataframe thead th {\n",
       "        text-align: right;\n",
       "    }\n",
       "</style>\n",
       "<table border=\"1\" class=\"dataframe\">\n",
       "  <thead>\n",
       "    <tr style=\"text-align: right;\">\n",
       "      <th></th>\n",
       "      <th>Age</th>\n",
       "      <th>DailyRate</th>\n",
       "      <th>DistanceFromHome</th>\n",
       "      <th>Education</th>\n",
       "      <th>EmployeeCount</th>\n",
       "      <th>EmployeeNumber</th>\n",
       "      <th>EnvironmentSatisfaction</th>\n",
       "      <th>HourlyRate</th>\n",
       "      <th>JobInvolvement</th>\n",
       "      <th>JobLevel</th>\n",
       "      <th>...</th>\n",
       "      <th>RelationshipSatisfaction</th>\n",
       "      <th>StandardHours</th>\n",
       "      <th>StockOptionLevel</th>\n",
       "      <th>TotalWorkingYears</th>\n",
       "      <th>TrainingTimesLastYear</th>\n",
       "      <th>WorkLifeBalance</th>\n",
       "      <th>YearsAtCompany</th>\n",
       "      <th>YearsInCurrentRole</th>\n",
       "      <th>YearsSinceLastPromotion</th>\n",
       "      <th>YearsWithCurrManager</th>\n",
       "    </tr>\n",
       "  </thead>\n",
       "  <tbody>\n",
       "    <tr>\n",
       "      <th>count</th>\n",
       "      <td>1470.000000</td>\n",
       "      <td>1470.000000</td>\n",
       "      <td>1470.000000</td>\n",
       "      <td>1470.000000</td>\n",
       "      <td>1470.0</td>\n",
       "      <td>1470.000000</td>\n",
       "      <td>1470.000000</td>\n",
       "      <td>1470.000000</td>\n",
       "      <td>1470.000000</td>\n",
       "      <td>1470.000000</td>\n",
       "      <td>...</td>\n",
       "      <td>1470.000000</td>\n",
       "      <td>1470.0</td>\n",
       "      <td>1470.000000</td>\n",
       "      <td>1470.000000</td>\n",
       "      <td>1470.000000</td>\n",
       "      <td>1470.000000</td>\n",
       "      <td>1470.000000</td>\n",
       "      <td>1470.000000</td>\n",
       "      <td>1470.000000</td>\n",
       "      <td>1470.000000</td>\n",
       "    </tr>\n",
       "    <tr>\n",
       "      <th>mean</th>\n",
       "      <td>36.923810</td>\n",
       "      <td>802.485714</td>\n",
       "      <td>9.192517</td>\n",
       "      <td>2.912925</td>\n",
       "      <td>1.0</td>\n",
       "      <td>1024.865306</td>\n",
       "      <td>2.721769</td>\n",
       "      <td>65.891156</td>\n",
       "      <td>2.729932</td>\n",
       "      <td>2.063946</td>\n",
       "      <td>...</td>\n",
       "      <td>2.712245</td>\n",
       "      <td>80.0</td>\n",
       "      <td>0.793878</td>\n",
       "      <td>11.279592</td>\n",
       "      <td>2.799320</td>\n",
       "      <td>2.761224</td>\n",
       "      <td>7.008163</td>\n",
       "      <td>4.229252</td>\n",
       "      <td>2.187755</td>\n",
       "      <td>4.123129</td>\n",
       "    </tr>\n",
       "    <tr>\n",
       "      <th>std</th>\n",
       "      <td>9.135373</td>\n",
       "      <td>403.509100</td>\n",
       "      <td>8.106864</td>\n",
       "      <td>1.024165</td>\n",
       "      <td>0.0</td>\n",
       "      <td>602.024335</td>\n",
       "      <td>1.093082</td>\n",
       "      <td>20.329428</td>\n",
       "      <td>0.711561</td>\n",
       "      <td>1.106940</td>\n",
       "      <td>...</td>\n",
       "      <td>1.081209</td>\n",
       "      <td>0.0</td>\n",
       "      <td>0.852077</td>\n",
       "      <td>7.780782</td>\n",
       "      <td>1.289271</td>\n",
       "      <td>0.706476</td>\n",
       "      <td>6.126525</td>\n",
       "      <td>3.623137</td>\n",
       "      <td>3.222430</td>\n",
       "      <td>3.568136</td>\n",
       "    </tr>\n",
       "    <tr>\n",
       "      <th>min</th>\n",
       "      <td>18.000000</td>\n",
       "      <td>102.000000</td>\n",
       "      <td>1.000000</td>\n",
       "      <td>1.000000</td>\n",
       "      <td>1.0</td>\n",
       "      <td>1.000000</td>\n",
       "      <td>1.000000</td>\n",
       "      <td>30.000000</td>\n",
       "      <td>1.000000</td>\n",
       "      <td>1.000000</td>\n",
       "      <td>...</td>\n",
       "      <td>1.000000</td>\n",
       "      <td>80.0</td>\n",
       "      <td>0.000000</td>\n",
       "      <td>0.000000</td>\n",
       "      <td>0.000000</td>\n",
       "      <td>1.000000</td>\n",
       "      <td>0.000000</td>\n",
       "      <td>0.000000</td>\n",
       "      <td>0.000000</td>\n",
       "      <td>0.000000</td>\n",
       "    </tr>\n",
       "    <tr>\n",
       "      <th>25%</th>\n",
       "      <td>30.000000</td>\n",
       "      <td>465.000000</td>\n",
       "      <td>2.000000</td>\n",
       "      <td>2.000000</td>\n",
       "      <td>1.0</td>\n",
       "      <td>491.250000</td>\n",
       "      <td>2.000000</td>\n",
       "      <td>48.000000</td>\n",
       "      <td>2.000000</td>\n",
       "      <td>1.000000</td>\n",
       "      <td>...</td>\n",
       "      <td>2.000000</td>\n",
       "      <td>80.0</td>\n",
       "      <td>0.000000</td>\n",
       "      <td>6.000000</td>\n",
       "      <td>2.000000</td>\n",
       "      <td>2.000000</td>\n",
       "      <td>3.000000</td>\n",
       "      <td>2.000000</td>\n",
       "      <td>0.000000</td>\n",
       "      <td>2.000000</td>\n",
       "    </tr>\n",
       "    <tr>\n",
       "      <th>50%</th>\n",
       "      <td>36.000000</td>\n",
       "      <td>802.000000</td>\n",
       "      <td>7.000000</td>\n",
       "      <td>3.000000</td>\n",
       "      <td>1.0</td>\n",
       "      <td>1020.500000</td>\n",
       "      <td>3.000000</td>\n",
       "      <td>66.000000</td>\n",
       "      <td>3.000000</td>\n",
       "      <td>2.000000</td>\n",
       "      <td>...</td>\n",
       "      <td>3.000000</td>\n",
       "      <td>80.0</td>\n",
       "      <td>1.000000</td>\n",
       "      <td>10.000000</td>\n",
       "      <td>3.000000</td>\n",
       "      <td>3.000000</td>\n",
       "      <td>5.000000</td>\n",
       "      <td>3.000000</td>\n",
       "      <td>1.000000</td>\n",
       "      <td>3.000000</td>\n",
       "    </tr>\n",
       "    <tr>\n",
       "      <th>75%</th>\n",
       "      <td>43.000000</td>\n",
       "      <td>1157.000000</td>\n",
       "      <td>14.000000</td>\n",
       "      <td>4.000000</td>\n",
       "      <td>1.0</td>\n",
       "      <td>1555.750000</td>\n",
       "      <td>4.000000</td>\n",
       "      <td>83.750000</td>\n",
       "      <td>3.000000</td>\n",
       "      <td>3.000000</td>\n",
       "      <td>...</td>\n",
       "      <td>4.000000</td>\n",
       "      <td>80.0</td>\n",
       "      <td>1.000000</td>\n",
       "      <td>15.000000</td>\n",
       "      <td>3.000000</td>\n",
       "      <td>3.000000</td>\n",
       "      <td>9.000000</td>\n",
       "      <td>7.000000</td>\n",
       "      <td>3.000000</td>\n",
       "      <td>7.000000</td>\n",
       "    </tr>\n",
       "    <tr>\n",
       "      <th>max</th>\n",
       "      <td>60.000000</td>\n",
       "      <td>1499.000000</td>\n",
       "      <td>29.000000</td>\n",
       "      <td>5.000000</td>\n",
       "      <td>1.0</td>\n",
       "      <td>2068.000000</td>\n",
       "      <td>4.000000</td>\n",
       "      <td>100.000000</td>\n",
       "      <td>4.000000</td>\n",
       "      <td>5.000000</td>\n",
       "      <td>...</td>\n",
       "      <td>4.000000</td>\n",
       "      <td>80.0</td>\n",
       "      <td>3.000000</td>\n",
       "      <td>40.000000</td>\n",
       "      <td>6.000000</td>\n",
       "      <td>4.000000</td>\n",
       "      <td>40.000000</td>\n",
       "      <td>18.000000</td>\n",
       "      <td>15.000000</td>\n",
       "      <td>17.000000</td>\n",
       "    </tr>\n",
       "  </tbody>\n",
       "</table>\n",
       "<p>8 rows × 26 columns</p>\n",
       "</div>"
      ],
      "text/plain": [
       "               Age    DailyRate  DistanceFromHome    Education  EmployeeCount  \\\n",
       "count  1470.000000  1470.000000       1470.000000  1470.000000         1470.0   \n",
       "mean     36.923810   802.485714          9.192517     2.912925            1.0   \n",
       "std       9.135373   403.509100          8.106864     1.024165            0.0   \n",
       "min      18.000000   102.000000          1.000000     1.000000            1.0   \n",
       "25%      30.000000   465.000000          2.000000     2.000000            1.0   \n",
       "50%      36.000000   802.000000          7.000000     3.000000            1.0   \n",
       "75%      43.000000  1157.000000         14.000000     4.000000            1.0   \n",
       "max      60.000000  1499.000000         29.000000     5.000000            1.0   \n",
       "\n",
       "       EmployeeNumber  EnvironmentSatisfaction   HourlyRate  JobInvolvement  \\\n",
       "count     1470.000000              1470.000000  1470.000000     1470.000000   \n",
       "mean      1024.865306                 2.721769    65.891156        2.729932   \n",
       "std        602.024335                 1.093082    20.329428        0.711561   \n",
       "min          1.000000                 1.000000    30.000000        1.000000   \n",
       "25%        491.250000                 2.000000    48.000000        2.000000   \n",
       "50%       1020.500000                 3.000000    66.000000        3.000000   \n",
       "75%       1555.750000                 4.000000    83.750000        3.000000   \n",
       "max       2068.000000                 4.000000   100.000000        4.000000   \n",
       "\n",
       "          JobLevel  ...  RelationshipSatisfaction  StandardHours  \\\n",
       "count  1470.000000  ...               1470.000000         1470.0   \n",
       "mean      2.063946  ...                  2.712245           80.0   \n",
       "std       1.106940  ...                  1.081209            0.0   \n",
       "min       1.000000  ...                  1.000000           80.0   \n",
       "25%       1.000000  ...                  2.000000           80.0   \n",
       "50%       2.000000  ...                  3.000000           80.0   \n",
       "75%       3.000000  ...                  4.000000           80.0   \n",
       "max       5.000000  ...                  4.000000           80.0   \n",
       "\n",
       "       StockOptionLevel  TotalWorkingYears  TrainingTimesLastYear  \\\n",
       "count       1470.000000        1470.000000            1470.000000   \n",
       "mean           0.793878          11.279592               2.799320   \n",
       "std            0.852077           7.780782               1.289271   \n",
       "min            0.000000           0.000000               0.000000   \n",
       "25%            0.000000           6.000000               2.000000   \n",
       "50%            1.000000          10.000000               3.000000   \n",
       "75%            1.000000          15.000000               3.000000   \n",
       "max            3.000000          40.000000               6.000000   \n",
       "\n",
       "       WorkLifeBalance  YearsAtCompany  YearsInCurrentRole  \\\n",
       "count      1470.000000     1470.000000         1470.000000   \n",
       "mean          2.761224        7.008163            4.229252   \n",
       "std           0.706476        6.126525            3.623137   \n",
       "min           1.000000        0.000000            0.000000   \n",
       "25%           2.000000        3.000000            2.000000   \n",
       "50%           3.000000        5.000000            3.000000   \n",
       "75%           3.000000        9.000000            7.000000   \n",
       "max           4.000000       40.000000           18.000000   \n",
       "\n",
       "       YearsSinceLastPromotion  YearsWithCurrManager  \n",
       "count              1470.000000           1470.000000  \n",
       "mean                  2.187755              4.123129  \n",
       "std                   3.222430              3.568136  \n",
       "min                   0.000000              0.000000  \n",
       "25%                   0.000000              2.000000  \n",
       "50%                   1.000000              3.000000  \n",
       "75%                   3.000000              7.000000  \n",
       "max                  15.000000             17.000000  \n",
       "\n",
       "[8 rows x 26 columns]"
      ]
     },
     "execution_count": 7,
     "metadata": {},
     "output_type": "execute_result"
    }
   ],
   "source": [
    "df.describe()"
   ]
  },
  {
   "cell_type": "code",
   "execution_count": 8,
   "id": "b728c152",
   "metadata": {},
   "outputs": [
    {
     "data": {
      "text/html": [
       "<div>\n",
       "<style scoped>\n",
       "    .dataframe tbody tr th:only-of-type {\n",
       "        vertical-align: middle;\n",
       "    }\n",
       "\n",
       "    .dataframe tbody tr th {\n",
       "        vertical-align: top;\n",
       "    }\n",
       "\n",
       "    .dataframe thead th {\n",
       "        text-align: right;\n",
       "    }\n",
       "</style>\n",
       "<table border=\"1\" class=\"dataframe\">\n",
       "  <thead>\n",
       "    <tr style=\"text-align: right;\">\n",
       "      <th></th>\n",
       "      <th>Age</th>\n",
       "      <th>Attrition</th>\n",
       "      <th>BusinessTravel</th>\n",
       "      <th>DailyRate</th>\n",
       "      <th>Department</th>\n",
       "      <th>DistanceFromHome</th>\n",
       "      <th>Education</th>\n",
       "      <th>EducationField</th>\n",
       "      <th>EmployeeCount</th>\n",
       "      <th>EmployeeNumber</th>\n",
       "      <th>...</th>\n",
       "      <th>RelationshipSatisfaction</th>\n",
       "      <th>StandardHours</th>\n",
       "      <th>StockOptionLevel</th>\n",
       "      <th>TotalWorkingYears</th>\n",
       "      <th>TrainingTimesLastYear</th>\n",
       "      <th>WorkLifeBalance</th>\n",
       "      <th>YearsAtCompany</th>\n",
       "      <th>YearsInCurrentRole</th>\n",
       "      <th>YearsSinceLastPromotion</th>\n",
       "      <th>YearsWithCurrManager</th>\n",
       "    </tr>\n",
       "  </thead>\n",
       "  <tbody>\n",
       "    <tr>\n",
       "      <th>count</th>\n",
       "      <td>1470.000000</td>\n",
       "      <td>1470</td>\n",
       "      <td>1470</td>\n",
       "      <td>1470.000000</td>\n",
       "      <td>1470</td>\n",
       "      <td>1470.000000</td>\n",
       "      <td>1470.000000</td>\n",
       "      <td>1470</td>\n",
       "      <td>1470.0</td>\n",
       "      <td>1470.000000</td>\n",
       "      <td>...</td>\n",
       "      <td>1470.000000</td>\n",
       "      <td>1470.0</td>\n",
       "      <td>1470.000000</td>\n",
       "      <td>1470.000000</td>\n",
       "      <td>1470.000000</td>\n",
       "      <td>1470.000000</td>\n",
       "      <td>1470.000000</td>\n",
       "      <td>1470.000000</td>\n",
       "      <td>1470.000000</td>\n",
       "      <td>1470.000000</td>\n",
       "    </tr>\n",
       "    <tr>\n",
       "      <th>unique</th>\n",
       "      <td>NaN</td>\n",
       "      <td>2</td>\n",
       "      <td>3</td>\n",
       "      <td>NaN</td>\n",
       "      <td>3</td>\n",
       "      <td>NaN</td>\n",
       "      <td>NaN</td>\n",
       "      <td>6</td>\n",
       "      <td>NaN</td>\n",
       "      <td>NaN</td>\n",
       "      <td>...</td>\n",
       "      <td>NaN</td>\n",
       "      <td>NaN</td>\n",
       "      <td>NaN</td>\n",
       "      <td>NaN</td>\n",
       "      <td>NaN</td>\n",
       "      <td>NaN</td>\n",
       "      <td>NaN</td>\n",
       "      <td>NaN</td>\n",
       "      <td>NaN</td>\n",
       "      <td>NaN</td>\n",
       "    </tr>\n",
       "    <tr>\n",
       "      <th>top</th>\n",
       "      <td>NaN</td>\n",
       "      <td>No</td>\n",
       "      <td>Travel_Rarely</td>\n",
       "      <td>NaN</td>\n",
       "      <td>Research &amp; Development</td>\n",
       "      <td>NaN</td>\n",
       "      <td>NaN</td>\n",
       "      <td>Life Sciences</td>\n",
       "      <td>NaN</td>\n",
       "      <td>NaN</td>\n",
       "      <td>...</td>\n",
       "      <td>NaN</td>\n",
       "      <td>NaN</td>\n",
       "      <td>NaN</td>\n",
       "      <td>NaN</td>\n",
       "      <td>NaN</td>\n",
       "      <td>NaN</td>\n",
       "      <td>NaN</td>\n",
       "      <td>NaN</td>\n",
       "      <td>NaN</td>\n",
       "      <td>NaN</td>\n",
       "    </tr>\n",
       "    <tr>\n",
       "      <th>freq</th>\n",
       "      <td>NaN</td>\n",
       "      <td>1233</td>\n",
       "      <td>1043</td>\n",
       "      <td>NaN</td>\n",
       "      <td>961</td>\n",
       "      <td>NaN</td>\n",
       "      <td>NaN</td>\n",
       "      <td>606</td>\n",
       "      <td>NaN</td>\n",
       "      <td>NaN</td>\n",
       "      <td>...</td>\n",
       "      <td>NaN</td>\n",
       "      <td>NaN</td>\n",
       "      <td>NaN</td>\n",
       "      <td>NaN</td>\n",
       "      <td>NaN</td>\n",
       "      <td>NaN</td>\n",
       "      <td>NaN</td>\n",
       "      <td>NaN</td>\n",
       "      <td>NaN</td>\n",
       "      <td>NaN</td>\n",
       "    </tr>\n",
       "    <tr>\n",
       "      <th>mean</th>\n",
       "      <td>36.923810</td>\n",
       "      <td>NaN</td>\n",
       "      <td>NaN</td>\n",
       "      <td>802.485714</td>\n",
       "      <td>NaN</td>\n",
       "      <td>9.192517</td>\n",
       "      <td>2.912925</td>\n",
       "      <td>NaN</td>\n",
       "      <td>1.0</td>\n",
       "      <td>1024.865306</td>\n",
       "      <td>...</td>\n",
       "      <td>2.712245</td>\n",
       "      <td>80.0</td>\n",
       "      <td>0.793878</td>\n",
       "      <td>11.279592</td>\n",
       "      <td>2.799320</td>\n",
       "      <td>2.761224</td>\n",
       "      <td>7.008163</td>\n",
       "      <td>4.229252</td>\n",
       "      <td>2.187755</td>\n",
       "      <td>4.123129</td>\n",
       "    </tr>\n",
       "    <tr>\n",
       "      <th>std</th>\n",
       "      <td>9.135373</td>\n",
       "      <td>NaN</td>\n",
       "      <td>NaN</td>\n",
       "      <td>403.509100</td>\n",
       "      <td>NaN</td>\n",
       "      <td>8.106864</td>\n",
       "      <td>1.024165</td>\n",
       "      <td>NaN</td>\n",
       "      <td>0.0</td>\n",
       "      <td>602.024335</td>\n",
       "      <td>...</td>\n",
       "      <td>1.081209</td>\n",
       "      <td>0.0</td>\n",
       "      <td>0.852077</td>\n",
       "      <td>7.780782</td>\n",
       "      <td>1.289271</td>\n",
       "      <td>0.706476</td>\n",
       "      <td>6.126525</td>\n",
       "      <td>3.623137</td>\n",
       "      <td>3.222430</td>\n",
       "      <td>3.568136</td>\n",
       "    </tr>\n",
       "    <tr>\n",
       "      <th>min</th>\n",
       "      <td>18.000000</td>\n",
       "      <td>NaN</td>\n",
       "      <td>NaN</td>\n",
       "      <td>102.000000</td>\n",
       "      <td>NaN</td>\n",
       "      <td>1.000000</td>\n",
       "      <td>1.000000</td>\n",
       "      <td>NaN</td>\n",
       "      <td>1.0</td>\n",
       "      <td>1.000000</td>\n",
       "      <td>...</td>\n",
       "      <td>1.000000</td>\n",
       "      <td>80.0</td>\n",
       "      <td>0.000000</td>\n",
       "      <td>0.000000</td>\n",
       "      <td>0.000000</td>\n",
       "      <td>1.000000</td>\n",
       "      <td>0.000000</td>\n",
       "      <td>0.000000</td>\n",
       "      <td>0.000000</td>\n",
       "      <td>0.000000</td>\n",
       "    </tr>\n",
       "    <tr>\n",
       "      <th>25%</th>\n",
       "      <td>30.000000</td>\n",
       "      <td>NaN</td>\n",
       "      <td>NaN</td>\n",
       "      <td>465.000000</td>\n",
       "      <td>NaN</td>\n",
       "      <td>2.000000</td>\n",
       "      <td>2.000000</td>\n",
       "      <td>NaN</td>\n",
       "      <td>1.0</td>\n",
       "      <td>491.250000</td>\n",
       "      <td>...</td>\n",
       "      <td>2.000000</td>\n",
       "      <td>80.0</td>\n",
       "      <td>0.000000</td>\n",
       "      <td>6.000000</td>\n",
       "      <td>2.000000</td>\n",
       "      <td>2.000000</td>\n",
       "      <td>3.000000</td>\n",
       "      <td>2.000000</td>\n",
       "      <td>0.000000</td>\n",
       "      <td>2.000000</td>\n",
       "    </tr>\n",
       "    <tr>\n",
       "      <th>50%</th>\n",
       "      <td>36.000000</td>\n",
       "      <td>NaN</td>\n",
       "      <td>NaN</td>\n",
       "      <td>802.000000</td>\n",
       "      <td>NaN</td>\n",
       "      <td>7.000000</td>\n",
       "      <td>3.000000</td>\n",
       "      <td>NaN</td>\n",
       "      <td>1.0</td>\n",
       "      <td>1020.500000</td>\n",
       "      <td>...</td>\n",
       "      <td>3.000000</td>\n",
       "      <td>80.0</td>\n",
       "      <td>1.000000</td>\n",
       "      <td>10.000000</td>\n",
       "      <td>3.000000</td>\n",
       "      <td>3.000000</td>\n",
       "      <td>5.000000</td>\n",
       "      <td>3.000000</td>\n",
       "      <td>1.000000</td>\n",
       "      <td>3.000000</td>\n",
       "    </tr>\n",
       "    <tr>\n",
       "      <th>75%</th>\n",
       "      <td>43.000000</td>\n",
       "      <td>NaN</td>\n",
       "      <td>NaN</td>\n",
       "      <td>1157.000000</td>\n",
       "      <td>NaN</td>\n",
       "      <td>14.000000</td>\n",
       "      <td>4.000000</td>\n",
       "      <td>NaN</td>\n",
       "      <td>1.0</td>\n",
       "      <td>1555.750000</td>\n",
       "      <td>...</td>\n",
       "      <td>4.000000</td>\n",
       "      <td>80.0</td>\n",
       "      <td>1.000000</td>\n",
       "      <td>15.000000</td>\n",
       "      <td>3.000000</td>\n",
       "      <td>3.000000</td>\n",
       "      <td>9.000000</td>\n",
       "      <td>7.000000</td>\n",
       "      <td>3.000000</td>\n",
       "      <td>7.000000</td>\n",
       "    </tr>\n",
       "    <tr>\n",
       "      <th>max</th>\n",
       "      <td>60.000000</td>\n",
       "      <td>NaN</td>\n",
       "      <td>NaN</td>\n",
       "      <td>1499.000000</td>\n",
       "      <td>NaN</td>\n",
       "      <td>29.000000</td>\n",
       "      <td>5.000000</td>\n",
       "      <td>NaN</td>\n",
       "      <td>1.0</td>\n",
       "      <td>2068.000000</td>\n",
       "      <td>...</td>\n",
       "      <td>4.000000</td>\n",
       "      <td>80.0</td>\n",
       "      <td>3.000000</td>\n",
       "      <td>40.000000</td>\n",
       "      <td>6.000000</td>\n",
       "      <td>4.000000</td>\n",
       "      <td>40.000000</td>\n",
       "      <td>18.000000</td>\n",
       "      <td>15.000000</td>\n",
       "      <td>17.000000</td>\n",
       "    </tr>\n",
       "  </tbody>\n",
       "</table>\n",
       "<p>11 rows × 35 columns</p>\n",
       "</div>"
      ],
      "text/plain": [
       "                Age Attrition BusinessTravel    DailyRate  \\\n",
       "count   1470.000000      1470           1470  1470.000000   \n",
       "unique          NaN         2              3          NaN   \n",
       "top             NaN        No  Travel_Rarely          NaN   \n",
       "freq            NaN      1233           1043          NaN   \n",
       "mean      36.923810       NaN            NaN   802.485714   \n",
       "std        9.135373       NaN            NaN   403.509100   \n",
       "min       18.000000       NaN            NaN   102.000000   \n",
       "25%       30.000000       NaN            NaN   465.000000   \n",
       "50%       36.000000       NaN            NaN   802.000000   \n",
       "75%       43.000000       NaN            NaN  1157.000000   \n",
       "max       60.000000       NaN            NaN  1499.000000   \n",
       "\n",
       "                    Department  DistanceFromHome    Education EducationField  \\\n",
       "count                     1470       1470.000000  1470.000000           1470   \n",
       "unique                       3               NaN          NaN              6   \n",
       "top     Research & Development               NaN          NaN  Life Sciences   \n",
       "freq                       961               NaN          NaN            606   \n",
       "mean                       NaN          9.192517     2.912925            NaN   \n",
       "std                        NaN          8.106864     1.024165            NaN   \n",
       "min                        NaN          1.000000     1.000000            NaN   \n",
       "25%                        NaN          2.000000     2.000000            NaN   \n",
       "50%                        NaN          7.000000     3.000000            NaN   \n",
       "75%                        NaN         14.000000     4.000000            NaN   \n",
       "max                        NaN         29.000000     5.000000            NaN   \n",
       "\n",
       "        EmployeeCount  EmployeeNumber  ...  RelationshipSatisfaction  \\\n",
       "count          1470.0     1470.000000  ...               1470.000000   \n",
       "unique            NaN             NaN  ...                       NaN   \n",
       "top               NaN             NaN  ...                       NaN   \n",
       "freq              NaN             NaN  ...                       NaN   \n",
       "mean              1.0     1024.865306  ...                  2.712245   \n",
       "std               0.0      602.024335  ...                  1.081209   \n",
       "min               1.0        1.000000  ...                  1.000000   \n",
       "25%               1.0      491.250000  ...                  2.000000   \n",
       "50%               1.0     1020.500000  ...                  3.000000   \n",
       "75%               1.0     1555.750000  ...                  4.000000   \n",
       "max               1.0     2068.000000  ...                  4.000000   \n",
       "\n",
       "       StandardHours  StockOptionLevel  TotalWorkingYears  \\\n",
       "count         1470.0       1470.000000        1470.000000   \n",
       "unique           NaN               NaN                NaN   \n",
       "top              NaN               NaN                NaN   \n",
       "freq             NaN               NaN                NaN   \n",
       "mean            80.0          0.793878          11.279592   \n",
       "std              0.0          0.852077           7.780782   \n",
       "min             80.0          0.000000           0.000000   \n",
       "25%             80.0          0.000000           6.000000   \n",
       "50%             80.0          1.000000          10.000000   \n",
       "75%             80.0          1.000000          15.000000   \n",
       "max             80.0          3.000000          40.000000   \n",
       "\n",
       "        TrainingTimesLastYear WorkLifeBalance  YearsAtCompany  \\\n",
       "count             1470.000000     1470.000000     1470.000000   \n",
       "unique                    NaN             NaN             NaN   \n",
       "top                       NaN             NaN             NaN   \n",
       "freq                      NaN             NaN             NaN   \n",
       "mean                 2.799320        2.761224        7.008163   \n",
       "std                  1.289271        0.706476        6.126525   \n",
       "min                  0.000000        1.000000        0.000000   \n",
       "25%                  2.000000        2.000000        3.000000   \n",
       "50%                  3.000000        3.000000        5.000000   \n",
       "75%                  3.000000        3.000000        9.000000   \n",
       "max                  6.000000        4.000000       40.000000   \n",
       "\n",
       "       YearsInCurrentRole  YearsSinceLastPromotion  YearsWithCurrManager  \n",
       "count         1470.000000              1470.000000           1470.000000  \n",
       "unique                NaN                      NaN                   NaN  \n",
       "top                   NaN                      NaN                   NaN  \n",
       "freq                  NaN                      NaN                   NaN  \n",
       "mean             4.229252                 2.187755              4.123129  \n",
       "std              3.623137                 3.222430              3.568136  \n",
       "min              0.000000                 0.000000              0.000000  \n",
       "25%              2.000000                 0.000000              2.000000  \n",
       "50%              3.000000                 1.000000              3.000000  \n",
       "75%              7.000000                 3.000000              7.000000  \n",
       "max             18.000000                15.000000             17.000000  \n",
       "\n",
       "[11 rows x 35 columns]"
      ]
     },
     "execution_count": 8,
     "metadata": {},
     "output_type": "execute_result"
    }
   ],
   "source": [
    "df.describe(include='all')"
   ]
  },
  {
   "cell_type": "code",
   "execution_count": 9,
   "id": "6f1ec227",
   "metadata": {},
   "outputs": [
    {
     "name": "stdout",
     "output_type": "stream",
     "text": [
      "<class 'pandas.core.frame.DataFrame'>\n",
      "RangeIndex: 1470 entries, 0 to 1469\n",
      "Data columns (total 35 columns):\n",
      " #   Column                    Non-Null Count  Dtype \n",
      "---  ------                    --------------  ----- \n",
      " 0   Age                       1470 non-null   int64 \n",
      " 1   Attrition                 1470 non-null   object\n",
      " 2   BusinessTravel            1470 non-null   object\n",
      " 3   DailyRate                 1470 non-null   int64 \n",
      " 4   Department                1470 non-null   object\n",
      " 5   DistanceFromHome          1470 non-null   int64 \n",
      " 6   Education                 1470 non-null   int64 \n",
      " 7   EducationField            1470 non-null   object\n",
      " 8   EmployeeCount             1470 non-null   int64 \n",
      " 9   EmployeeNumber            1470 non-null   int64 \n",
      " 10  EnvironmentSatisfaction   1470 non-null   int64 \n",
      " 11  Gender                    1470 non-null   object\n",
      " 12  HourlyRate                1470 non-null   int64 \n",
      " 13  JobInvolvement            1470 non-null   int64 \n",
      " 14  JobLevel                  1470 non-null   int64 \n",
      " 15  JobRole                   1470 non-null   object\n",
      " 16  JobSatisfaction           1470 non-null   int64 \n",
      " 17  MaritalStatus             1470 non-null   object\n",
      " 18  MonthlyIncome             1470 non-null   int64 \n",
      " 19  MonthlyRate               1470 non-null   int64 \n",
      " 20  NumCompaniesWorked        1470 non-null   int64 \n",
      " 21  Over18                    1470 non-null   object\n",
      " 22  OverTime                  1470 non-null   object\n",
      " 23  PercentSalaryHike         1470 non-null   int64 \n",
      " 24  PerformanceRating         1470 non-null   int64 \n",
      " 25  RelationshipSatisfaction  1470 non-null   int64 \n",
      " 26  StandardHours             1470 non-null   int64 \n",
      " 27  StockOptionLevel          1470 non-null   int64 \n",
      " 28  TotalWorkingYears         1470 non-null   int64 \n",
      " 29  TrainingTimesLastYear     1470 non-null   int64 \n",
      " 30  WorkLifeBalance           1470 non-null   int64 \n",
      " 31  YearsAtCompany            1470 non-null   int64 \n",
      " 32  YearsInCurrentRole        1470 non-null   int64 \n",
      " 33  YearsSinceLastPromotion   1470 non-null   int64 \n",
      " 34  YearsWithCurrManager      1470 non-null   int64 \n",
      "dtypes: int64(26), object(9)\n",
      "memory usage: 402.1+ KB\n"
     ]
    }
   ],
   "source": [
    "df.info()"
   ]
  },
  {
   "cell_type": "markdown",
   "id": "bf0c9b81",
   "metadata": {},
   "source": [
    "## 4. Data Preprocessing\n",
    "Data preprocessing is a crucial step in preparing raw data for analysis or modeling. It involves identifying and handling issues such as missing values, outliers, and type inconsistencies, and transforming the data into a suitable format for analysis. The main goal is to ensure accurate and reliable results, which can significantly impact subsequent data analysis or modeling."
   ]
  },
  {
   "cell_type": "markdown",
   "id": "c5614551",
   "metadata": {},
   "source": [
    "### 4.1 Null values analysis"
   ]
  },
  {
   "cell_type": "code",
   "execution_count": 10,
   "id": "4de732b1",
   "metadata": {},
   "outputs": [
    {
     "data": {
      "text/plain": [
       "Age                         0\n",
       "Attrition                   0\n",
       "BusinessTravel              0\n",
       "DailyRate                   0\n",
       "Department                  0\n",
       "DistanceFromHome            0\n",
       "Education                   0\n",
       "EducationField              0\n",
       "EmployeeCount               0\n",
       "EmployeeNumber              0\n",
       "EnvironmentSatisfaction     0\n",
       "Gender                      0\n",
       "HourlyRate                  0\n",
       "JobInvolvement              0\n",
       "JobLevel                    0\n",
       "JobRole                     0\n",
       "JobSatisfaction             0\n",
       "MaritalStatus               0\n",
       "MonthlyIncome               0\n",
       "MonthlyRate                 0\n",
       "NumCompaniesWorked          0\n",
       "Over18                      0\n",
       "OverTime                    0\n",
       "PercentSalaryHike           0\n",
       "PerformanceRating           0\n",
       "RelationshipSatisfaction    0\n",
       "StandardHours               0\n",
       "StockOptionLevel            0\n",
       "TotalWorkingYears           0\n",
       "TrainingTimesLastYear       0\n",
       "WorkLifeBalance             0\n",
       "YearsAtCompany              0\n",
       "YearsInCurrentRole          0\n",
       "YearsSinceLastPromotion     0\n",
       "YearsWithCurrManager        0\n",
       "dtype: int64"
      ]
     },
     "execution_count": 10,
     "metadata": {},
     "output_type": "execute_result"
    }
   ],
   "source": [
    "df.isnull().sum()"
   ]
  },
  {
   "cell_type": "code",
   "execution_count": 11,
   "id": "32d85830",
   "metadata": {},
   "outputs": [
    {
     "data": {
      "text/plain": [
       "Age                           43\n",
       "Attrition                      2\n",
       "BusinessTravel                 3\n",
       "DailyRate                    886\n",
       "Department                     3\n",
       "DistanceFromHome              29\n",
       "Education                      5\n",
       "EducationField                 6\n",
       "EmployeeCount                  1\n",
       "EmployeeNumber              1470\n",
       "EnvironmentSatisfaction        4\n",
       "Gender                         2\n",
       "HourlyRate                    71\n",
       "JobInvolvement                 4\n",
       "JobLevel                       5\n",
       "JobRole                        9\n",
       "JobSatisfaction                4\n",
       "MaritalStatus                  3\n",
       "MonthlyIncome               1349\n",
       "MonthlyRate                 1427\n",
       "NumCompaniesWorked            10\n",
       "Over18                         1\n",
       "OverTime                       2\n",
       "PercentSalaryHike             15\n",
       "PerformanceRating              2\n",
       "RelationshipSatisfaction       4\n",
       "StandardHours                  1\n",
       "StockOptionLevel               4\n",
       "TotalWorkingYears             40\n",
       "TrainingTimesLastYear          7\n",
       "WorkLifeBalance                4\n",
       "YearsAtCompany                37\n",
       "YearsInCurrentRole            19\n",
       "YearsSinceLastPromotion       16\n",
       "YearsWithCurrManager          18\n",
       "dtype: int64"
      ]
     },
     "execution_count": 11,
     "metadata": {},
     "output_type": "execute_result"
    }
   ],
   "source": [
    "df.nunique()"
   ]
  },
  {
   "cell_type": "markdown",
   "id": "88e8691e",
   "metadata": {},
   "source": [
    "Given that the columns Over18, EmployeeCount, and StandardHours only contain one type of value, they are not expected to provide any useful information for our analysis. Therefore, we have decided to remove these columns from the dataset to reduce complexity and improve the efficiency of subsequent analyses."
   ]
  },
  {
   "cell_type": "code",
   "execution_count": 12,
   "id": "27d817bc",
   "metadata": {},
   "outputs": [],
   "source": [
    "df.drop(['Over18', 'StandardHours', 'EmployeeCount'], axis = 1, inplace = True)"
   ]
  },
  {
   "cell_type": "code",
   "execution_count": 13,
   "id": "21adb378",
   "metadata": {},
   "outputs": [
    {
     "data": {
      "text/html": [
       "<div>\n",
       "<style scoped>\n",
       "    .dataframe tbody tr th:only-of-type {\n",
       "        vertical-align: middle;\n",
       "    }\n",
       "\n",
       "    .dataframe tbody tr th {\n",
       "        vertical-align: top;\n",
       "    }\n",
       "\n",
       "    .dataframe thead th {\n",
       "        text-align: right;\n",
       "    }\n",
       "</style>\n",
       "<table border=\"1\" class=\"dataframe\">\n",
       "  <thead>\n",
       "    <tr style=\"text-align: right;\">\n",
       "      <th></th>\n",
       "      <th>Age</th>\n",
       "      <th>Attrition</th>\n",
       "      <th>BusinessTravel</th>\n",
       "      <th>DailyRate</th>\n",
       "      <th>Department</th>\n",
       "      <th>DistanceFromHome</th>\n",
       "      <th>Education</th>\n",
       "      <th>EducationField</th>\n",
       "      <th>EmployeeNumber</th>\n",
       "      <th>EnvironmentSatisfaction</th>\n",
       "      <th>...</th>\n",
       "      <th>PerformanceRating</th>\n",
       "      <th>RelationshipSatisfaction</th>\n",
       "      <th>StockOptionLevel</th>\n",
       "      <th>TotalWorkingYears</th>\n",
       "      <th>TrainingTimesLastYear</th>\n",
       "      <th>WorkLifeBalance</th>\n",
       "      <th>YearsAtCompany</th>\n",
       "      <th>YearsInCurrentRole</th>\n",
       "      <th>YearsSinceLastPromotion</th>\n",
       "      <th>YearsWithCurrManager</th>\n",
       "    </tr>\n",
       "  </thead>\n",
       "  <tbody>\n",
       "    <tr>\n",
       "      <th>0</th>\n",
       "      <td>41</td>\n",
       "      <td>Yes</td>\n",
       "      <td>Travel_Rarely</td>\n",
       "      <td>1102</td>\n",
       "      <td>Sales</td>\n",
       "      <td>1</td>\n",
       "      <td>2</td>\n",
       "      <td>Life Sciences</td>\n",
       "      <td>1</td>\n",
       "      <td>2</td>\n",
       "      <td>...</td>\n",
       "      <td>3</td>\n",
       "      <td>1</td>\n",
       "      <td>0</td>\n",
       "      <td>8</td>\n",
       "      <td>0</td>\n",
       "      <td>1</td>\n",
       "      <td>6</td>\n",
       "      <td>4</td>\n",
       "      <td>0</td>\n",
       "      <td>5</td>\n",
       "    </tr>\n",
       "    <tr>\n",
       "      <th>1</th>\n",
       "      <td>49</td>\n",
       "      <td>No</td>\n",
       "      <td>Travel_Frequently</td>\n",
       "      <td>279</td>\n",
       "      <td>Research &amp; Development</td>\n",
       "      <td>8</td>\n",
       "      <td>1</td>\n",
       "      <td>Life Sciences</td>\n",
       "      <td>2</td>\n",
       "      <td>3</td>\n",
       "      <td>...</td>\n",
       "      <td>4</td>\n",
       "      <td>4</td>\n",
       "      <td>1</td>\n",
       "      <td>10</td>\n",
       "      <td>3</td>\n",
       "      <td>3</td>\n",
       "      <td>10</td>\n",
       "      <td>7</td>\n",
       "      <td>1</td>\n",
       "      <td>7</td>\n",
       "    </tr>\n",
       "    <tr>\n",
       "      <th>2</th>\n",
       "      <td>37</td>\n",
       "      <td>Yes</td>\n",
       "      <td>Travel_Rarely</td>\n",
       "      <td>1373</td>\n",
       "      <td>Research &amp; Development</td>\n",
       "      <td>2</td>\n",
       "      <td>2</td>\n",
       "      <td>Other</td>\n",
       "      <td>4</td>\n",
       "      <td>4</td>\n",
       "      <td>...</td>\n",
       "      <td>3</td>\n",
       "      <td>2</td>\n",
       "      <td>0</td>\n",
       "      <td>7</td>\n",
       "      <td>3</td>\n",
       "      <td>3</td>\n",
       "      <td>0</td>\n",
       "      <td>0</td>\n",
       "      <td>0</td>\n",
       "      <td>0</td>\n",
       "    </tr>\n",
       "    <tr>\n",
       "      <th>3</th>\n",
       "      <td>33</td>\n",
       "      <td>No</td>\n",
       "      <td>Travel_Frequently</td>\n",
       "      <td>1392</td>\n",
       "      <td>Research &amp; Development</td>\n",
       "      <td>3</td>\n",
       "      <td>4</td>\n",
       "      <td>Life Sciences</td>\n",
       "      <td>5</td>\n",
       "      <td>4</td>\n",
       "      <td>...</td>\n",
       "      <td>3</td>\n",
       "      <td>3</td>\n",
       "      <td>0</td>\n",
       "      <td>8</td>\n",
       "      <td>3</td>\n",
       "      <td>3</td>\n",
       "      <td>8</td>\n",
       "      <td>7</td>\n",
       "      <td>3</td>\n",
       "      <td>0</td>\n",
       "    </tr>\n",
       "    <tr>\n",
       "      <th>4</th>\n",
       "      <td>27</td>\n",
       "      <td>No</td>\n",
       "      <td>Travel_Rarely</td>\n",
       "      <td>591</td>\n",
       "      <td>Research &amp; Development</td>\n",
       "      <td>2</td>\n",
       "      <td>1</td>\n",
       "      <td>Medical</td>\n",
       "      <td>7</td>\n",
       "      <td>1</td>\n",
       "      <td>...</td>\n",
       "      <td>3</td>\n",
       "      <td>4</td>\n",
       "      <td>1</td>\n",
       "      <td>6</td>\n",
       "      <td>3</td>\n",
       "      <td>3</td>\n",
       "      <td>2</td>\n",
       "      <td>2</td>\n",
       "      <td>2</td>\n",
       "      <td>2</td>\n",
       "    </tr>\n",
       "  </tbody>\n",
       "</table>\n",
       "<p>5 rows × 32 columns</p>\n",
       "</div>"
      ],
      "text/plain": [
       "   Age Attrition     BusinessTravel  DailyRate              Department  \\\n",
       "0   41       Yes      Travel_Rarely       1102                   Sales   \n",
       "1   49        No  Travel_Frequently        279  Research & Development   \n",
       "2   37       Yes      Travel_Rarely       1373  Research & Development   \n",
       "3   33        No  Travel_Frequently       1392  Research & Development   \n",
       "4   27        No      Travel_Rarely        591  Research & Development   \n",
       "\n",
       "   DistanceFromHome  Education EducationField  EmployeeNumber  \\\n",
       "0                 1          2  Life Sciences               1   \n",
       "1                 8          1  Life Sciences               2   \n",
       "2                 2          2          Other               4   \n",
       "3                 3          4  Life Sciences               5   \n",
       "4                 2          1        Medical               7   \n",
       "\n",
       "   EnvironmentSatisfaction  ... PerformanceRating  RelationshipSatisfaction  \\\n",
       "0                        2  ...                 3                         1   \n",
       "1                        3  ...                 4                         4   \n",
       "2                        4  ...                 3                         2   \n",
       "3                        4  ...                 3                         3   \n",
       "4                        1  ...                 3                         4   \n",
       "\n",
       "   StockOptionLevel  TotalWorkingYears TrainingTimesLastYear  WorkLifeBalance  \\\n",
       "0                 0                  8                     0                1   \n",
       "1                 1                 10                     3                3   \n",
       "2                 0                  7                     3                3   \n",
       "3                 0                  8                     3                3   \n",
       "4                 1                  6                     3                3   \n",
       "\n",
       "  YearsAtCompany  YearsInCurrentRole  YearsSinceLastPromotion  \\\n",
       "0              6                   4                        0   \n",
       "1             10                   7                        1   \n",
       "2              0                   0                        0   \n",
       "3              8                   7                        3   \n",
       "4              2                   2                        2   \n",
       "\n",
       "   YearsWithCurrManager  \n",
       "0                     5  \n",
       "1                     7  \n",
       "2                     0  \n",
       "3                     0  \n",
       "4                     2  \n",
       "\n",
       "[5 rows x 32 columns]"
      ]
     },
     "execution_count": 13,
     "metadata": {},
     "output_type": "execute_result"
    }
   ],
   "source": [
    "df.head()"
   ]
  },
  {
   "cell_type": "markdown",
   "id": "7888f1fc",
   "metadata": {},
   "source": [
    "The dataset contains employee information on 1470 observations, with each observation having 32 associated columns of data.  Therefore, there are a total of 32 variables or features that can be used to study the characteristics and relationships among the observations in the dataset. Upon preliminary examination, no null values or type inconsistencies were detected. To gain a more comprehensive understanding of the data, we will conduct additional analyses, including univariate, bivariate, and multivariate approaches."
   ]
  },
  {
   "cell_type": "markdown",
   "id": "209f1686",
   "metadata": {},
   "source": [
    "### 4.2 Writing the clean data to WA_Fn-UseC_-HR-Employee-Attrition-clean.csv"
   ]
  },
  {
   "cell_type": "code",
   "execution_count": 14,
   "id": "dbbf6221",
   "metadata": {},
   "outputs": [],
   "source": [
    "df.to_csv(\"WA_Fn-UseC_-HR-Employee-Attrition-clean.csv\", header=True,index=False)"
   ]
  },
  {
   "cell_type": "markdown",
   "id": "f081ea4f",
   "metadata": {},
   "source": [
    "## 5. Univariate Analysis\n",
    "Univariate analysis is a statistical technique used to examine the characteristics of a single variable or attribute. In the context of employee attrition, univariate analysis can be used to explore the distribution and frequency of various factors that may be contributing to attrition. Some examples of factors that may be explored using univariate analysis in the context of employee attrition include: age, gender, education level, job level, department, salary, work-life balance, job satisfaction, performance rating, and years at the company. This technique can help identify which factors are contributing more strongly to attrition and guide further analysis and modeling. It can also be used to identify outliers or anomalies in the data, and provide a basic summary of the data that can inform the choice of appropriate statistical tests or models.\n"
   ]
  },
  {
   "cell_type": "code",
   "execution_count": 58,
   "id": "384392d6",
   "metadata": {},
   "outputs": [],
   "source": [
    "# Using the colorblind palette from the Seaborn library for visualization\n",
    "colors = sns.color_palette('colorblind')"
   ]
  },
  {
   "cell_type": "markdown",
   "id": "fa174dfe",
   "metadata": {},
   "source": [
    "### 5.1 Age"
   ]
  },
  {
   "cell_type": "code",
   "execution_count": 15,
   "id": "ffecc29b",
   "metadata": {},
   "outputs": [
    {
     "name": "stdout",
     "output_type": "stream",
     "text": [
      "    Counts Percentages\n",
      "35      78       5.31%\n",
      "34      77       5.24%\n",
      "36      69       4.69%\n",
      "31      69       4.69%\n",
      "29      68       4.63%\n",
      "32      61       4.15%\n",
      "30      60       4.08%\n",
      "33      58       3.95%\n",
      "38      58       3.95%\n",
      "40      57       3.88%\n",
      "37      50       3.40%\n",
      "27      48       3.27%\n",
      "28      48       3.27%\n",
      "42      46       3.13%\n",
      "39      42       2.86%\n",
      "45      41       2.79%\n",
      "41      40       2.72%\n",
      "26      39       2.65%\n",
      "44      33       2.24%\n",
      "46      33       2.24%\n",
      "43      32       2.18%\n",
      "50      30       2.04%\n",
      "25      26       1.77%\n",
      "24      26       1.77%\n",
      "49      24       1.63%\n",
      "47      24       1.63%\n",
      "55      22       1.50%\n",
      "51      19       1.29%\n",
      "53      19       1.29%\n",
      "48      19       1.29%\n",
      "54      18       1.22%\n",
      "52      18       1.22%\n",
      "22      16       1.09%\n",
      "56      14       0.95%\n",
      "23      14       0.95%\n",
      "58      14       0.95%\n",
      "21      13       0.88%\n",
      "20      11       0.75%\n",
      "59      10       0.68%\n",
      "19       9       0.61%\n",
      "18       8       0.54%\n",
      "60       5       0.34%\n",
      "57       4       0.27%\n"
     ]
    }
   ],
   "source": [
    "# creating a new DataFrame with the age counts and percentages\n",
    "age_data = pd.DataFrame({'Counts': df['Age'].value_counts(), 'Percentages': df[\"Age\"].value_counts()/len(df) * 100})\n",
    "print(age_data.to_string(formatters={'Percentages': '{:.2f}%'.format}))"
   ]
  },
  {
   "cell_type": "markdown",
   "id": "9ab2e6fe",
   "metadata": {},
   "source": [
    "#### Age statistical summary"
   ]
  },
  {
   "cell_type": "code",
   "execution_count": 16,
   "id": "c7ecf16b",
   "metadata": {},
   "outputs": [
    {
     "data": {
      "text/plain": [
       "count    1470.000000\n",
       "mean       36.923810\n",
       "std         9.135373\n",
       "min        18.000000\n",
       "25%        30.000000\n",
       "50%        36.000000\n",
       "75%        43.000000\n",
       "max        60.000000\n",
       "Name: Age, dtype: float64"
      ]
     },
     "execution_count": 16,
     "metadata": {},
     "output_type": "execute_result"
    }
   ],
   "source": [
    "df['Age'].describe()"
   ]
  },
  {
   "cell_type": "markdown",
   "id": "22e1b014",
   "metadata": {},
   "source": [
    "#### Age Outlier Analysis"
   ]
  },
  {
   "cell_type": "code",
   "execution_count": 17,
   "id": "28319424",
   "metadata": {},
   "outputs": [],
   "source": [
    "from scipy import stats\n",
    "# Calculate z-scores of column 'Age'\n",
    "z_scores = stats.zscore(df['Age'])\n",
    "\n",
    "# Identify outliers with a z-score of greater than 3 or less than -3\n",
    "outliers = df[(z_scores > 3) | (z_scores < -3)]"
   ]
  },
  {
   "cell_type": "code",
   "execution_count": 18,
   "id": "3d22bb88",
   "metadata": {},
   "outputs": [
    {
     "data": {
      "text/plain": [
       "(0, 32)"
      ]
     },
     "execution_count": 18,
     "metadata": {},
     "output_type": "execute_result"
    }
   ],
   "source": [
    "outliers.shape"
   ]
  },
  {
   "cell_type": "markdown",
   "id": "bc9ebcff",
   "metadata": {},
   "source": [
    "A z-score is a measure of how many standard deviations an observation is from the mean. In the context of outlier detection, an observation with a z-score greater than a certain threshold (3 is a common threshold). Based on the calculation of z-scores for the age column, we have found that all age values are within three standard deviations from the mean. This means that there are no age values that are too far from the average, and therefore, we can conclude that there are no outliers in the age column based on z-score."
   ]
  },
  {
   "cell_type": "markdown",
   "id": "7e04be4a",
   "metadata": {},
   "source": [
    "#### Visualizing Age"
   ]
  },
  {
   "cell_type": "code",
   "execution_count": 60,
   "id": "6b2ec5d5",
   "metadata": {},
   "outputs": [
    {
     "data": {
      "image/png": "[encoded data removed]",
      "text/plain": [
       "<Figure size 720x720 with 1 Axes>"
      ]
     },
     "metadata": {
      "needs_background": "light"
     },
     "output_type": "display_data"
    }
   ],
   "source": [
    "fig, ax = plt.subplots(figsize=(10, 10))\n",
    "sns.boxplot(x=df['Age'], ax=ax)\n",
    "ax.set_title('Distribution of Age', fontsize=15)\n",
    "plt.xlabel('Age', fontsize=12)\n",
    "# Show plot\n",
    "plt.show()"
   ]
  },
  {
   "cell_type": "code",
   "execution_count": 61,
   "id": "3e12accb",
   "metadata": {},
   "outputs": [
    {
     "data": {
      "image/png": "[encoded data removed]",
      "text/plain": [
       "<Figure size 864x720 with 1 Axes>"
      ]
     },
     "metadata": {
      "needs_background": "light"
     },
     "output_type": "display_data"
    }
   ],
   "source": [
    "age_data.plot(kind='bar', figsize=(12,10),color=colors)\n",
    "# setting the chart title and axis labels\n",
    "plt.title('Age Distribution', fontsize=15)\n",
    "plt.xlabel('Age', fontsize=12)\n",
    "plt.ylabel('Counts',fontsize=12)\n",
    "\n",
    "# show the chart\n",
    "plt.show()"
   ]
  },
  {
   "cell_type": "markdown",
   "id": "6182c10e",
   "metadata": {},
   "source": [
    "### 5.1 Observations of Age column\n",
    "\n",
    "1. The range of ages from 18 to 60 is simply the difference between the smallest and largest age values in the dataset.\n",
    "2. Maximum frequency of people are from age 35 and minimum frequency is of age 57\n",
    "3. Mean age of the sample is 36.92 ~ 37 years.\n",
    "4. The standard deviation of 9.14 measures how much the age values vary from the mean age.\n",
    "5. The IQR is a measure of the range of ages that the middle 50% of the dataset falls within. It is calculated by taking the difference between the 75th and 25th percentiles of the age values. The IQR is a more robust measure of the spread of the data than the standard deviation, as it is less influenced by outliers in the dataset."
   ]
  },
  {
   "cell_type": "markdown",
   "id": "54ac5b2d",
   "metadata": {},
   "source": [
    "### 5.2 Attrition"
   ]
  },
  {
   "cell_type": "code",
   "execution_count": 21,
   "id": "949348fe",
   "metadata": {},
   "outputs": [
    {
     "name": "stdout",
     "output_type": "stream",
     "text": [
      "     Counts Percentages\n",
      "No     1233      83.88%\n",
      "Yes     237      16.12%\n"
     ]
    }
   ],
   "source": [
    "# creating a new DataFrame with the attrition counts and percentages\n",
    "attrition_data = pd.DataFrame({'Counts': df['Attrition'].value_counts(), 'Percentages': df[\"Attrition\"].value_counts()/len(df) * 100})\n",
    "print(attrition_data.to_string(formatters={'Percentages': '{:.2f}%'.format}))"
   ]
  },
  {
   "cell_type": "markdown",
   "id": "d9d11ee7",
   "metadata": {},
   "source": [
    "#### Visualizing Attrition"
   ]
  },
  {
   "cell_type": "code",
   "execution_count": 64,
   "id": "c3cb7826",
   "metadata": {},
   "outputs": [
    {
     "data": {
      "image/png": "[encoded data removed]",
      "text/plain": [
       "<Figure size 1080x432 with 1 Axes>"
      ]
     },
     "metadata": {},
     "output_type": "display_data"
    }
   ],
   "source": [
    "labels = 'Attrition NO', 'Attrition YES'\n",
    "df['Attrition'].astype(str).value_counts().plot(kind='pie',figsize = (15,6), fontsize=18, autopct= '%1.1f%%', startangle= 90, shadow = True, labels = labels,colors=colors)\n",
    "plt.title('Distribution of Employee Attrition in the company ', y=1.12)\n",
    "plt.axis('equal')\n",
    "plt.legend(labels=labels, loc='upper left')\n",
    "plt.show()"
   ]
  },
  {
   "cell_type": "markdown",
   "id": "8801bdf5",
   "metadata": {},
   "source": [
    "### 5.2 Observations of Attrition column\n",
    "The attrition values represent the number and percentage of employees in the dataset who have either left the company (Yes) or stayed with the company (No). According to the data, there are 1233 employees who have not left the company, which represents 83.88% of the total number of employees in the dataset. This means that the majority of employees in the dataset have chosen to stay with the company. On the other hand, there are 237 employees who have left the company, representing 16.12% of the total number of employees in the dataset. This suggests that a smaller proportion of employees have decided to leave the company.These values are important for understanding the overall attrition rate and can provide insight into potential factors that may contribute to employee turnover in the company."
   ]
  },
  {
   "cell_type": "markdown",
   "id": "93b58951",
   "metadata": {},
   "source": [
    "### 5.3 Business Travel"
   ]
  },
  {
   "cell_type": "code",
   "execution_count": 23,
   "id": "d3487174",
   "metadata": {},
   "outputs": [
    {
     "name": "stdout",
     "output_type": "stream",
     "text": [
      "                   Counts Percentages\n",
      "Travel_Rarely        1043      70.95%\n",
      "Travel_Frequently     277      18.84%\n",
      "Non-Travel            150      10.20%\n"
     ]
    }
   ],
   "source": [
    "# creating a new DataFrame with the BusinessTravel counts and percentages\n",
    "businessTravel_data = pd.DataFrame({'Counts': df['BusinessTravel'].value_counts(), 'Percentages': df[\"BusinessTravel\"].value_counts()/len(df) * 100})\n",
    "print(businessTravel_data.to_string(formatters={'Percentages': '{:.2f}%'.format}))"
   ]
  },
  {
   "cell_type": "markdown",
   "id": "8d16e420",
   "metadata": {},
   "source": [
    "#### Visualizing BusinessTravel"
   ]
  },
  {
   "cell_type": "code",
   "execution_count": 65,
   "id": "8519805c",
   "metadata": {},
   "outputs": [
    {
     "data": {
      "image/png": "[encoded data removed]",
      "text/plain": [
       "<Figure size 432x288 with 1 Axes>"
      ]
     },
     "metadata": {
      "needs_background": "light"
     },
     "output_type": "display_data"
    },
    {
     "data": {
      "image/png": "[encoded data removed]",
      "text/plain": [
       "<Figure size 432x288 with 1 Axes>"
      ]
     },
     "metadata": {
      "needs_background": "light"
     },
     "output_type": "display_data"
    }
   ],
   "source": [
    "# Creating a bar chart of counts\n",
    "plt.barh(y=businessTravel_data.index, width=businessTravel_data['Counts'],color=colors)\n",
    "plt.xlabel('Counts')\n",
    "plt.title('Business Travel Counts')\n",
    "plt.show()\n",
    "\n",
    "# Creating a bar chart of percentages\n",
    "plt.barh(y=businessTravel_data.index, width=businessTravel_data['Percentages'],color=colors)\n",
    "plt.xlabel('Percentages')\n",
    "plt.title('Business Travel Percentages')\n",
    "plt.show()"
   ]
  },
  {
   "cell_type": "markdown",
   "id": "69aef79f",
   "metadata": {},
   "source": [
    "### 5.3 Observations of BusinessTravel column\n",
    "The BussinessTravel data shows the proportion of employees in the dataset who travel for work, with 70.95% traveling rarely, 18.84% traveling frequently, and 10.20% not traveling at all. This information is useful for understanding the impact of travel on employee satisfaction and can inform company policies related to travel."
   ]
  },
  {
   "cell_type": "markdown",
   "id": "3b56a663",
   "metadata": {},
   "source": [
    "### 5.4 Department"
   ]
  },
  {
   "cell_type": "code",
   "execution_count": 25,
   "id": "2962320c",
   "metadata": {},
   "outputs": [
    {
     "name": "stdout",
     "output_type": "stream",
     "text": [
      "                        Counts Percentages\n",
      "Research & Development     961      65.37%\n",
      "Sales                      446      30.34%\n",
      "Human Resources             63       4.29%\n"
     ]
    }
   ],
   "source": [
    "# creating a new DataFrame with the Department counts and percentages\n",
    "dept_data = pd.DataFrame({'Counts': df['Department'].value_counts(), 'Percentages': df[\"Department\"].value_counts()/len(df) * 100})\n",
    "print(dept_data.to_string(formatters={'Percentages': '{:.2f}%'.format}))"
   ]
  },
  {
   "cell_type": "markdown",
   "id": "839b29d7",
   "metadata": {},
   "source": [
    "### Visualizing the Department column"
   ]
  },
  {
   "cell_type": "code",
   "execution_count": 66,
   "id": "284284e0",
   "metadata": {},
   "outputs": [
    {
     "data": {
      "image/png": "[encoded data removed]",
      "text/plain": [
       "<Figure size 432x288 with 1 Axes>"
      ]
     },
     "metadata": {
      "needs_background": "light"
     },
     "output_type": "display_data"
    },
    {
     "data": {
      "image/png": "[encoded data removed]",
      "text/plain": [
       "<Figure size 432x288 with 1 Axes>"
      ]
     },
     "metadata": {
      "needs_background": "light"
     },
     "output_type": "display_data"
    }
   ],
   "source": [
    "# Creating a bar chart of counts\n",
    "plt.barh(y=dept_data.index, width=dept_data['Counts'],color=colors)\n",
    "plt.xlabel('Counts')\n",
    "plt.title('Department Counts')\n",
    "plt.show()\n",
    "\n",
    "# Creating a bar chart of percentages\n",
    "plt.barh(y=dept_data.index, width=dept_data['Percentages'],color=colors)\n",
    "plt.xlabel('Percentages')\n",
    "plt.title('Department Percentages')\n",
    "plt.show()"
   ]
  },
  {
   "cell_type": "markdown",
   "id": "2ad83a64",
   "metadata": {},
   "source": [
    "### 5.4 Observation of Department column\n",
    "The R & D dept has more employees than any other departments which shows about the nature of the company is \"Researh-Oriented\"."
   ]
  },
  {
   "cell_type": "markdown",
   "id": "b37a7e3f",
   "metadata": {},
   "source": [
    "### 5.5 EducationField"
   ]
  },
  {
   "cell_type": "code",
   "execution_count": 27,
   "id": "f1691c24",
   "metadata": {},
   "outputs": [
    {
     "name": "stdout",
     "output_type": "stream",
     "text": [
      "                  Counts Percentages\n",
      "Life Sciences        606      41.22%\n",
      "Medical              464      31.56%\n",
      "Marketing            159      10.82%\n",
      "Technical Degree     132       8.98%\n",
      "Other                 82       5.58%\n",
      "Human Resources       27       1.84%\n"
     ]
    }
   ],
   "source": [
    "# creating a new DataFrame with the EducationField counts and percentages\n",
    "EducationField_data = pd.DataFrame({'Counts': df['EducationField'].value_counts(), 'Percentages': df[\"EducationField\"].value_counts()/len(df) * 100})\n",
    "print(EducationField_data.to_string(formatters={'Percentages': '{:.2f}%'.format}))"
   ]
  },
  {
   "cell_type": "markdown",
   "id": "c9a460a1",
   "metadata": {},
   "source": [
    "#### Visualizing the EducationField"
   ]
  },
  {
   "cell_type": "code",
   "execution_count": 67,
   "id": "ee393f60",
   "metadata": {},
   "outputs": [
    {
     "data": {
      "image/png": "[encoded data removed]",
      "text/plain": [
       "<Figure size 432x288 with 1 Axes>"
      ]
     },
     "metadata": {
      "needs_background": "light"
     },
     "output_type": "display_data"
    },
    {
     "data": {
      "image/png": "[encoded data removed]",
      "text/plain": [
       "<Figure size 432x288 with 1 Axes>"
      ]
     },
     "metadata": {
      "needs_background": "light"
     },
     "output_type": "display_data"
    }
   ],
   "source": [
    "# Creating a bar chart of counts\n",
    "plt.barh(y=EducationField_data.index, width=EducationField_data['Counts'],color=colors)\n",
    "plt.xlabel('Counts')\n",
    "plt.title('EducationField Counts')\n",
    "plt.show()\n",
    "\n",
    "# Creating a bar chart of percentages\n",
    "plt.barh(y=EducationField_data.index, width=EducationField_data['Percentages'],color=colors)\n",
    "plt.xlabel('Percentages')\n",
    "plt.title('EducationField Percentages')\n",
    "plt.show()"
   ]
  },
  {
   "cell_type": "markdown",
   "id": "383f6a79",
   "metadata": {},
   "source": [
    "### 5.5 Observation of EducationField column"
   ]
  },
  {
   "cell_type": "markdown",
   "id": "a257ed17",
   "metadata": {},
   "source": [
    "Based on the information provided, it appears that the company has a larger number of employees from a Life Sciences background and a smaller number of employees from an HR background. This suggests that the company places a greater emphasis on research in Life Sciences than in HR."
   ]
  },
  {
   "cell_type": "markdown",
   "id": "49968d4f",
   "metadata": {},
   "source": [
    "### 5.6 DistanceFromHome"
   ]
  },
  {
   "cell_type": "code",
   "execution_count": 69,
   "id": "b08f3c1c",
   "metadata": {},
   "outputs": [
    {
     "name": "stdout",
     "output_type": "stream",
     "text": [
      "    Counts Percentages\n",
      "2      211      14.35%\n",
      "1      208      14.15%\n",
      "10      86       5.85%\n",
      "9       85       5.78%\n",
      "3       84       5.71%\n",
      "7       84       5.71%\n",
      "8       80       5.44%\n",
      "5       65       4.42%\n",
      "4       64       4.35%\n",
      "6       59       4.01%\n",
      "16      32       2.18%\n",
      "11      29       1.97%\n",
      "24      28       1.90%\n",
      "23      27       1.84%\n",
      "29      27       1.84%\n",
      "15      26       1.77%\n",
      "18      26       1.77%\n",
      "26      25       1.70%\n",
      "25      25       1.70%\n",
      "20      25       1.70%\n",
      "28      23       1.56%\n",
      "19      22       1.50%\n",
      "14      21       1.43%\n",
      "12      20       1.36%\n",
      "17      20       1.36%\n",
      "22      19       1.29%\n",
      "13      19       1.29%\n",
      "21      18       1.22%\n",
      "27      12       0.82%\n"
     ]
    }
   ],
   "source": [
    "# creating a new DataFrame with the DistanceFromHome counts and percentages\n",
    "DistanceFromHome_data = pd.DataFrame({'Counts': df['DistanceFromHome'].value_counts(), 'Percentages': df[\"DistanceFromHome\"].value_counts()/len(df) * 100})\n",
    "print(DistanceFromHome_data.to_string(formatters={'Percentages': '{:.2f}%'.format}))"
   ]
  },
  {
   "cell_type": "markdown",
   "id": "2cd1ebea",
   "metadata": {},
   "source": [
    "#### Statistical Analysis of DistanceFromHome "
   ]
  },
  {
   "cell_type": "code",
   "execution_count": 70,
   "id": "58f4d30d",
   "metadata": {},
   "outputs": [
    {
     "data": {
      "text/plain": [
       "count    1470.000000\n",
       "mean        9.192517\n",
       "std         8.106864\n",
       "min         1.000000\n",
       "25%         2.000000\n",
       "50%         7.000000\n",
       "75%        14.000000\n",
       "max        29.000000\n",
       "Name: DistanceFromHome, dtype: float64"
      ]
     },
     "execution_count": 70,
     "metadata": {},
     "output_type": "execute_result"
    }
   ],
   "source": [
    "df[\"DistanceFromHome\"].describe()"
   ]
  },
  {
   "cell_type": "markdown",
   "id": "e328281f",
   "metadata": {},
   "source": [
    "#### Outlier check for DistanceFromHome "
   ]
  },
  {
   "cell_type": "code",
   "execution_count": 71,
   "id": "3ac9c0b3",
   "metadata": {},
   "outputs": [
    {
     "data": {
      "text/plain": [
       "(0, 32)"
      ]
     },
     "execution_count": 71,
     "metadata": {},
     "output_type": "execute_result"
    }
   ],
   "source": [
    "from scipy import stats\n",
    "# Calculate z-scores of column 'DistanceFromHome'\n",
    "z_scores = stats.zscore(df['DistanceFromHome'])\n",
    "\n",
    "# Identify outliers with a z-score of greater than 3 or less than -3\n",
    "outliers = df[(z_scores > 3) | (z_scores < -3)]\n",
    "outliers.shape"
   ]
  },
  {
   "cell_type": "markdown",
   "id": "c88f8535",
   "metadata": {},
   "source": [
    "#### Visualizing DistanceFromHome"
   ]
  },
  {
   "cell_type": "code",
   "execution_count": 72,
   "id": "69144900",
   "metadata": {},
   "outputs": [
    {
     "data": {
      "image/png": "[encoded data removed]",
      "text/plain": [
       "<Figure size 720x720 with 1 Axes>"
      ]
     },
     "metadata": {
      "needs_background": "light"
     },
     "output_type": "display_data"
    }
   ],
   "source": [
    "fig, ax = plt.subplots(figsize=(10, 10))\n",
    "sns.boxplot(x=df['DistanceFromHome'], ax=ax)\n",
    "ax.set_title('Distribution of DistanceFromHome', fontsize=15)\n",
    "plt.xlabel('DistanceFromHome', fontsize=12)\n",
    "# Show plot\n",
    "plt.show()"
   ]
  },
  {
   "cell_type": "code",
   "execution_count": 73,
   "id": "4677be8c",
   "metadata": {
    "scrolled": true
   },
   "outputs": [
    {
     "data": {
      "image/png": "[encoded data removed]",
      "text/plain": [
       "<Figure size 864x720 with 1 Axes>"
      ]
     },
     "metadata": {
      "needs_background": "light"
     },
     "output_type": "display_data"
    }
   ],
   "source": [
    "DistanceFromHome_data.plot(kind='bar', figsize=(12,10),color=colors)\n",
    "# setting the chart title and axis labels\n",
    "plt.title('DistanceFromHome', fontsize=15)\n",
    "plt.xlabel('DistanceFromHome', fontsize=12)\n",
    "plt.ylabel('Counts',fontsize=12)\n",
    "\n",
    "# show the chart\n",
    "plt.show()"
   ]
  },
  {
   "cell_type": "markdown",
   "id": "c3f4834b",
   "metadata": {},
   "source": [
    "### 5.6 Observation of DistanceFromHome column"
   ]
  },
  {
   "cell_type": "markdown",
   "id": "8d762089",
   "metadata": {},
   "source": [
    "The range of distances varies from a minimum of 1 km to a maximum of 29 km. The median distance is 7 km, indicating that half of the employees live within 7 km of the office. The mean distance is 9.19 km, and the standard deviation of 8.10 km indicates that the distance from home varies considerably among employees. 25% of employees live within 2 km and 75% of employees live within 14 km of the office of the office. The distance is an important factor for understanding the commuting patterns and needs of the employees, which may be helpful in addressing work-life balance issues."
   ]
  },
  {
   "cell_type": "markdown",
   "id": "0730ebe2",
   "metadata": {},
   "source": [
    "### 5.7 EnvironmentSatisfaction"
   ]
  },
  {
   "cell_type": "code",
   "execution_count": 104,
   "id": "5016ff9e",
   "metadata": {},
   "outputs": [
    {
     "name": "stdout",
     "output_type": "stream",
     "text": [
      "   Counts Percentages\n",
      "3     453      30.82%\n",
      "4     446      30.34%\n",
      "2     287      19.52%\n",
      "1     284      19.32%\n"
     ]
    }
   ],
   "source": [
    "# creating a new DataFrame with the EnvironmentSatisfaction counts and percentages\n",
    "EnvironmentSatisfaction_data = pd.DataFrame({'Counts': df['EnvironmentSatisfaction'].value_counts(), 'Percentages': df[\"EnvironmentSatisfaction\"].value_counts()/len(df) * 100})\n",
    "print(EnvironmentSatisfaction_data.to_string(formatters={'Percentages': '{:.2f}%'.format}))"
   ]
  },
  {
   "cell_type": "markdown",
   "id": "966cb155",
   "metadata": {},
   "source": [
    "#### Visualizing the EnvironmentSatisfaction"
   ]
  },
  {
   "cell_type": "code",
   "execution_count": 126,
   "id": "c2e4deac",
   "metadata": {
    "scrolled": true
   },
   "outputs": [
    {
     "data": {
      "image/png": "[encoded data removed]",
      "text/plain": [
       "<Figure size 360x360 with 1 Axes>"
      ]
     },
     "metadata": {
      "needs_background": "light"
     },
     "output_type": "display_data"
    }
   ],
   "source": [
    "# Set colorblind-friendly palette\n",
    "sns.set_palette(\"colorblind\")\n",
    "\n",
    "# Create count plot with edgecolor and figsize\n",
    "plt.figure(figsize=(5,5))\n",
    "ax = sns.countplot(x='EnvironmentSatisfaction', data=df, edgecolor=\"black\")\n",
    "\n",
    "# Add labels and title\n",
    "ax.set_xlabel('Environment Satisfaction', fontsize=14)\n",
    "ax.set_ylabel('Count', fontsize=14)\n",
    "ax.set_title('Distribution of Environment Satisfaction', fontsize=16)\n",
    "\n",
    "# Show the plot\n",
    "plt.show()"
   ]
  },
  {
   "cell_type": "markdown",
   "id": "1d14acec",
   "metadata": {},
   "source": [
    "### 5.7 Observation of EnvironmentSatisfaction column"
   ]
  },
  {
   "cell_type": "markdown",
   "id": "5ae057d1",
   "metadata": {},
   "source": [
    "A significant number of respondents (over 800 employees) expressed satisfaction with the working environment by giving it a rating of 3 or 4 out of 4, which could indicate a positive workplace culture and conducive work environment."
   ]
  },
  {
   "cell_type": "markdown",
   "id": "88690f2e",
   "metadata": {},
   "source": [
    "### 5.8 Gender"
   ]
  },
  {
   "cell_type": "code",
   "execution_count": 106,
   "id": "01880817",
   "metadata": {},
   "outputs": [
    {
     "name": "stdout",
     "output_type": "stream",
     "text": [
      "        Counts Percentages\n",
      "Male       882      60.00%\n",
      "Female     588      40.00%\n"
     ]
    }
   ],
   "source": [
    "# creating a new DataFrame with the Gender counts and percentages\n",
    "Gender_data = pd.DataFrame({'Counts': df['Gender'].value_counts(), 'Percentages': df[\"Gender\"].value_counts()/len(df) * 100})\n",
    "print(Gender_data.to_string(formatters={'Percentages': '{:.2f}%'.format}))"
   ]
  },
  {
   "cell_type": "markdown",
   "id": "7fbe2a5f",
   "metadata": {},
   "source": [
    "#### Visualizing the Gender"
   ]
  },
  {
   "cell_type": "code",
   "execution_count": 120,
   "id": "1b95725d",
   "metadata": {},
   "outputs": [
    {
     "data": {
      "image/png": "[encoded data removed]",
      "text/plain": [
       "<Figure size 1080x432 with 1 Axes>"
      ]
     },
     "metadata": {},
     "output_type": "display_data"
    }
   ],
   "source": [
    "labels = 'Male', 'Female'\n",
    "df['Gender'].astype(str).value_counts().plot(kind='pie',figsize = (15,6), fontsize=18, autopct= '%1.1f%%', startangle= 90, shadow = True, labels = labels,colors=colors)\n",
    "plt.title('Distribution of Employee Gender in the company ', y=1.12)\n",
    "plt.axis('equal')\n",
    "plt.legend(labels=labels, loc='upper left')\n",
    "plt.show()"
   ]
  },
  {
   "cell_type": "markdown",
   "id": "c696ec4f",
   "metadata": {},
   "source": [
    "### 5.8 Observation of Gender column\n",
    "The dataset has a larger proportion of males (60%) than females (40%), indicating a gender imbalance in the sample. However, it's important to note that this doesn't necessarily mean that the dataset is biased towards males or that males are overrepresented. Instead, it could simply reflect the underlying gender distribution of the population that the dataset was sampled from."
   ]
  },
  {
   "cell_type": "markdown",
   "id": "9e566f3a",
   "metadata": {},
   "source": [
    "### 5.9  MaritalStatus "
   ]
  },
  {
   "cell_type": "code",
   "execution_count": 110,
   "id": "1a1e3a28",
   "metadata": {},
   "outputs": [
    {
     "name": "stdout",
     "output_type": "stream",
     "text": [
      "          Counts Percentages\n",
      "Married      673      45.78%\n",
      "Single       470      31.97%\n",
      "Divorced     327      22.24%\n"
     ]
    }
   ],
   "source": [
    "# creating a new DataFrame with the MaritalStatus counts and percentages\n",
    "MaritalStatus_data = pd.DataFrame({'Counts': df['MaritalStatus'].value_counts(), 'Percentages': df[\"MaritalStatus\"].value_counts()/len(df) * 100})\n",
    "print(MaritalStatus_data.to_string(formatters={'Percentages': '{:.2f}%'.format}))"
   ]
  },
  {
   "cell_type": "markdown",
   "id": "8bd2e2c0",
   "metadata": {},
   "source": [
    "#### Visualizing the MaritalStatus"
   ]
  },
  {
   "cell_type": "code",
   "execution_count": 121,
   "id": "575494f3",
   "metadata": {},
   "outputs": [
    {
     "data": {
      "image/png": "[encoded data removed]",
      "text/plain": [
       "<Figure size 1080x432 with 1 Axes>"
      ]
     },
     "metadata": {},
     "output_type": "display_data"
    }
   ],
   "source": [
    "labels = 'Married', 'Single', 'Divorced'\n",
    "df['MaritalStatus'].astype(str).value_counts().plot(kind='pie',figsize = (15,6), fontsize=18, autopct= '%1.1f%%', startangle= 90, shadow = True, labels = labels,colors=colors)\n",
    "plt.title('Distribution of Employee MaritalStatus in the company ', y=1.12)\n",
    "plt.axis('equal')\n",
    "plt.legend(labels=labels, loc='upper left')\n",
    "plt.show()"
   ]
  },
  {
   "cell_type": "markdown",
   "id": "c18ff518",
   "metadata": {},
   "source": [
    "### 5.9 Observation of MaritalStatus column\n",
    "The majority of individuals in the dataset are married (45.78%), followed by singles (31.97%), and divorced individuals (22.24%)."
   ]
  },
  {
   "cell_type": "markdown",
   "id": "8ee87d93",
   "metadata": {},
   "source": [
    "### 5.10 JobInvolvement "
   ]
  },
  {
   "cell_type": "code",
   "execution_count": 111,
   "id": "25b6a2f1",
   "metadata": {},
   "outputs": [
    {
     "name": "stdout",
     "output_type": "stream",
     "text": [
      "   Counts Percentages\n",
      "3     868      59.05%\n",
      "2     375      25.51%\n",
      "4     144       9.80%\n",
      "1      83       5.65%\n"
     ]
    }
   ],
   "source": [
    "# creating a new DataFrame with the JobInvolvement counts and percentages\n",
    "JobInvolvement_data = pd.DataFrame({'Counts': df['JobInvolvement'].value_counts(), 'Percentages': df[\"JobInvolvement\"].value_counts()/len(df) * 100})\n",
    "print(JobInvolvement_data.to_string(formatters={'Percentages': '{:.2f}%'.format}))"
   ]
  },
  {
   "cell_type": "markdown",
   "id": "6c5e0a13",
   "metadata": {},
   "source": [
    "#### Visualizing the JobInvolvement"
   ]
  },
  {
   "cell_type": "code",
   "execution_count": 131,
   "id": "94dccd7c",
   "metadata": {},
   "outputs": [
    {
     "data": {
      "image/png": "[encoded data removed]",
      "text/plain": [
       "<Figure size 360x360 with 1 Axes>"
      ]
     },
     "metadata": {
      "needs_background": "light"
     },
     "output_type": "display_data"
    }
   ],
   "source": [
    "# Set colorblind-friendly palette\n",
    "sns.set_palette(\"colorblind\")\n",
    "\n",
    "# Create count plot with edgecolor and figsize\n",
    "plt.figure(figsize=(5,5))\n",
    "ax = sns.countplot(x='JobInvolvement', data=df, edgecolor=\"black\")\n",
    "\n",
    "# Add labels and title\n",
    "ax.set_xlabel('JobInvolvement', fontsize=14)\n",
    "ax.set_ylabel('Count', fontsize=14)\n",
    "ax.set_title('Distribution of JobInvolvement', fontsize=16)\n",
    "\n",
    "# Show the plot\n",
    "plt.show()"
   ]
  },
  {
   "cell_type": "markdown",
   "id": "cb746fb2",
   "metadata": {},
   "source": [
    "### 5.10 Observation of JobInvolvement column"
   ]
  },
  {
   "cell_type": "markdown",
   "id": "8f0e2ffd",
   "metadata": {},
   "source": [
    "We can say that more than 900 people in the dataset find themselves involved in their job, as indicated by their higher job involvement ratings."
   ]
  },
  {
   "cell_type": "markdown",
   "id": "98a1c2b0",
   "metadata": {},
   "source": [
    "### 5.11 JobSatisfaction "
   ]
  },
  {
   "cell_type": "code",
   "execution_count": 112,
   "id": "d061b53b",
   "metadata": {},
   "outputs": [
    {
     "name": "stdout",
     "output_type": "stream",
     "text": [
      "   Counts Percentages\n",
      "4     459      31.22%\n",
      "3     442      30.07%\n",
      "1     289      19.66%\n",
      "2     280      19.05%\n"
     ]
    }
   ],
   "source": [
    "# creating a new DataFrame with the JobSatisfaction counts and percentages\n",
    "JobSatisfaction_data = pd.DataFrame({'Counts': df['JobSatisfaction'].value_counts(), 'Percentages': df[\"JobSatisfaction\"].value_counts()/len(df) * 100})\n",
    "print(JobSatisfaction_data.to_string(formatters={'Percentages': '{:.2f}%'.format}))"
   ]
  },
  {
   "cell_type": "markdown",
   "id": "d17566ac",
   "metadata": {},
   "source": [
    "#### Visualizing the EnvironmentSatisfaction"
   ]
  },
  {
   "cell_type": "code",
   "execution_count": 128,
   "id": "7320fd21",
   "metadata": {},
   "outputs": [
    {
     "data": {
      "image/png": "[encoded data removed]",
      "text/plain": [
       "<Figure size 360x360 with 1 Axes>"
      ]
     },
     "metadata": {
      "needs_background": "light"
     },
     "output_type": "display_data"
    }
   ],
   "source": [
    "# Set colorblind-friendly palette\n",
    "sns.set_palette(\"colorblind\")\n",
    "\n",
    "# Create count plot with edgecolor and figsize\n",
    "plt.figure(figsize=(5,5))\n",
    "ax = sns.countplot(x='JobSatisfaction', data=df, edgecolor=\"black\")\n",
    "\n",
    "# Add labels and title\n",
    "ax.set_xlabel('JobSatisfaction', fontsize=14)\n",
    "ax.set_ylabel('Count', fontsize=14)\n",
    "ax.set_title('Distribution of JobSatisfaction', fontsize=16)\n",
    "\n",
    "# Show the plot\n",
    "plt.show()"
   ]
  },
  {
   "cell_type": "markdown",
   "id": "e5ceacbe",
   "metadata": {},
   "source": [
    "### 5.11 Observation of JobSatisfaction column"
   ]
  },
  {
   "cell_type": "markdown",
   "id": "a90ac72c",
   "metadata": {},
   "source": [
    "The majority of employees in the dataset are satisfied with their job, as indicated by the high count and percentage of individuals who rated their job satisfaction as 3 or 4 (30.07% and 31.22% respectively). Only a minority of individuals (19.66%) rated their job satisfaction as 1, indicating that they are unsatisfied with their job."
   ]
  },
  {
   "cell_type": "markdown",
   "id": "f83ecfee",
   "metadata": {},
   "source": [
    "### 5.12 PerformanceRating"
   ]
  },
  {
   "cell_type": "code",
   "execution_count": 109,
   "id": "12988de6",
   "metadata": {},
   "outputs": [
    {
     "name": "stdout",
     "output_type": "stream",
     "text": [
      "   Counts Percentages\n",
      "3    1244      84.63%\n",
      "4     226      15.37%\n"
     ]
    }
   ],
   "source": [
    "# creating a new DataFrame with the PerformanceRating counts and percentages\n",
    "PerformanceRating_data = pd.DataFrame({'Counts': df['PerformanceRating'].value_counts(), 'Percentages': df[\"PerformanceRating\"].value_counts()/len(df) * 100})\n",
    "print(PerformanceRating_data.to_string(formatters={'Percentages': '{:.2f}%'.format}))"
   ]
  },
  {
   "cell_type": "code",
   "execution_count": 133,
   "id": "53f04681",
   "metadata": {},
   "outputs": [
    {
     "data": {
      "text/plain": [
       "count    1470.000000\n",
       "mean        3.153741\n",
       "std         0.360824\n",
       "min         3.000000\n",
       "25%         3.000000\n",
       "50%         3.000000\n",
       "75%         3.000000\n",
       "max         4.000000\n",
       "Name: PerformanceRating, dtype: float64"
      ]
     },
     "execution_count": 133,
     "metadata": {},
     "output_type": "execute_result"
    }
   ],
   "source": [
    "df[\"PerformanceRating\"].describe()"
   ]
  },
  {
   "cell_type": "markdown",
   "id": "d7e57af7",
   "metadata": {},
   "source": [
    "#### Visualizing the PerformanceRating"
   ]
  },
  {
   "cell_type": "code",
   "execution_count": 129,
   "id": "9e8648d4",
   "metadata": {},
   "outputs": [
    {
     "data": {
      "image/png": "[encoded data removed]",
      "text/plain": [
       "<Figure size 360x360 with 1 Axes>"
      ]
     },
     "metadata": {
      "needs_background": "light"
     },
     "output_type": "display_data"
    }
   ],
   "source": [
    "# Set colorblind-friendly palette\n",
    "sns.set_palette(\"colorblind\")\n",
    "\n",
    "# Create count plot with edgecolor and figsize\n",
    "plt.figure(figsize=(5,5))\n",
    "ax = sns.countplot(x='PerformanceRating', data=df, edgecolor=\"black\")\n",
    "\n",
    "# Add labels and title\n",
    "ax.set_xlabel('PerformanceRating', fontsize=14)\n",
    "ax.set_ylabel('Count', fontsize=14)\n",
    "ax.set_title('Distribution of PerformanceRating', fontsize=16)\n",
    "\n",
    "# Show the plot\n",
    "plt.show()"
   ]
  },
  {
   "cell_type": "markdown",
   "id": "7790b0d7",
   "metadata": {},
   "source": [
    "### 5.12 Observation of PerformanceRating column"
   ]
  },
  {
   "cell_type": "markdown",
   "id": "fcb0e01a",
   "metadata": {},
   "source": [
    "Based on the provided statistical distribution, we can see that the average performance rating is 3.15, with a standard deviation of 0.36. The minimum rating is 3, while the maximum rating is 4. The 25th, 50th, and 75th percentiles all have a rating of 3, indicating that the majority of respondents rated performance as meeting expectations."
   ]
  },
  {
   "cell_type": "markdown",
   "id": "89072976",
   "metadata": {},
   "source": [
    "### 5.13 WorklifeBalance"
   ]
  },
  {
   "cell_type": "code",
   "execution_count": 108,
   "id": "c63418b2",
   "metadata": {},
   "outputs": [
    {
     "name": "stdout",
     "output_type": "stream",
     "text": [
      "   Counts Percentages\n",
      "3     893      60.75%\n",
      "2     344      23.40%\n",
      "4     153      10.41%\n",
      "1      80       5.44%\n"
     ]
    }
   ],
   "source": [
    "# creating a new DataFrame with the WorklifeBalance counts and percentages\n",
    "WorkLifeBalance_data = pd.DataFrame({'Counts': df['WorkLifeBalance'].value_counts(), 'Percentages': df[\"WorkLifeBalance\"].value_counts()/len(df) * 100})\n",
    "print(WorkLifeBalance_data.to_string(formatters={'Percentages': '{:.2f}%'.format}))"
   ]
  },
  {
   "cell_type": "code",
   "execution_count": 132,
   "id": "4a5faabd",
   "metadata": {},
   "outputs": [
    {
     "data": {
      "text/plain": [
       "count    1470.000000\n",
       "mean        2.761224\n",
       "std         0.706476\n",
       "min         1.000000\n",
       "25%         2.000000\n",
       "50%         3.000000\n",
       "75%         3.000000\n",
       "max         4.000000\n",
       "Name: WorkLifeBalance, dtype: float64"
      ]
     },
     "execution_count": 132,
     "metadata": {},
     "output_type": "execute_result"
    }
   ],
   "source": [
    "df[\"WorkLifeBalance\"].describe()"
   ]
  },
  {
   "cell_type": "markdown",
   "id": "2eca773b",
   "metadata": {},
   "source": [
    "#### Visualizing the WorkLifeBalance"
   ]
  },
  {
   "cell_type": "code",
   "execution_count": 135,
   "id": "1d845ffb",
   "metadata": {},
   "outputs": [
    {
     "data": {
      "image/png": "[encoded data removed]",
      "text/plain": [
       "<Figure size 360x360 with 1 Axes>"
      ]
     },
     "metadata": {
      "needs_background": "light"
     },
     "output_type": "display_data"
    }
   ],
   "source": [
    "# Set colorblind-friendly palette\n",
    "sns.set_palette(\"colorblind\")\n",
    "\n",
    "# Create count plot with edgecolor and figsize\n",
    "plt.figure(figsize=(5,5))\n",
    "ax = sns.countplot(x='WorkLifeBalance', data=df, edgecolor=\"black\")\n",
    "\n",
    "# Add labels and title\n",
    "ax.set_xlabel('WorkLifeBalance', fontsize=14)\n",
    "ax.set_ylabel('Count', fontsize=14)\n",
    "ax.set_title('Distribution of WorkLifeBalance', fontsize=16)\n",
    "\n",
    "# Show the plot\n",
    "plt.show()"
   ]
  },
  {
   "cell_type": "markdown",
   "id": "a784663c",
   "metadata": {},
   "source": [
    "### 5.13 Observation of WorklifeBalance column\n"
   ]
  },
  {
   "cell_type": "markdown",
   "id": "17475737",
   "metadata": {},
   "source": [
    "Based on the provided statistical distribution, the average rating for work-life balance is 2.76 with a standard deviation of 0.71. The minimum rating is 1, while the maximum rating is 4. Additionally, 25% of the ratings are below 2, while 75% of the ratings are at or above 3. This suggests that the majority of respondents reported satisfactory work-life balance, but there is still room for improvement. It's important to note that individual perceptions of work-life balance can vary greatly and may be influenced by various factors such as workload, work culture, and personal circumstances."
   ]
  },
  {
   "cell_type": "markdown",
   "id": "8c84851b",
   "metadata": {},
   "source": [
    "### 5.14 OverTime"
   ]
  },
  {
   "cell_type": "code",
   "execution_count": 134,
   "id": "3ebc4e3a",
   "metadata": {},
   "outputs": [
    {
     "name": "stdout",
     "output_type": "stream",
     "text": [
      "     Counts Percentages\n",
      "No     1054      71.70%\n",
      "Yes     416      28.30%\n"
     ]
    }
   ],
   "source": [
    "# creating a new DataFrame with the OverTime counts and percentages\n",
    "OverTime_data = pd.DataFrame({'Counts': df['OverTime'].value_counts(), 'Percentages': df[\"OverTime\"].value_counts()/len(df) * 100})\n",
    "print(OverTime_data.to_string(formatters={'Percentages': '{:.2f}%'.format}))"
   ]
  },
  {
   "cell_type": "markdown",
   "id": "a6d4af1d",
   "metadata": {},
   "source": [
    "#### Visualizing the OverTime"
   ]
  },
  {
   "cell_type": "code",
   "execution_count": 136,
   "id": "2497416f",
   "metadata": {},
   "outputs": [
    {
     "data": {
      "image/png": "[encoded data removed]",
      "text/plain": [
       "<Figure size 360x360 with 1 Axes>"
      ]
     },
     "metadata": {
      "needs_background": "light"
     },
     "output_type": "display_data"
    }
   ],
   "source": [
    "# Set colorblind-friendly palette\n",
    "sns.set_palette(\"colorblind\")\n",
    "\n",
    "# Create count plot with edgecolor and figsize\n",
    "plt.figure(figsize=(5,5))\n",
    "ax = sns.countplot(x='OverTime', data=df, edgecolor=\"black\")\n",
    "\n",
    "# Add labels and title\n",
    "ax.set_xlabel('OverTime', fontsize=14)\n",
    "ax.set_ylabel('Count', fontsize=14)\n",
    "ax.set_title('Distribution of OverTime', fontsize=16)\n",
    "\n",
    "# Show the plot\n",
    "plt.show()"
   ]
  },
  {
   "cell_type": "markdown",
   "id": "9b29c15f",
   "metadata": {},
   "source": [
    "### 5.14 Observation of OverTime column"
   ]
  },
  {
   "cell_type": "markdown",
   "id": "64cbb54f",
   "metadata": {},
   "source": [
    "The given counts and percentages suggest that a significant number of employees (28.3%) worked overtime. Although the majority of employees (71.7%) did not work overtime, it may be important to investigate the reasons why employees worked overtime, the frequency of overtime work, and the impact of overtime on employee performance and well-being. Comparing attrition rates between employees who worked overtime and those who didn't can also help identify any correlation between overtime work and employee attrition."
   ]
  },
  {
   "cell_type": "markdown",
   "id": "725b1fd7",
   "metadata": {},
   "source": [
    "### 5.14 Job Level"
   ]
  },
  {
   "cell_type": "code",
   "execution_count": 193,
   "id": "d34effc7",
   "metadata": {},
   "outputs": [
    {
     "name": "stdout",
     "output_type": "stream",
     "text": [
      "   Counts Percentages\n",
      "1     543      36.94%\n",
      "2     534      36.33%\n",
      "3     218      14.83%\n",
      "4     106       7.21%\n",
      "5      69       4.69%\n"
     ]
    }
   ],
   "source": [
    "# creating a new DataFrame with the JobLevel counts and percentages\n",
    "JobLevel_data = pd.DataFrame({'Counts': df['JobLevel'].value_counts(), 'Percentages': df[\"JobLevel\"].value_counts()/len(df) * 100})\n",
    "print(JobLevel_data.to_string(formatters={'Percentages': '{:.2f}%'.format}))"
   ]
  },
  {
   "cell_type": "markdown",
   "id": "269ae810",
   "metadata": {},
   "source": [
    "#### Visualizing Job Level"
   ]
  },
  {
   "cell_type": "code",
   "execution_count": 194,
   "id": "b16fd9d1",
   "metadata": {},
   "outputs": [
    {
     "data": {
      "image/png": "[encoded data removed]",
      "text/plain": [
       "<Figure size 360x360 with 1 Axes>"
      ]
     },
     "metadata": {
      "needs_background": "light"
     },
     "output_type": "display_data"
    }
   ],
   "source": [
    "# Set colorblind-friendly palette\n",
    "sns.set_palette(\"colorblind\")\n",
    "\n",
    "# Create count plot with edgecolor and figsize\n",
    "plt.figure(figsize=(5,5))\n",
    "ax = sns.countplot(x='JobLevel', data=df, edgecolor=\"black\")\n",
    "\n",
    "# Add labels and title\n",
    "ax.set_xlabel('JobLevel', fontsize=14)\n",
    "ax.set_ylabel('Count', fontsize=14)\n",
    "ax.set_title('Distribution of JobLevel', fontsize=16)\n",
    "\n",
    "# Show the plot\n",
    "plt.show()"
   ]
  },
  {
   "cell_type": "markdown",
   "id": "b9a72153",
   "metadata": {},
   "source": [
    "### 5.14 Observation of Joblevel column\n",
    "More than 1000 People are low level and only 10% are involved in tier 4 or 5 level jobs. It means that the organization may have a large number of entry-level or junior roles. These roles may require less experience or education, or they may serve as a starting point for employees to enter the company and gain experience before moving up the ranks.On the other hand, the statement also suggests that only 10% of the total population is involved in tier 4 or 5 level jobs. This could mean that these positions are relatively rare or hard to attain, and may require more specialized skills, education, or experience.\n",
    "\n",
    "Overall, this type of distribution of job roles could indicate that the organization has a well-defined hierarchical structure, with clear paths for advancement from entry-level positions to higher-level ones. "
   ]
  },
  {
   "cell_type": "markdown",
   "id": "b23141a5",
   "metadata": {},
   "source": [
    "### 6. Outliers Check for Numerical Columns"
   ]
  },
  {
   "cell_type": "code",
   "execution_count": 86,
   "id": "cb986edf",
   "metadata": {},
   "outputs": [],
   "source": [
    "# select only integer type columns\n",
    "int_cols = df.select_dtypes(include='int')"
   ]
  },
  {
   "cell_type": "code",
   "execution_count": 87,
   "id": "8e3e25ad",
   "metadata": {},
   "outputs": [],
   "source": [
    "def check_Outliers(x):\n",
    "    from scipy import stats\n",
    "    for i in x:\n",
    "    # Calculate z-scores of column 'DistanceFromHome'\n",
    "        z_scores = stats.zscore(df[i])\n",
    "\n",
    "        # Identify outliers with a z-score of greater than 3 or less than -3\n",
    "        outliers = df[(z_scores > 3) | (z_scores < -3)]\n",
    "        print(\"{} {}\".format(i,outliers.shape))"
   ]
  },
  {
   "cell_type": "code",
   "execution_count": 88,
   "id": "2042a37c",
   "metadata": {},
   "outputs": [
    {
     "name": "stdout",
     "output_type": "stream",
     "text": [
      "Age (0, 32)\n",
      "DailyRate (0, 32)\n",
      "DistanceFromHome (0, 32)\n",
      "Education (0, 32)\n",
      "EmployeeNumber (0, 32)\n",
      "EnvironmentSatisfaction (0, 32)\n",
      "HourlyRate (0, 32)\n",
      "JobInvolvement (0, 32)\n",
      "JobLevel (0, 32)\n",
      "JobSatisfaction (0, 32)\n",
      "MonthlyIncome (0, 32)\n",
      "MonthlyRate (0, 32)\n",
      "NumCompaniesWorked (0, 32)\n",
      "PercentSalaryHike (0, 32)\n",
      "PerformanceRating (0, 32)\n",
      "RelationshipSatisfaction (0, 32)\n",
      "StockOptionLevel (0, 32)\n",
      "TotalWorkingYears (16, 32)\n",
      "TrainingTimesLastYear (0, 32)\n",
      "WorkLifeBalance (0, 32)\n",
      "YearsAtCompany (25, 32)\n",
      "YearsInCurrentRole (13, 32)\n",
      "YearsSinceLastPromotion (42, 32)\n",
      "YearsWithCurrManager (14, 32)\n"
     ]
    }
   ],
   "source": [
    "check_Outliers(int_cols)"
   ]
  },
  {
   "cell_type": "code",
   "execution_count": 103,
   "id": "2f55b078",
   "metadata": {},
   "outputs": [
    {
     "data": {
      "image/png": "[encoded data removed]",
      "text/plain": [
       "<Figure size 720x720 with 1 Axes>"
      ]
     },
     "metadata": {
      "needs_background": "light"
     },
     "output_type": "display_data"
    },
    {
     "data": {
      "image/png": "[encoded data removed]",
      "text/plain": [
       "<Figure size 720x720 with 1 Axes>"
      ]
     },
     "metadata": {
      "needs_background": "light"
     },
     "output_type": "display_data"
    },
    {
     "data": {
      "image/png": "[encoded data removed]",
      "text/plain": [
       "<Figure size 720x720 with 1 Axes>"
      ]
     },
     "metadata": {
      "needs_background": "light"
     },
     "output_type": "display_data"
    },
    {
     "data": {
      "image/png": "[encoded data removed]",
      "text/plain": [
       "<Figure size 720x720 with 1 Axes>"
      ]
     },
     "metadata": {
      "needs_background": "light"
     },
     "output_type": "display_data"
    },
    {
     "data": {
      "image/png": "[encoded data removed]",
      "text/plain": [
       "<Figure size 720x720 with 1 Axes>"
      ]
     },
     "metadata": {
      "needs_background": "light"
     },
     "output_type": "display_data"
    },
    {
     "data": {
      "image/png": "[encoded data removed]",
      "text/plain": [
       "<Figure size 720x720 with 1 Axes>"
      ]
     },
     "metadata": {
      "needs_background": "light"
     },
     "output_type": "display_data"
    },
    {
     "data": {
      "image/png": "[encoded data removed]",
      "text/plain": [
       "<Figure size 720x720 with 1 Axes>"
      ]
     },
     "metadata": {
      "needs_background": "light"
     },
     "output_type": "display_data"
    },
    {
     "data": {
      "image/png": "[encoded data removed]",
      "text/plain": [
       "<Figure size 720x720 with 1 Axes>"
      ]
     },
     "metadata": {
      "needs_background": "light"
     },
     "output_type": "display_data"
    },
    {
     "data": {
      "image/png": "[encoded data removed]",
      "text/plain": [
       "<Figure size 720x720 with 1 Axes>"
      ]
     },
     "metadata": {
      "needs_background": "light"
     },
     "output_type": "display_data"
    },
    {
     "data": {
      "image/png": "[encoded data removed]",
      "text/plain": [
       "<Figure size 720x720 with 1 Axes>"
      ]
     },
     "metadata": {
      "needs_background": "light"
     },
     "output_type": "display_data"
    },
    {
     "data": {
      "image/png": "[encoded data removed]",
      "text/plain": [
       "<Figure size 720x720 with 1 Axes>"
      ]
     },
     "metadata": {
      "needs_background": "light"
     },
     "output_type": "display_data"
    },
    {
     "data": {
      "image/png": "[encoded data removed]",
      "text/plain": [
       "<Figure size 720x720 with 1 Axes>"
      ]
     },
     "metadata": {
      "needs_background": "light"
     },
     "output_type": "display_data"
    },
    {
     "data": {
      "image/png": "[encoded data removed]",
      "text/plain": [
       "<Figure size 720x720 with 1 Axes>"
      ]
     },
     "metadata": {
      "needs_background": "light"
     },
     "output_type": "display_data"
    },
    {
     "data": {
      "image/png": "[encoded data removed]",
      "text/plain": [
       "<Figure size 720x720 with 1 Axes>"
      ]
     },
     "metadata": {
      "needs_background": "light"
     },
     "output_type": "display_data"
    },
    {
     "data": {
      "image/png": "[encoded data removed]",
      "text/plain": [
       "<Figure size 720x720 with 1 Axes>"
      ]
     },
     "metadata": {
      "needs_background": "light"
     },
     "output_type": "display_data"
    },
    {
     "data": {
      "image/png": "[encoded data removed]",
      "text/plain": [
       "<Figure size 720x720 with 1 Axes>"
      ]
     },
     "metadata": {
      "needs_background": "light"
     },
     "output_type": "display_data"
    },
    {
     "data": {
      "image/png": "[encoded data removed]",
      "text/plain": [
       "<Figure size 720x720 with 1 Axes>"
      ]
     },
     "metadata": {
      "needs_background": "light"
     },
     "output_type": "display_data"
    },
    {
     "data": {
      "image/png": "[encoded data removed]",
      "text/plain": [
       "<Figure size 720x720 with 1 Axes>"
      ]
     },
     "metadata": {
      "needs_background": "light"
     },
     "output_type": "display_data"
    },
    {
     "data": {
      "image/png": "[encoded data removed]",
      "text/plain": [
       "<Figure size 720x720 with 1 Axes>"
      ]
     },
     "metadata": {
      "needs_background": "light"
     },
     "output_type": "display_data"
    },
    {
     "data": {
      "image/png": "[encoded data removed]",
      "text/plain": [
       "<Figure size 720x720 with 1 Axes>"
      ]
     },
     "metadata": {
      "needs_background": "light"
     },
     "output_type": "display_data"
    },
    {
     "data": {
      "image/png": "[encoded data removed]",
      "text/plain": [
       "<Figure size 720x720 with 1 Axes>"
      ]
     },
     "metadata": {
      "needs_background": "light"
     },
     "output_type": "display_data"
    },
    {
     "data": {
      "image/png": "[encoded data removed]",
      "text/plain": [
       "<Figure size 720x720 with 1 Axes>"
      ]
     },
     "metadata": {
      "needs_background": "light"
     },
     "output_type": "display_data"
    },
    {
     "data": {
      "image/png": "[encoded data removed]",
      "text/plain": [
       "<Figure size 720x720 with 1 Axes>"
      ]
     },
     "metadata": {
      "needs_background": "light"
     },
     "output_type": "display_data"
    },
    {
     "data": {
      "image/png": "[encoded data removed]",
      "text/plain": [
       "<Figure size 720x720 with 1 Axes>"
      ]
     },
     "metadata": {
      "needs_background": "light"
     },
     "output_type": "display_data"
    }
   ],
   "source": [
    "def addressing_Outliers(x, data):\n",
    "    from scipy import stats\n",
    "    for i in x:\n",
    "        # Calculate z-scores of column 'DistanceFromHome'\n",
    "        z_scores = stats.zscore(data[i])\n",
    "\n",
    "        # Identify outliers with a z-score of greater than 3 or less than -3\n",
    "        outliers = data[(z_scores > 3) | (z_scores < -3)]\n",
    "        \n",
    "        # Visualize the outliers using a box plot\n",
    "        fig, ax = plt.subplots(figsize=(10, 10))\n",
    "        sns.boxplot(x=outliers[i],ax=ax)\n",
    "        plt.title(\"Box plot of outliers in {}\".format(i))\n",
    "        plt.show()\n",
    "\n",
    "# apply the function to the dataframe\n",
    "addressing_Outliers(int_cols, df)"
   ]
  },
  {
   "cell_type": "markdown",
   "id": "1d71263b",
   "metadata": {},
   "source": [
    "### 6. Observation \n",
    "Outliers are data points that significantly deviate from the rest of the data. In this case, the visualization suggests that there are some outliers in the following columns: TotalWorkingYears, YearsAtCompany, YearsInCurrentRole, YearsSinceLastPromotion, and YearsWithCurrManager. The numbers in parentheses refer to the values of the outliers, which are considered to be extreme in comparison to the rest of the data.\n",
    "\n",
    "TotalWorkingYears: The outliers in this column have values of 16 and 32, indicating that there are some employees who have either worked for a relatively short period of time or for a very long time.\n",
    "\n",
    "YearsAtCompany: The outliers in this column have values of 25 and 32, suggesting that there are some employees who have either recently joined the company or have been with the company for a very long time.\n",
    "\n",
    "YearsInCurrentRole: The outliers in this column have values of 13 and 32, indicating that there are some employees who have either recently joined their current role or have been in their current role for a very long time.\n",
    "\n",
    "YearsSinceLastPromotion: The outliers in this column have values of 42 and 32, suggesting that there are some employees who have either recently received a promotion or have not received a promotion for a very long time.\n",
    "\n",
    "YearsWithCurrManager: The outliers in this column have values of 14 and 32, indicating that there are some employees who have either recently started working with their current manager or have been working with their current manager for a very long time.\n",
    "\n",
    "It's important to note that outliers can sometimes be a result of data entry errors, measurement errors, or genuine extreme values in the data. Therefore, it's important to carefully examine and understand the reasons behind the outliers before taking any actions based on them."
   ]
  },
  {
   "cell_type": "markdown",
   "id": "f387c6fe",
   "metadata": {},
   "source": [
    "### 7. Examining Columns with outliers \n",
    "#### 7.1 TotalWorkingYears"
   ]
  },
  {
   "cell_type": "code",
   "execution_count": 182,
   "id": "2011d793",
   "metadata": {},
   "outputs": [
    {
     "name": "stdout",
     "output_type": "stream",
     "text": [
      "    Counts Percentages\n",
      "10     202      13.74%\n",
      "6      125       8.50%\n",
      "8      103       7.01%\n",
      "9       96       6.53%\n",
      "5       88       5.99%\n",
      "7       81       5.51%\n",
      "1       81       5.51%\n",
      "4       63       4.29%\n",
      "12      48       3.27%\n",
      "3       42       2.86%\n",
      "15      40       2.72%\n",
      "16      37       2.52%\n",
      "11      36       2.45%\n",
      "13      36       2.45%\n",
      "21      34       2.31%\n",
      "17      33       2.24%\n",
      "2       31       2.11%\n",
      "14      31       2.11%\n",
      "20      30       2.04%\n",
      "18      27       1.84%\n",
      "19      22       1.50%\n",
      "23      22       1.50%\n",
      "22      21       1.43%\n",
      "24      18       1.22%\n",
      "25      14       0.95%\n",
      "28      14       0.95%\n",
      "26      14       0.95%\n",
      "0       11       0.75%\n",
      "29      10       0.68%\n",
      "31       9       0.61%\n",
      "32       9       0.61%\n",
      "30       7       0.48%\n",
      "33       7       0.48%\n",
      "27       7       0.48%\n",
      "36       6       0.41%\n",
      "34       5       0.34%\n",
      "37       4       0.27%\n",
      "35       3       0.20%\n",
      "40       2       0.14%\n",
      "38       1       0.07%\n"
     ]
    }
   ],
   "source": [
    "# creating a new DataFrame with the TotalWorkingYears counts and percentages\n",
    "TotalWorkingYears_data = pd.DataFrame({'Counts': df['TotalWorkingYears'].value_counts(), 'Percentages': df[\"TotalWorkingYears\"].value_counts()/len(df) * 100})\n",
    "print(TotalWorkingYears_data.to_string(formatters={'Percentages': '{:.2f}%'.format}))"
   ]
  },
  {
   "cell_type": "code",
   "execution_count": 177,
   "id": "c1c870f8",
   "metadata": {},
   "outputs": [
    {
     "data": {
      "text/plain": [
       "count    1470.000000\n",
       "mean       11.279592\n",
       "std         7.780782\n",
       "min         0.000000\n",
       "25%         6.000000\n",
       "50%        10.000000\n",
       "75%        15.000000\n",
       "max        40.000000\n",
       "Name: TotalWorkingYears, dtype: float64"
      ]
     },
     "execution_count": 177,
     "metadata": {},
     "output_type": "execute_result"
    }
   ],
   "source": [
    "df.TotalWorkingYears.describe()"
   ]
  },
  {
   "cell_type": "code",
   "execution_count": 187,
   "id": "86a22300",
   "metadata": {},
   "outputs": [
    {
     "data": {
      "image/png": "[encoded data removed]",
      "text/plain": [
       "<Figure size 864x720 with 1 Axes>"
      ]
     },
     "metadata": {
      "needs_background": "light"
     },
     "output_type": "display_data"
    }
   ],
   "source": [
    "TotalWorkingYears_data.plot(kind='bar', figsize=(12,10),color=colors)\n",
    "# setting the chart title and axis labels\n",
    "plt.title('TotalWorkingYears', fontsize=15)\n",
    "plt.xlabel('TotalWorkingYears', fontsize=12)\n",
    "plt.ylabel('Counts',fontsize=12)\n",
    "\n",
    "# show the chart\n",
    "plt.show()"
   ]
  },
  {
   "cell_type": "code",
   "execution_count": 192,
   "id": "12fa0d3b",
   "metadata": {},
   "outputs": [
    {
     "data": {
      "text/plain": [
       "count    1470.000000\n",
       "mean       11.279592\n",
       "std         7.780782\n",
       "min         0.000000\n",
       "25%         6.000000\n",
       "50%        10.000000\n",
       "75%        15.000000\n",
       "max        40.000000\n",
       "Name: TotalWorkingYears, dtype: float64"
      ]
     },
     "execution_count": 192,
     "metadata": {},
     "output_type": "execute_result"
    }
   ],
   "source": [
    "df.TotalWorkingYears.describe()"
   ]
  },
  {
   "cell_type": "markdown",
   "id": "a25d144d",
   "metadata": {},
   "source": [
    "#### 7.1.1 Observation of TotalWorkingYears\n",
    "The Total Working Years data is right-skewed, indicating the majority of the samples have relatively low working experience, with a small percentage of individuals who have a lot of experience pulling the mean higher. The fact that more than 50% of samples are below the median also indicates that the distribution is not symmetrical, with more data points on one side of the median than the other. The mean is 11.28 years, and the standard deviation is 7.78 years. The 25th, 50th, and 75th percentiles are 6, 10, and 15 years, respectively. The interquartile range (IQR) is 9 years, indicating that the majority of employees have worked for less than 15 years, with a few outliers who have been with the company for 15 years or more. "
   ]
  },
  {
   "cell_type": "markdown",
   "id": "0e29389d",
   "metadata": {},
   "source": [
    "#### 7.2 YearsAtCompany"
   ]
  },
  {
   "cell_type": "code",
   "execution_count": 186,
   "id": "d3986705",
   "metadata": {},
   "outputs": [
    {
     "name": "stdout",
     "output_type": "stream",
     "text": [
      "    Counts Percentages\n",
      "5      196      13.33%\n",
      "1      171      11.63%\n",
      "3      128       8.71%\n",
      "2      127       8.64%\n",
      "10     120       8.16%\n",
      "4      110       7.48%\n",
      "7       90       6.12%\n",
      "9       82       5.58%\n",
      "8       80       5.44%\n",
      "6       76       5.17%\n",
      "0       44       2.99%\n",
      "11      32       2.18%\n",
      "20      27       1.84%\n",
      "13      24       1.63%\n",
      "15      20       1.36%\n",
      "14      18       1.22%\n",
      "22      15       1.02%\n",
      "12      14       0.95%\n",
      "21      14       0.95%\n",
      "18      13       0.88%\n",
      "16      12       0.82%\n",
      "19      11       0.75%\n",
      "17       9       0.61%\n",
      "24       6       0.41%\n",
      "33       5       0.34%\n",
      "25       4       0.27%\n",
      "26       4       0.27%\n",
      "31       3       0.20%\n",
      "32       3       0.20%\n",
      "27       2       0.14%\n",
      "36       2       0.14%\n",
      "29       2       0.14%\n",
      "23       2       0.14%\n",
      "37       1       0.07%\n",
      "40       1       0.07%\n",
      "34       1       0.07%\n",
      "30       1       0.07%\n"
     ]
    }
   ],
   "source": [
    "# creating a new DataFrame with the YearsAtCompany counts and percentages\n",
    "YearsAtCompany_data = pd.DataFrame({'Counts': df['YearsAtCompany'].value_counts(), 'Percentages': df[\"YearsAtCompany\"].value_counts()/len(df) * 100})\n",
    "print(YearsAtCompany_data.to_string(formatters={'Percentages': '{:.2f}%'.format}))"
   ]
  },
  {
   "cell_type": "code",
   "execution_count": 178,
   "id": "6ef48173",
   "metadata": {},
   "outputs": [
    {
     "data": {
      "text/plain": [
       "count    1470.000000\n",
       "mean        7.008163\n",
       "std         6.126525\n",
       "min         0.000000\n",
       "25%         3.000000\n",
       "50%         5.000000\n",
       "75%         9.000000\n",
       "max        40.000000\n",
       "Name: YearsAtCompany, dtype: float64"
      ]
     },
     "execution_count": 178,
     "metadata": {},
     "output_type": "execute_result"
    }
   ],
   "source": [
    "df.YearsAtCompany.describe()"
   ]
  },
  {
   "cell_type": "code",
   "execution_count": 188,
   "id": "444462e3",
   "metadata": {},
   "outputs": [
    {
     "data": {
      "image/png": "[encoded data removed]",
      "text/plain": [
       "<Figure size 864x720 with 1 Axes>"
      ]
     },
     "metadata": {
      "needs_background": "light"
     },
     "output_type": "display_data"
    }
   ],
   "source": [
    "YearsAtCompany_data.plot(kind='bar', figsize=(12,10),color=colors)\n",
    "# setting the chart title and axis labels\n",
    "plt.title('YearsAtCompany', fontsize=15)\n",
    "plt.xlabel('YearsAtCompany', fontsize=12)\n",
    "plt.ylabel('Counts',fontsize=12)\n",
    "\n",
    "# show the chart\n",
    "plt.show()"
   ]
  },
  {
   "cell_type": "markdown",
   "id": "1060b1fd",
   "metadata": {},
   "source": [
    "#### 7.2.1 Observation of TotalWorkingYears\n",
    "The \"YearsAtCompany\" data is right-skewed because the mean (7 years) is greater than the median (5 years), and there are some employees who have served the company for a much longer time than the rest of the sample. The maximum value of 40 years is quite far from the mean, indicating that there are a small number of employees who have served the company for a significantly longer time than the majority of the sample. This could be due to various reasons, such as employees who have reached retirement age but are still working, or employees who have been with the company for a long time and have advanced to senior positions.\n",
    "\n",
    "In general, right-skewed distributions are common in many real-world scenarios, especially when dealing with data that has a natural lower bound (such as the minimum number of years an employee can work at a company), but no natural upper bound. It is important to recognize and account for the skewness of the distribution when analyzing the data, as it can impact the interpretation of statistical measures such as the mean and standard deviation."
   ]
  },
  {
   "cell_type": "markdown",
   "id": "99c7de6c",
   "metadata": {},
   "source": [
    "#### 7.3 YearsInCurrentRole"
   ]
  },
  {
   "cell_type": "code",
   "execution_count": 185,
   "id": "eb41d142",
   "metadata": {},
   "outputs": [
    {
     "name": "stdout",
     "output_type": "stream",
     "text": [
      "    Counts Percentages\n",
      "2      372      25.31%\n",
      "0      244      16.60%\n",
      "7      222      15.10%\n",
      "3      135       9.18%\n",
      "4      104       7.07%\n",
      "8       89       6.05%\n",
      "9       67       4.56%\n",
      "1       57       3.88%\n",
      "6       37       2.52%\n",
      "5       36       2.45%\n",
      "10      29       1.97%\n",
      "11      22       1.50%\n",
      "13      14       0.95%\n",
      "14      11       0.75%\n",
      "12      10       0.68%\n",
      "15       8       0.54%\n",
      "16       7       0.48%\n",
      "17       4       0.27%\n",
      "18       2       0.14%\n"
     ]
    }
   ],
   "source": [
    "# creating a new DataFrame with the YearsInCurrentRole counts and percentages\n",
    "YearsInCurrentRole_data = pd.DataFrame({'Counts': df['YearsInCurrentRole'].value_counts(), 'Percentages': df[\"YearsInCurrentRole\"].value_counts()/len(df) * 100})\n",
    "print(YearsInCurrentRole_data.to_string(formatters={'Percentages': '{:.2f}%'.format}))"
   ]
  },
  {
   "cell_type": "code",
   "execution_count": 179,
   "id": "1d4e83eb",
   "metadata": {},
   "outputs": [
    {
     "data": {
      "text/plain": [
       "count    1470.000000\n",
       "mean        4.229252\n",
       "std         3.623137\n",
       "min         0.000000\n",
       "25%         2.000000\n",
       "50%         3.000000\n",
       "75%         7.000000\n",
       "max        18.000000\n",
       "Name: YearsInCurrentRole, dtype: float64"
      ]
     },
     "execution_count": 179,
     "metadata": {},
     "output_type": "execute_result"
    }
   ],
   "source": [
    "df.YearsInCurrentRole.describe()"
   ]
  },
  {
   "cell_type": "code",
   "execution_count": 189,
   "id": "94e8c8a6",
   "metadata": {},
   "outputs": [
    {
     "data": {
      "image/png": "[encoded data removed]",
      "text/plain": [
       "<Figure size 864x720 with 1 Axes>"
      ]
     },
     "metadata": {
      "needs_background": "light"
     },
     "output_type": "display_data"
    }
   ],
   "source": [
    "YearsInCurrentRole_data.plot(kind='bar', figsize=(12,10),color=colors)\n",
    "# setting the chart title and axis labels\n",
    "plt.title('YearsInCurrentRole', fontsize=15)\n",
    "plt.xlabel('YearsInCurrentRole', fontsize=12)\n",
    "plt.ylabel('Counts',fontsize=12)\n",
    "\n",
    "# show the chart\n",
    "plt.show()"
   ]
  },
  {
   "cell_type": "markdown",
   "id": "6ca701cd",
   "metadata": {},
   "source": [
    "#### 7.3.1 Observation of YearsInCurrentRole\n",
    "The median (50th percentile) is 3 years, which means that 50% of the employees have 3 or fewer years of experience in their current role. However, the mean (4.23 years) is greater than the median, indicating that the distribution is right-skewed. This means that there are some employees who have been in their current role for a much longer time, which is causing the tail of the distribution to be longer on the right side.\n",
    "\n",
    "In this case, the maximum value is 18 years, which is a large difference from the median of 3 years. This suggests that there are a small number of employees who have been in their current role for a significantly longer time than the rest of the sample, and this is causing the distribution to be right-skewed."
   ]
  },
  {
   "cell_type": "markdown",
   "id": "fcd4dbc8",
   "metadata": {},
   "source": [
    "#### 7.4 YearsSinceLastPromotion"
   ]
  },
  {
   "cell_type": "code",
   "execution_count": 184,
   "id": "c0c1ec58",
   "metadata": {},
   "outputs": [
    {
     "name": "stdout",
     "output_type": "stream",
     "text": [
      "    Counts Percentages\n",
      "0      581      39.52%\n",
      "1      357      24.29%\n",
      "2      159      10.82%\n",
      "7       76       5.17%\n",
      "4       61       4.15%\n",
      "3       52       3.54%\n",
      "5       45       3.06%\n",
      "6       32       2.18%\n",
      "11      24       1.63%\n",
      "8       18       1.22%\n",
      "9       17       1.16%\n",
      "15      13       0.88%\n",
      "13      10       0.68%\n",
      "12      10       0.68%\n",
      "14       9       0.61%\n",
      "10       6       0.41%\n"
     ]
    }
   ],
   "source": [
    "# creating a new DataFrame with the YearsSinceLastPromotion counts and percentages\n",
    "YearsSinceLastPromotion_data = pd.DataFrame({'Counts': df['YearsSinceLastPromotion'].value_counts(), 'Percentages': df[\"YearsSinceLastPromotion\"].value_counts()/len(df) * 100})\n",
    "print(YearsSinceLastPromotion_data.to_string(formatters={'Percentages': '{:.2f}%'.format}))"
   ]
  },
  {
   "cell_type": "code",
   "execution_count": 180,
   "id": "ce0a03cd",
   "metadata": {},
   "outputs": [
    {
     "data": {
      "text/plain": [
       "count    1470.000000\n",
       "mean        2.187755\n",
       "std         3.222430\n",
       "min         0.000000\n",
       "25%         0.000000\n",
       "50%         1.000000\n",
       "75%         3.000000\n",
       "max        15.000000\n",
       "Name: YearsSinceLastPromotion, dtype: float64"
      ]
     },
     "execution_count": 180,
     "metadata": {},
     "output_type": "execute_result"
    }
   ],
   "source": [
    "df.YearsSinceLastPromotion.describe()"
   ]
  },
  {
   "cell_type": "code",
   "execution_count": 190,
   "id": "128d2f87",
   "metadata": {},
   "outputs": [
    {
     "data": {
      "image/png": "[encoded data removed]",
      "text/plain": [
       "<Figure size 864x720 with 1 Axes>"
      ]
     },
     "metadata": {
      "needs_background": "light"
     },
     "output_type": "display_data"
    }
   ],
   "source": [
    "YearsSinceLastPromotion_data.plot(kind='bar', figsize=(12,10),color=colors)\n",
    "# setting the chart title and axis labels\n",
    "plt.title('YearsSinceLastPromotion', fontsize=15)\n",
    "plt.xlabel('YearsSinceLastPromotion', fontsize=12)\n",
    "plt.ylabel('Counts',fontsize=12)\n",
    "\n",
    "# show the chart\n",
    "plt.show()"
   ]
  },
  {
   "cell_type": "markdown",
   "id": "2d83cd10",
   "metadata": {},
   "source": [
    "#### 7.4.1 Observation of YearsSinceLastPromotion\n",
    "\"YearsSinceLastPromotion\" provides information on how long it has been since the employee was last promoted. The most common value in the column is 0, which means that 581 employees (39.52% of the total) have never been promoted. This is followed by 1 year since the last promotion, with 357 employees (24.29% of the total). The third most common value is 2 years since the last promotion, with 159 employees (10.82% of the total).\n",
    "\n",
    "From this data, we can infer that a large percentage of employees have not been promoted in recent years. The fact that 39.52% of employees have never been promoted suggests that there may be limited opportunities for career advancement in the company. Additionally, the fact that the majority of employees have not been promoted in the last two years may indicate a lack of emphasis on employee development and retention by the company. It's important to note that while the data does suggest a lack of recent promotions, it may not necessarily indicate a lack of opportunities or a lack of emphasis on employee development and retention by the company. There could be other reasons why employees have not been promoted, such as a lack of qualified candidates for open positions or a company culture that values stability and longevity over rapid career advancement."
   ]
  },
  {
   "cell_type": "markdown",
   "id": "e874cc32",
   "metadata": {},
   "source": [
    "#### 7.5 YearsWithCurrManager"
   ]
  },
  {
   "cell_type": "code",
   "execution_count": 183,
   "id": "7df25f18",
   "metadata": {},
   "outputs": [
    {
     "name": "stdout",
     "output_type": "stream",
     "text": [
      "    Counts Percentages\n",
      "2      344      23.40%\n",
      "0      263      17.89%\n",
      "7      216      14.69%\n",
      "3      142       9.66%\n",
      "8      107       7.28%\n",
      "4       98       6.67%\n",
      "1       76       5.17%\n",
      "9       64       4.35%\n",
      "5       31       2.11%\n",
      "6       29       1.97%\n",
      "10      27       1.84%\n",
      "11      22       1.50%\n",
      "12      18       1.22%\n",
      "13      14       0.95%\n",
      "17       7       0.48%\n",
      "15       5       0.34%\n",
      "14       5       0.34%\n",
      "16       2       0.14%\n"
     ]
    }
   ],
   "source": [
    "# creating a new DataFrame with the YearsWithCurrManager counts and percentages\n",
    "YearsWithCurrManager_data = pd.DataFrame({'Counts': df['YearsWithCurrManager'].value_counts(), 'Percentages': df[\"YearsWithCurrManager\"].value_counts()/len(df) * 100})\n",
    "print(YearsWithCurrManager_data.to_string(formatters={'Percentages': '{:.2f}%'.format}))"
   ]
  },
  {
   "cell_type": "code",
   "execution_count": 181,
   "id": "6eef8ba1",
   "metadata": {},
   "outputs": [
    {
     "data": {
      "text/plain": [
       "count    1470.000000\n",
       "mean        4.123129\n",
       "std         3.568136\n",
       "min         0.000000\n",
       "25%         2.000000\n",
       "50%         3.000000\n",
       "75%         7.000000\n",
       "max        17.000000\n",
       "Name: YearsWithCurrManager, dtype: float64"
      ]
     },
     "execution_count": 181,
     "metadata": {},
     "output_type": "execute_result"
    }
   ],
   "source": [
    "df.YearsWithCurrManager.describe()"
   ]
  },
  {
   "cell_type": "code",
   "execution_count": 191,
   "id": "f0f34b89",
   "metadata": {},
   "outputs": [
    {
     "data": {
      "image/png": "[encoded data removed]",
      "text/plain": [
       "<Figure size 864x720 with 1 Axes>"
      ]
     },
     "metadata": {
      "needs_background": "light"
     },
     "output_type": "display_data"
    }
   ],
   "source": [
    "YearsWithCurrManager_data.plot(kind='bar', figsize=(12,10),color=colors)\n",
    "# setting the chart title and axis labels\n",
    "plt.title('YearsWithCurrManager', fontsize=15)\n",
    "plt.xlabel('YearsWithCurrManager', fontsize=12)\n",
    "plt.ylabel('Counts',fontsize=12)\n",
    "\n",
    "# show the chart\n",
    "plt.show()"
   ]
  },
  {
   "cell_type": "markdown",
   "id": "5ea36090",
   "metadata": {},
   "source": [
    "#### 7.5.1 Observation of YearsWithCurrManager\n",
    "The column \"YearsWithCurrManager\" refers to the number of years employees have been working with their current manager. The mean number of years is 4.12, with a standard deviation of 3.57. The minimum number of years is 0, which indicates that some employees have had multiple managers within the same year. The 25th percentile of employees have worked with their current manager for 2 years or less, while the 50th percentile (median) is 3 years, and the 75th percentile is 7 years.\n",
    "\n",
    "It appears that almost 500 people, which is more than 1/3 of the total sample, have had a shift to different managers after working for 2.5 years. This suggests that some employees may be seeking new management opportunities or may be assigned to different managers for organizational reasons.\n",
    "\n",
    "Additionally, almost 300 people have shown a shift to different managers within the first year of working with their current manager. This could be due to various reasons, such as dissatisfaction with the manager or a change in job responsibilities.\n",
    "\n",
    "Overall, the data shows that there is a considerable amount of variation in the number of years employees have worked with their current manager, with a significant number of employees changing managers relatively quickly.This information could be useful for understanding employee turnover rates and job satisfaction. It suggests that many employees may not be satisfied with their current manager or may be seeking new opportunities for career growth.\n",
    "\n",
    "\n",
    "\n"
   ]
  },
  {
   "cell_type": "markdown",
   "id": "e61f8c07",
   "metadata": {},
   "source": [
    "### 8. Salary related analysis\n",
    "#### 8.1 Statistical Analysis of HourlyRate, MonthlyIncome, MonthlyRate and PercentSalaryHike               "
   ]
  },
  {
   "cell_type": "code",
   "execution_count": 139,
   "id": "adaf5b38",
   "metadata": {},
   "outputs": [],
   "source": [
    "salary_cols=['HourlyRate','MonthlyIncome','MonthlyRate','PercentSalaryHike']"
   ]
  },
  {
   "cell_type": "code",
   "execution_count": 140,
   "id": "bda7230b",
   "metadata": {},
   "outputs": [
    {
     "data": {
      "text/html": [
       "<div>\n",
       "<style scoped>\n",
       "    .dataframe tbody tr th:only-of-type {\n",
       "        vertical-align: middle;\n",
       "    }\n",
       "\n",
       "    .dataframe tbody tr th {\n",
       "        vertical-align: top;\n",
       "    }\n",
       "\n",
       "    .dataframe thead th {\n",
       "        text-align: right;\n",
       "    }\n",
       "</style>\n",
       "<table border=\"1\" class=\"dataframe\">\n",
       "  <thead>\n",
       "    <tr style=\"text-align: right;\">\n",
       "      <th></th>\n",
       "      <th>HourlyRate</th>\n",
       "      <th>MonthlyIncome</th>\n",
       "      <th>MonthlyRate</th>\n",
       "      <th>PercentSalaryHike</th>\n",
       "    </tr>\n",
       "  </thead>\n",
       "  <tbody>\n",
       "    <tr>\n",
       "      <th>count</th>\n",
       "      <td>1470.000000</td>\n",
       "      <td>1470.000000</td>\n",
       "      <td>1470.000000</td>\n",
       "      <td>1470.000000</td>\n",
       "    </tr>\n",
       "    <tr>\n",
       "      <th>mean</th>\n",
       "      <td>65.891156</td>\n",
       "      <td>6502.931293</td>\n",
       "      <td>14313.103401</td>\n",
       "      <td>15.209524</td>\n",
       "    </tr>\n",
       "    <tr>\n",
       "      <th>std</th>\n",
       "      <td>20.329428</td>\n",
       "      <td>4707.956783</td>\n",
       "      <td>7117.786044</td>\n",
       "      <td>3.659938</td>\n",
       "    </tr>\n",
       "    <tr>\n",
       "      <th>min</th>\n",
       "      <td>30.000000</td>\n",
       "      <td>1009.000000</td>\n",
       "      <td>2094.000000</td>\n",
       "      <td>11.000000</td>\n",
       "    </tr>\n",
       "    <tr>\n",
       "      <th>25%</th>\n",
       "      <td>48.000000</td>\n",
       "      <td>2911.000000</td>\n",
       "      <td>8047.000000</td>\n",
       "      <td>12.000000</td>\n",
       "    </tr>\n",
       "    <tr>\n",
       "      <th>50%</th>\n",
       "      <td>66.000000</td>\n",
       "      <td>4919.000000</td>\n",
       "      <td>14235.500000</td>\n",
       "      <td>14.000000</td>\n",
       "    </tr>\n",
       "    <tr>\n",
       "      <th>75%</th>\n",
       "      <td>83.750000</td>\n",
       "      <td>8379.000000</td>\n",
       "      <td>20461.500000</td>\n",
       "      <td>18.000000</td>\n",
       "    </tr>\n",
       "    <tr>\n",
       "      <th>max</th>\n",
       "      <td>100.000000</td>\n",
       "      <td>19999.000000</td>\n",
       "      <td>26999.000000</td>\n",
       "      <td>25.000000</td>\n",
       "    </tr>\n",
       "  </tbody>\n",
       "</table>\n",
       "</div>"
      ],
      "text/plain": [
       "        HourlyRate  MonthlyIncome   MonthlyRate  PercentSalaryHike\n",
       "count  1470.000000    1470.000000   1470.000000        1470.000000\n",
       "mean     65.891156    6502.931293  14313.103401          15.209524\n",
       "std      20.329428    4707.956783   7117.786044           3.659938\n",
       "min      30.000000    1009.000000   2094.000000          11.000000\n",
       "25%      48.000000    2911.000000   8047.000000          12.000000\n",
       "50%      66.000000    4919.000000  14235.500000          14.000000\n",
       "75%      83.750000    8379.000000  20461.500000          18.000000\n",
       "max     100.000000   19999.000000  26999.000000          25.000000"
      ]
     },
     "execution_count": 140,
     "metadata": {},
     "output_type": "execute_result"
    }
   ],
   "source": [
    "df[salary_cols].describe()"
   ]
  },
  {
   "cell_type": "markdown",
   "id": "80f0f29b",
   "metadata": {},
   "source": [
    "#### Visualizing the statistical distribution"
   ]
  },
  {
   "cell_type": "markdown",
   "id": "7cd9581a",
   "metadata": {},
   "source": [
    "#### 8.2 MonthlyIncome                 "
   ]
  },
  {
   "cell_type": "code",
   "execution_count": 165,
   "id": "e7f749b7",
   "metadata": {},
   "outputs": [
    {
     "data": {
      "image/png": "[encoded data removed]",
      "text/plain": [
       "<Figure size 1440x1440 with 1 Axes>"
      ]
     },
     "metadata": {
      "needs_background": "light"
     },
     "output_type": "display_data"
    }
   ],
   "source": [
    "# Set the figure size and colorblind palette\n",
    "sns.set_palette(\"colorblind\")\n",
    "plt.figure(figsize=(20, 20))\n",
    "plt.title('Distribution of MonthlyIncome Columns')\n",
    "# Add labels and titles\n",
    "plt.xlabel('Value')\n",
    "plt.ylabel('Frequency')\n",
    "df['MonthlyIncome'].hist(bins=20,grid=False)\n",
    "\n",
    "# Show the plot\n",
    "plt.show()"
   ]
  },
  {
   "cell_type": "code",
   "execution_count": 166,
   "id": "2d91b3fa",
   "metadata": {},
   "outputs": [
    {
     "data": {
      "image/png": "[encoded data removed]",
      "text/plain": [
       "<Figure size 720x720 with 1 Axes>"
      ]
     },
     "metadata": {
      "needs_background": "light"
     },
     "output_type": "display_data"
    }
   ],
   "source": [
    "fig, ax = plt.subplots(figsize=(10, 10))\n",
    "sns.boxplot(x=df[\"MonthlyIncome\"],ax=ax)\n",
    "plt.title(\"Statistical Distribution of Monthly Income\")\n",
    "plt.show()"
   ]
  },
  {
   "cell_type": "markdown",
   "id": "26d357c9",
   "metadata": {},
   "source": [
    "#### Observation of MonthlyIncome\n",
    "The fact that the Monthly Income data is right-skewed means that there are fewer employees with higher incomes, and the majority of employees fall within the lower income ranges. This is indicated by the fact that the mean (6502.93) is higher than the median (4919), which suggests that there are a few high-income employees who are pulling the average up, but the majority of employees have lower incomes.\n",
    "\n",
    "The gap of 1500 between the mean and median is significant and indicates that the distribution is not symmetrical. This is further supported by the fact that the distribution has a long right tail. The majority of the sample falls below the upper quartile, which means that the top 25% of employees have higher incomes than the rest of the sample. This could be due to factors such as seniority, education, or job position that are associated with higher salaries."
   ]
  },
  {
   "cell_type": "markdown",
   "id": "13e362fc",
   "metadata": {},
   "source": [
    "#### 8.3 MonthlyRate                  "
   ]
  },
  {
   "cell_type": "code",
   "execution_count": 167,
   "id": "c76cbc99",
   "metadata": {},
   "outputs": [
    {
     "data": {
      "image/png": "[encoded data removed]",
      "text/plain": [
       "<Figure size 1440x1440 with 1 Axes>"
      ]
     },
     "metadata": {
      "needs_background": "light"
     },
     "output_type": "display_data"
    }
   ],
   "source": [
    "# Set the figure size and colorblind palette\n",
    "sns.set_palette(\"colorblind\")\n",
    "plt.figure(figsize=(20, 20))\n",
    "plt.title('Distribution of MonthlyRate Columns')\n",
    "# Add labels and titles\n",
    "plt.xlabel('Value')\n",
    "plt.ylabel('Frequency')\n",
    "df['MonthlyRate'].hist(bins=20,grid=False)\n",
    "\n",
    "# Show the plot\n",
    "plt.show()"
   ]
  },
  {
   "cell_type": "code",
   "execution_count": 168,
   "id": "a055432f",
   "metadata": {},
   "outputs": [
    {
     "data": {
      "image/png": "[encoded data removed]",
      "text/plain": [
       "<Figure size 720x720 with 1 Axes>"
      ]
     },
     "metadata": {
      "needs_background": "light"
     },
     "output_type": "display_data"
    }
   ],
   "source": [
    "fig, ax = plt.subplots(figsize=(10, 10))\n",
    "sns.boxplot(x=df[\"MonthlyRate\"],ax=ax)\n",
    "plt.title(\"Statistical Distribution of MonthlyRate\")\n",
    "plt.show()"
   ]
  },
  {
   "cell_type": "markdown",
   "id": "b0d1276c",
   "metadata": {},
   "source": [
    "#### Observation of MonthlyRate\n",
    "The statistical distribution of the MonthlyRate variable indicates that the average monthly rate is 14313.10 with a standard deviation of 7117.79. The minimum monthly rate is 2094, and the maximum is 26999. The 25th percentile, which represents the lower quartile, is 8047, while the 50th percentile, also known as the median, is 14235.50. The upper quartile, which is the 75th percentile, is 20461.50.\n",
    "\n",
    "Based on the given statistical values, the MonthlyRate variable appears to have a normal distribution, which means that the data points are evenly distributed around the mean value. The distribution is symmetric and bell-shaped, with most data points concentrated around the mean value. However, there could be some outliers on the higher side of the distribution, as evidenced by the maximum value of 26999.\n",
    "\n",
    "Overall, the distribution suggests that the monthly rates are spread out, with a few employees having rates much higher than the average, while most employees have rates around the median value."
   ]
  },
  {
   "cell_type": "markdown",
   "id": "f756573a",
   "metadata": {},
   "source": [
    "#### 8.4 PercentSalaryHike  "
   ]
  },
  {
   "cell_type": "code",
   "execution_count": 170,
   "id": "0f9cef46",
   "metadata": {},
   "outputs": [
    {
     "data": {
      "image/png": "[encoded data removed]",
      "text/plain": [
       "<Figure size 1440x1440 with 1 Axes>"
      ]
     },
     "metadata": {
      "needs_background": "light"
     },
     "output_type": "display_data"
    }
   ],
   "source": [
    "# Set the figure size and colorblind palette\n",
    "sns.set_palette(\"colorblind\")\n",
    "plt.figure(figsize=(20, 20))\n",
    "plt.title('Distribution of PercentSalaryHike Columns')\n",
    "# Add labels and titles\n",
    "plt.xlabel('Value')\n",
    "plt.ylabel('Frequency')\n",
    "df['PercentSalaryHike'].hist(bins=20,grid=False)\n",
    "\n",
    "# Show the plot\n",
    "plt.show()"
   ]
  },
  {
   "cell_type": "code",
   "execution_count": 171,
   "id": "24305e03",
   "metadata": {},
   "outputs": [
    {
     "data": {
      "image/png": "[encoded data removed]",
      "text/plain": [
       "<Figure size 720x720 with 1 Axes>"
      ]
     },
     "metadata": {
      "needs_background": "light"
     },
     "output_type": "display_data"
    }
   ],
   "source": [
    "fig, ax = plt.subplots(figsize=(10, 10))\n",
    "sns.boxplot(x=df[\"PercentSalaryHike\"],ax=ax)\n",
    "plt.title(\"Statistical Distribution of PercentSalaryHike\")\n",
    "plt.show()"
   ]
  },
  {
   "cell_type": "markdown",
   "id": "70bba8ea",
   "metadata": {},
   "source": [
    "#### Observation of PercentSalaryHike\n",
    "The statistical distribution of the PercentSalaryHike variable indicates that the average percent salary hike is 15.21 with a standard deviation of 3.66. The minimum percent salary hike is 11, and the maximum is 25. The 25th percentile, which represents the lower quartile, is 12, while the 50th percentile, also known as the median, is 14. The upper quartile, which is the 75th percentile, is 18.\n",
    "\n",
    "Based on the given statistical values, the PercentSalaryHike variable appears to have a slightly right-skewed distribution, which means that there are more data points on the lower side of the distribution. The distribution is also quite narrow, with most data points clustered around the mean value. However, there are some employees who have received a higher than average salary hike, as evidenced by the maximum value of 25.\n",
    "\n",
    "Overall, the distribution suggests that most employees received a salary hike within the range of 12 to 18 percent. However, some employees received a lower than average hike, while a few employees received a much higher than average hike.\n"
   ]
  },
  {
   "cell_type": "markdown",
   "id": "11e9d86c",
   "metadata": {},
   "source": [
    "### 8.5 HourlyRate"
   ]
  },
  {
   "cell_type": "code",
   "execution_count": 174,
   "id": "28dd610a",
   "metadata": {},
   "outputs": [
    {
     "data": {
      "image/png": "[encoded data removed]",
      "text/plain": [
       "<Figure size 1440x1440 with 1 Axes>"
      ]
     },
     "metadata": {
      "needs_background": "light"
     },
     "output_type": "display_data"
    }
   ],
   "source": [
    "# Set the figure size and colorblind palette\n",
    "sns.set_palette(\"colorblind\")\n",
    "plt.figure(figsize=(20, 20))\n",
    "plt.title('Distribution of HourlyRate Columns')\n",
    "# Add labels and titles\n",
    "plt.xlabel('Value')\n",
    "plt.ylabel('Frequency')\n",
    "df['HourlyRate'].hist(bins=20,grid=False)\n",
    "\n",
    "# Show the plot\n",
    "plt.show()"
   ]
  },
  {
   "cell_type": "code",
   "execution_count": 175,
   "id": "4999ec0c",
   "metadata": {},
   "outputs": [
    {
     "data": {
      "image/png": "[encoded data removed]",
      "text/plain": [
       "<Figure size 720x720 with 1 Axes>"
      ]
     },
     "metadata": {
      "needs_background": "light"
     },
     "output_type": "display_data"
    }
   ],
   "source": [
    "fig, ax = plt.subplots(figsize=(10, 10))\n",
    "sns.boxplot(x=df[\"HourlyRate\"],ax=ax)\n",
    "plt.title(\"Statistical Distribution of HourlyRate\")\n",
    "plt.show()"
   ]
  },
  {
   "cell_type": "markdown",
   "id": "3e99a1b7",
   "metadata": {},
   "source": [
    "#### Observation of HourlyRate\n",
    "The average HourlyRate is 65.89, indicating the central tendency of the data.The standard deviation of the HourlyRate is 20.33, indicating the amount of variation in the data. The minimum HourlyRate is 30, and the maximum HourlyRate is 100, showing the range of HourlyRate values. The 25th percentile is 48, the median is 66, and the 75th percentile is 83.75, indicating the distribution of the data and how many HourlyRate values fall within certain ranges."
   ]
  },
  {
   "cell_type": "markdown",
   "id": "037482c2",
   "metadata": {},
   "source": [
    "### 9. Conclusion\n",
    "\n",
    "HR analytics involves using data analysis and statistical methods to gain insights and make data-driven decisions related to workforce management. Univariate analysis, which involves analyzing a single variable, is a statistical technique used in HR analytics to identify patterns and trends in HR data. Univariate analysis provides a foundation for more complex analyses and helps organizations make data-driven decisions related to talent management, employee retention, recruitment, and other HR-related activities."
   ]
  },
  {
   "cell_type": "markdown",
   "id": "dcad0bfe",
   "metadata": {},
   "source": []
  }
 ],
 "metadata": {
  "kernelspec": {
   "display_name": "Python 3 (ipykernel)",
   "language": "python",
   "name": "python3"
  },
  "language_info": {
   "codemirror_mode": {
    "name": "ipython",
    "version": 3
   },
   "file_extension": ".py",
   "mimetype": "text/x-python",
   "name": "python",
   "nbconvert_exporter": "python",
   "pygments_lexer": "ipython3",
   "version": "3.8.8"
  }
 },
 "nbformat": 4,
 "nbformat_minor": 5
}
